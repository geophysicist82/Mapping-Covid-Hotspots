{
 "cells": [
  {
   "cell_type": "code",
   "execution_count": null,
   "metadata": {},
   "outputs": [],
   "source": [
    "# pip install GetOldTweets3\n",
    "# run in terminal\n",
    "# jennyjames@Jennys-MacBook-Air Project5-Mapping-Covid-Hotspots % GetOldTweets3 \n",
    "#--querysearch \"covid\" --since 2020-05-01 --until 2020-05-02 --maxtweets 1000"
   ]
  },
  {
   "cell_type": "code",
   "execution_count": 25,
   "metadata": {},
   "outputs": [],
   "source": [
    "import GetOldTweets3 as got\n",
    "from pyquery import PyQuery\n",
    "import pandas as pd\n",
    "import os\n",
    "import glob\n",
    "import re\n",
    "import time"
   ]
  },
  {
   "cell_type": "code",
   "execution_count": 5,
   "metadata": {},
   "outputs": [],
   "source": [
    "# Define a function to request tweets within a certain time period\n",
    "def get_tweets(query, since, until, max_tweets,location, radius):\n",
    "    # Set our tweet criteria using GetOldTweets3\n",
    "    tweetCriteria = got.manager.TweetCriteria()\\\n",
    "                                            .setQuerySearch(query)\\\n",
    "                                            .setSince(since)\\\n",
    "                                            .setUntil(until)\\\n",
    "                                            .setMaxTweets(max_tweets)\\\n",
    "                                            .setNear(location)\\\n",
    "                                            .setWithin(radius)\n",
    "    \n",
    "    tweet = got.manager.TweetManager.getTweets(tweetCriteria)\n",
    "    return tweet"
   ]
  },
  {
   "cell_type": "code",
   "execution_count": 6,
   "metadata": {},
   "outputs": [],
   "source": [
    "def create_df(tweet):\n",
    "    total_list = []\n",
    "    for i in range(len(tweet)):\n",
    "        my_dict = {\n",
    "            \"id\" : tweet[i].id,\n",
    "            \"text\" : tweet[i].text,\n",
    "            \"date\" : tweet[i].date,\n",
    "            \"retweets\" : tweet[i].retweets,\n",
    "            \"favorites\" : tweet[i].favorites,\n",
    "            \"mentions\" : tweet[i].mentions,\n",
    "            \"hashtags\" : tweet[i].hashtags,\n",
    "            \"geo\" : tweet[i].geo  \n",
    "        }\n",
    "        total_list.append(my_dict)\n",
    "    return pd.DataFrame(total_list)"
   ]
  },
  {
   "cell_type": "code",
   "execution_count": 7,
   "metadata": {},
   "outputs": [],
   "source": [
    "since_list = [\"2020-03-01\",\"2020-03-08\", \"2020-03-15\", \"2020-03-22\", \"2020-03-29\",\n",
    "             \"2020-04-05\", \"2020-04-12\", \"2020-04-19\", \"2020-04-26\", \"2020-05-03\",\n",
    "             \"2020-05-10\", \"2020-05-17\", \"2020-05-24\", \"2020-05-31\" ,\"2020-06-07\",\n",
    "             \"2020-06-14\", \"2020-06-21\", \"2020-06-28\", \"2020-07-05\", \"2020-07-12\",\n",
    "             \"2020-07-19\", \"2020-07-26\", \"2020-08-02\", \"2020-08-09\", \"2020-08-16\",\n",
    "             \"2020-08-23\", \"2020-08-30\"]\n",
    "\n",
    "until_list = [\"2020-03-08\", \"2020-03-15\", \"2020-03-22\", \"2020-03-29\",\"2020-04-05\", \n",
    "              \"2020-04-12\", \"2020-04-19\", \"2020-04-26\", \"2020-05-03\",\"2020-05-10\", \n",
    "              \"2020-05-17\", \"2020-05-24\", \"2020-05-31\" ,\"2020-06-07\",\"2020-06-14\", \n",
    "              \"2020-06-21\", \"2020-06-28\", \"2020-07-05\", \"2020-07-12\",\"2020-07-19\", \n",
    "              \"2020-07-26\", \"2020-08-02\", \"2020-08-09\", \"2020-08-16\",\"2020-08-23\", \n",
    "              \"2020-08-30\", \"2020-09-06\"]"
   ]
  },
  {
   "cell_type": "code",
   "execution_count": 44,
   "metadata": {},
   "outputs": [],
   "source": [
    "def all_tweets(region, query, since, until,\n",
    "                max_tweets, location, radius):\n",
    "    t0 = time.time() \n",
    "    df = pd.DataFrame()\n",
    "    for i in range(len(since)):\n",
    "        x = get_tweets(query=query,\n",
    "                   since=since[i],\n",
    "                   until=until[i],\n",
    "                   max_tweets = max_tweets,\n",
    "                   location = location,\n",
    "                   radius = radius\n",
    "                  )\n",
    "        df = pd.concat([df,create_df(x)])\n",
    "        print(f\"Index {i}: week {since[i]} complete at {t0 - time.time()} seconds\")\n",
    "        #if i < len(since)-1:\n",
    "            #time.sleep(60)\n",
    "    print(f\"Final run time: {t0 - time.time()} seconds\")\n",
    "    df[\"region\"] = region\n",
    "    df.to_csv(f\"{region}_data.csv\")\n",
    "    return df"
   ]
  },
  {
   "cell_type": "code",
   "execution_count": 19,
   "metadata": {},
   "outputs": [],
   "source": [
    "since_list = [\"2020-08-30\"]\n",
    "\n",
    "until_list = [\"2020-09-06\"]"
   ]
  },
  {
   "cell_type": "code",
   "execution_count": 47,
   "metadata": {},
   "outputs": [],
   "source": [
    "since = [\"2020-08-30\", \"2020-08-31\",\"2020-09-01\",\"2020-09-02\",\"2020-09-03\"\n",
    "                        \"2020-09-04\",\"2020-09-05\"]\n",
    "until = [\"2020-08-31\",\"2020-09-01\",\"2020-09-02\",\"2020-09-03\"\n",
    "                        \"2020-09-04\",\"2020-09-05\",\"2020-09-06\"]"
   ]
  },
  {
   "cell_type": "code",
   "execution_count": 48,
   "metadata": {},
   "outputs": [
    {
     "name": "stdout",
     "output_type": "stream",
     "text": [
      "Index 0: week 2020-08-30 complete at -69.84051513671875 seconds\n",
      "Index 1: week 2020-08-31 complete at -144.24822187423706 seconds\n",
      "Index 2: week 2020-09-01 complete at -217.52797484397888 seconds\n",
      "Index 3: week 2020-09-02 complete at -217.78170084953308 seconds\n",
      "Index 4: week 2020-09-032020-09-04 complete at -218.08820986747742 seconds\n",
      "Index 5: week 2020-09-05 complete at -285.06636691093445 seconds\n",
      "Final run time: -285.0665349960327 seconds\n"
     ]
    }
   ],
   "source": [
    "sanantoniodf= all_tweets(\n",
    "                region =  \"SanAntonio_noquery\",\n",
    "                query = ' ',\n",
    "                since = since,\n",
    "                until = until,\n",
    "                max_tweets = 2000,\n",
    "                location = \"29.42412, -98.49363\",\n",
    "                radius = \"50km\")"
   ]
  },
  {
   "cell_type": "code",
   "execution_count": null,
   "metadata": {},
   "outputs": [],
   "source": [
    "sanantoniodf"
   ]
  },
  {
   "cell_type": "code",
   "execution_count": 51,
   "metadata": {},
   "outputs": [
    {
     "name": "stdout",
     "output_type": "stream",
     "text": [
      "Index 0: week 2020-08-30 complete at -72.90986704826355 seconds\n",
      "Index 1: week 2020-08-31 complete at -145.2491238117218 seconds\n",
      "Index 2: week 2020-09-01 complete at -216.43714880943298 seconds\n",
      "Index 3: week 2020-09-02 complete at -216.68086099624634 seconds\n",
      "Index 4: week 2020-09-032020-09-04 complete at -216.988685131073 seconds\n",
      "Index 5: week 2020-09-05 complete at -287.6126117706299 seconds\n",
      "Final run time: -287.61286187171936 seconds\n"
     ]
    }
   ],
   "source": [
    "austindf= all_tweets(\n",
    "                region =  \"Austin_noquery\",\n",
    "                query = ' ',\n",
    "                since = since,\n",
    "                until = until,\n",
    "                max_tweets = 2000,\n",
    "                location = \"30.26715 -97.74306\",\n",
    "                radius = \"50km\")"
   ]
  },
  {
   "cell_type": "code",
   "execution_count": null,
   "metadata": {},
   "outputs": [],
   "source": [
    "austindf.head(50)"
   ]
  },
  {
   "cell_type": "code",
   "execution_count": null,
   "metadata": {},
   "outputs": [],
   "source": [
    "for i in range (0,5000):\n",
    "    if austindf['text'][i][u'lang']==u'en':\n",
    "      print(austindf['text'][i]['text'])\n",
    "      print('\\n')"
   ]
  },
  {
   "cell_type": "code",
   "execution_count": null,
   "metadata": {},
   "outputs": [],
   "source": [
    "25.90175 -97.49748"
   ]
  },
  {
   "cell_type": "code",
   "execution_count": 53,
   "metadata": {},
   "outputs": [
    {
     "name": "stdout",
     "output_type": "stream",
     "text": [
      "Index 0: week 2020-08-30 complete at -41.2789089679718 seconds\n",
      "Index 1: week 2020-08-31 complete at -85.31706404685974 seconds\n",
      "Index 2: week 2020-09-01 complete at -125.73128509521484 seconds\n",
      "Index 3: week 2020-09-02 complete at -125.97137713432312 seconds\n",
      "Index 4: week 2020-09-032020-09-04 complete at -126.34893488883972 seconds\n",
      "Index 5: week 2020-09-05 complete at -202.14029693603516 seconds\n",
      "Final run time: -202.151869058609 seconds\n"
     ]
    }
   ],
   "source": [
    "corpusdf= all_tweets(\n",
    "                region =  \"Corpus_noquery\",\n",
    "                query = ' ',\n",
    "                since = since,\n",
    "                until = until,\n",
    "                max_tweets = 2000,\n",
    "                location = \"27.80058, -97.39638\",\n",
    "                radius = \"27mi\")"
   ]
  },
  {
   "cell_type": "code",
   "execution_count": 28,
   "metadata": {},
   "outputs": [
    {
     "data": {
      "text/plain": [
       "(5000, 9)"
      ]
     },
     "execution_count": 28,
     "metadata": {},
     "output_type": "execute_result"
    }
   ],
   "source": [
    "corpusdf.shape"
   ]
  },
  {
   "cell_type": "code",
   "execution_count": 54,
   "metadata": {},
   "outputs": [
    {
     "data": {
      "text/plain": [
       "25"
      ]
     },
     "execution_count": 54,
     "metadata": {},
     "output_type": "execute_result"
    }
   ],
   "source": [
    "corpus_covid = corpusdf['text'].str.contains('covid|coronavirus', flags=re.IGNORECASE, regex=True).sum()\n",
    "corpus_covid"
   ]
  },
  {
   "cell_type": "code",
   "execution_count": 52,
   "metadata": {},
   "outputs": [
    {
     "data": {
      "text/plain": [
       "23"
      ]
     },
     "execution_count": 52,
     "metadata": {},
     "output_type": "execute_result"
    }
   ],
   "source": [
    "austin_covid = austindf['text'].str.contains('covid|coronavirus', flags=re.IGNORECASE, regex=True).sum()\n",
    "austin_covid"
   ]
  },
  {
   "cell_type": "code",
   "execution_count": 50,
   "metadata": {},
   "outputs": [
    {
     "data": {
      "text/plain": [
       "39"
      ]
     },
     "execution_count": 50,
     "metadata": {},
     "output_type": "execute_result"
    }
   ],
   "source": [
    "sanantonio_covid = sanantoniodf['text'].str.contains('covid|coronavirus', flags=re.IGNORECASE, regex=True).sum()\n",
    "sanantonio_covid"
   ]
  },
  {
   "cell_type": "code",
   "execution_count": 62,
   "metadata": {},
   "outputs": [
    {
     "name": "stdout",
     "output_type": "stream",
     "text": [
      "Index 0: week 2020-08-30 complete at -14.94557785987854 seconds\n",
      "Index 1: week 2020-08-31 complete at -38.22645902633667 seconds\n",
      "Index 2: week 2020-09-01 complete at -61.72081708908081 seconds\n",
      "Index 3: week 2020-09-02 complete at -62.36912393569946 seconds\n",
      "Index 4: week 2020-09-032020-09-04 complete at -62.666393995285034 seconds\n",
      "Index 5: week 2020-09-05 complete at -147.65590119361877 seconds\n",
      "Final run time: -147.6574068069458 seconds\n"
     ]
    }
   ],
   "source": [
    "harlingen_df= all_tweets(\n",
    "                region =  \"Harlingen\",\n",
    "                query = ' ',\n",
    "                since = since,\n",
    "                until = until,\n",
    "                max_tweets = 2000,\n",
    "                location = \"26.190631, -97.696103\",\n",
    "                radius = \"13mi\")"
   ]
  },
  {
   "cell_type": "code",
   "execution_count": 63,
   "metadata": {},
   "outputs": [
    {
     "data": {
      "text/plain": [
       "15"
      ]
     },
     "execution_count": 63,
     "metadata": {},
     "output_type": "execute_result"
    }
   ],
   "source": [
    "harlingen_covid = harlingen_df['text'].str.contains('covid|coronavirus', flags=re.IGNORECASE, regex=True).sum()\n",
    "harlingen_covid"
   ]
  },
  {
   "cell_type": "code",
   "execution_count": 60,
   "metadata": {},
   "outputs": [
    {
     "name": "stdout",
     "output_type": "stream",
     "text": [
      "Index 0: week 2020-08-30 complete at -12.09786319732666 seconds\n",
      "Index 1: week 2020-08-31 complete at -23.921255350112915 seconds\n",
      "Index 2: week 2020-09-01 complete at -36.7600531578064 seconds\n",
      "Index 3: week 2020-09-02 complete at -37.030314207077026 seconds\n",
      "Index 4: week 2020-09-032020-09-04 complete at -37.36368417739868 seconds\n",
      "Index 5: week 2020-09-05 complete at -109.37401723861694 seconds\n",
      "Final run time: -109.37419629096985 seconds\n"
     ]
    }
   ],
   "source": [
    "brownsville_df= all_tweets(\n",
    "                region =  \"Brownsville\",\n",
    "                query = ' ',\n",
    "                since = since,\n",
    "                until = until,\n",
    "                max_tweets = 2000,\n",
    "                location = \"25.90175, -97.49748\",\n",
    "                radius = \"15mi\")"
   ]
  },
  {
   "cell_type": "code",
   "execution_count": 61,
   "metadata": {},
   "outputs": [
    {
     "data": {
      "text/plain": [
       "23"
      ]
     },
     "execution_count": 61,
     "metadata": {},
     "output_type": "execute_result"
    }
   ],
   "source": [
    "brownsville_covid = brownsville_df['text'].str.contains('covid|coronavirus', flags=re.IGNORECASE, regex=True).sum()\n",
    "brownsville_covid"
   ]
  },
  {
   "cell_type": "code",
   "execution_count": 64,
   "metadata": {},
   "outputs": [
    {
     "name": "stdout",
     "output_type": "stream",
     "text": [
      "Index 0: week 2020-08-30 complete at -43.79415202140808 seconds\n",
      "Index 1: week 2020-08-31 complete at -95.67512488365173 seconds\n",
      "Index 2: week 2020-09-01 complete at -151.62063884735107 seconds\n",
      "Index 3: week 2020-09-02 complete at -151.87824606895447 seconds\n",
      "Index 4: week 2020-09-032020-09-04 complete at -152.18713998794556 seconds\n",
      "Index 5: week 2020-09-05 complete at -221.11545515060425 seconds\n",
      "Final run time: -221.11564111709595 seconds\n"
     ]
    }
   ],
   "source": [
    "mcallen_df= all_tweets(\n",
    "                region =  \"Mcallen\",\n",
    "                query = ' ',\n",
    "                since = since,\n",
    "                until = until,\n",
    "                max_tweets = 2000,\n",
    "                location = \"26.209832494, -98.235165726\",\n",
    "                radius = \"25mi\")"
   ]
  },
  {
   "cell_type": "code",
   "execution_count": 65,
   "metadata": {},
   "outputs": [
    {
     "name": "stdout",
     "output_type": "stream",
     "text": [
      "<class 'pandas.core.frame.DataFrame'>\n",
      "Int64Index: 6283 entries, 0 to 1999\n",
      "Data columns (total 9 columns):\n",
      " #   Column     Non-Null Count  Dtype              \n",
      "---  ------     --------------  -----              \n",
      " 0   id         6283 non-null   object             \n",
      " 1   text       6283 non-null   object             \n",
      " 2   date       6283 non-null   datetime64[ns, UTC]\n",
      " 3   retweets   6283 non-null   int64              \n",
      " 4   favorites  6283 non-null   int64              \n",
      " 5   mentions   6283 non-null   object             \n",
      " 6   hashtags   6283 non-null   object             \n",
      " 7   geo        6283 non-null   object             \n",
      " 8   region     6283 non-null   object             \n",
      "dtypes: datetime64[ns, UTC](1), int64(2), object(6)\n",
      "memory usage: 490.9+ KB\n"
     ]
    }
   ],
   "source": [
    "mcallen_df.info()"
   ]
  },
  {
   "cell_type": "code",
   "execution_count": 66,
   "metadata": {},
   "outputs": [
    {
     "data": {
      "text/plain": [
       "31"
      ]
     },
     "execution_count": 66,
     "metadata": {},
     "output_type": "execute_result"
    }
   ],
   "source": [
    "mcallen_covid = mcallen_df['text'].str.contains('covid|coronavirus', flags=re.IGNORECASE, regex=True).sum()\n",
    "mcallen_covid"
   ]
  },
  {
   "cell_type": "code",
   "execution_count": 56,
   "metadata": {},
   "outputs": [
    {
     "name": "stdout",
     "output_type": "stream",
     "text": [
      "Index 0: week 2020-08-30 complete at -8.253138065338135 seconds\n",
      "Index 1: week 2020-08-31 complete at -16.476850032806396 seconds\n",
      "Index 2: week 2020-09-01 complete at -25.426342964172363 seconds\n",
      "Index 3: week 2020-09-02 complete at -25.70069694519043 seconds\n",
      "Index 4: week 2020-09-032020-09-04 complete at -26.054773092269897 seconds\n",
      "Index 5: week 2020-09-05 complete at -90.07138586044312 seconds\n",
      "Final run time: -90.07173585891724 seconds\n"
     ]
    }
   ],
   "source": [
    "sanangelodf= all_tweets(\n",
    "                region =  \"San Angelo\",\n",
    "                query = ' ',\n",
    "                since = since,\n",
    "                until = until,\n",
    "                max_tweets = 2000,\n",
    "                location = \"31.46377, -100.43704\",\n",
    "                radius = \"10mi\")"
   ]
  },
  {
   "cell_type": "code",
   "execution_count": 57,
   "metadata": {},
   "outputs": [
    {
     "data": {
      "text/plain": [
       "29"
      ]
     },
     "execution_count": 57,
     "metadata": {},
     "output_type": "execute_result"
    }
   ],
   "source": [
    "sanangelo_covid = sanangelodf['text'].str.contains('covid|coronavirus', flags=re.IGNORECASE, regex=True).sum()\n",
    "sanangelo_covid"
   ]
  },
  {
   "cell_type": "code",
   "execution_count": null,
   "metadata": {},
   "outputs": [],
   "source": [
    "29.36273 -100.89676"
   ]
  },
  {
   "cell_type": "code",
   "execution_count": 70,
   "metadata": {},
   "outputs": [
    {
     "name": "stdout",
     "output_type": "stream",
     "text": [
      "Index 0: week 2020-08-30 complete at -1.3934781551361084 seconds\n",
      "Index 1: week 2020-08-31 complete at -3.460942029953003 seconds\n",
      "Index 2: week 2020-09-01 complete at -4.7203099727630615 seconds\n",
      "Index 3: week 2020-09-02 complete at -4.986245155334473 seconds\n",
      "Index 4: week 2020-09-032020-09-04 complete at -5.311681032180786 seconds\n",
      "Index 5: week 2020-09-05 complete at -26.82547092437744 seconds\n",
      "Final run time: -26.82582402229309 seconds\n"
     ]
    }
   ],
   "source": [
    "delriodf= all_tweets(\n",
    "                region =  \"Del Rio\",\n",
    "                query = ' ',\n",
    "                since = since,\n",
    "                until = until,\n",
    "                max_tweets = 2000,\n",
    "                location = \"29.36273, -100.89676\",\n",
    "                radius = \"20mi\")"
   ]
  },
  {
   "cell_type": "code",
   "execution_count": 71,
   "metadata": {},
   "outputs": [
    {
     "name": "stdout",
     "output_type": "stream",
     "text": [
      "<class 'pandas.core.frame.DataFrame'>\n",
      "Int64Index: 672 entries, 0 to 563\n",
      "Data columns (total 9 columns):\n",
      " #   Column     Non-Null Count  Dtype              \n",
      "---  ------     --------------  -----              \n",
      " 0   id         672 non-null    object             \n",
      " 1   text       672 non-null    object             \n",
      " 2   date       672 non-null    datetime64[ns, UTC]\n",
      " 3   retweets   672 non-null    int64              \n",
      " 4   favorites  672 non-null    int64              \n",
      " 5   mentions   672 non-null    object             \n",
      " 6   hashtags   672 non-null    object             \n",
      " 7   geo        672 non-null    object             \n",
      " 8   region     672 non-null    object             \n",
      "dtypes: datetime64[ns, UTC](1), int64(2), object(6)\n",
      "memory usage: 52.5+ KB\n"
     ]
    }
   ],
   "source": [
    "delriodf.info()"
   ]
  },
  {
   "cell_type": "code",
   "execution_count": 72,
   "metadata": {},
   "outputs": [
    {
     "data": {
      "text/plain": [
       "4"
      ]
     },
     "execution_count": 72,
     "metadata": {},
     "output_type": "execute_result"
    }
   ],
   "source": [
    "delrio_covid = delriodf['text'].str.contains('covid|coronavirus', flags=re.IGNORECASE, regex=True).sum()\n",
    "delrio_covid"
   ]
  },
  {
   "cell_type": "code",
   "execution_count": null,
   "metadata": {},
   "outputs": [],
   "source": [
    "30.181729, -99.010617"
   ]
  },
  {
   "cell_type": "code",
   "execution_count": 75,
   "metadata": {},
   "outputs": [
    {
     "name": "stdout",
     "output_type": "stream",
     "text": [
      "Index 0: week 2020-08-30 complete at -4.27155613899231 seconds\n",
      "Index 1: week 2020-08-31 complete at -7.8383989334106445 seconds\n",
      "Index 2: week 2020-09-01 complete at -12.179133892059326 seconds\n",
      "Index 3: week 2020-09-02 complete at -12.449790000915527 seconds\n",
      "Index 4: week 2020-09-032020-09-04 complete at -12.748046159744263 seconds\n",
      "Index 5: week 2020-09-05 complete at -50.84703803062439 seconds\n",
      "Final run time: -50.84724307060242 seconds\n"
     ]
    }
   ],
   "source": [
    "kerrfreddf= all_tweets(\n",
    "                region =  \"Kerrville Fredericksburg\",\n",
    "                query = ' ',\n",
    "                since = since,\n",
    "                until = until,\n",
    "                max_tweets = 2000,\n",
    "                location = \"30.181729, -99.010617\",\n",
    "                radius = \"17mi\")"
   ]
  },
  {
   "cell_type": "code",
   "execution_count": 76,
   "metadata": {},
   "outputs": [
    {
     "data": {
      "text/plain": [
       "5"
      ]
     },
     "execution_count": 76,
     "metadata": {},
     "output_type": "execute_result"
    }
   ],
   "source": [
    "kerrfred_covid = kerrfreddf['text'].str.contains('covid|coronavirus', flags=re.IGNORECASE, regex=True).sum()\n",
    "kerrfred_covid"
   ]
  },
  {
   "cell_type": "code",
   "execution_count": 78,
   "metadata": {},
   "outputs": [
    {
     "name": "stdout",
     "output_type": "stream",
     "text": [
      "Index 0: week 2020-08-30 complete at -46.97808313369751 seconds\n",
      "Index 1: week 2020-08-31 complete at -94.15696811676025 seconds\n",
      "Index 2: week 2020-09-01 complete at -150.17968916893005 seconds\n",
      "Index 3: week 2020-09-02 complete at -150.48927807807922 seconds\n",
      "Index 4: week 2020-09-032020-09-04 complete at -150.83588027954102 seconds\n",
      "Index 5: week 2020-09-05 complete at -222.3087751865387 seconds\n",
      "Final run time: -222.30893683433533 seconds\n"
     ]
    }
   ],
   "source": [
    "smnbsdf = all_tweets(\n",
    "                region =  \"San Marcos New Braunfels Seguin\",\n",
    "                query = ' ',\n",
    "                since = since,\n",
    "                until = until,\n",
    "                max_tweets = 2000,\n",
    "                location = \"29.710683, -97.979395\",\n",
    "                radius = \"17mi\")"
   ]
  },
  {
   "cell_type": "code",
   "execution_count": 79,
   "metadata": {},
   "outputs": [
    {
     "data": {
      "text/plain": [
       "33"
      ]
     },
     "execution_count": 79,
     "metadata": {},
     "output_type": "execute_result"
    }
   ],
   "source": [
    "smnbs_covid = smnbsdf['text'].str.contains('covid|coronavirus', flags=re.IGNORECASE, regex=True).sum()\n",
    "smnbs_covid"
   ]
  },
  {
   "cell_type": "code",
   "execution_count": 80,
   "metadata": {},
   "outputs": [
    {
     "name": "stdout",
     "output_type": "stream",
     "text": [
      "Index 0: week 2020-08-30 complete at -3.5482399463653564 seconds\n",
      "Index 1: week 2020-08-31 complete at -7.587192058563232 seconds\n",
      "Index 2: week 2020-09-01 complete at -13.229912996292114 seconds\n",
      "Index 3: week 2020-09-02 complete at -13.512822151184082 seconds\n",
      "Index 4: week 2020-09-032020-09-04 complete at -13.86207103729248 seconds\n",
      "Index 5: week 2020-09-05 complete at -85.18466806411743 seconds\n",
      "Final run time: -85.18483686447144 seconds\n"
     ]
    }
   ],
   "source": [
    "lufkindf = all_tweets(\n",
    "                region =  \"Lufkin\",\n",
    "                query = ' ',\n",
    "                since = since,\n",
    "                until = until,\n",
    "                max_tweets = 2000,\n",
    "                location = \"31.338242, -94.729095\",\n",
    "                radius = \"7mi\")"
   ]
  },
  {
   "cell_type": "code",
   "execution_count": 81,
   "metadata": {},
   "outputs": [
    {
     "data": {
      "text/plain": [
       "22"
      ]
     },
     "execution_count": 81,
     "metadata": {},
     "output_type": "execute_result"
    }
   ],
   "source": [
    "lufkin_covid = lufkindf['text'].str.contains('covid|coronavirus', flags=re.IGNORECASE, regex=True).sum()\n",
    "lufkin_covid"
   ]
  },
  {
   "cell_type": "code",
   "execution_count": 82,
   "metadata": {},
   "outputs": [
    {
     "name": "stdout",
     "output_type": "stream",
     "text": [
      "Index 0: week 2020-08-30 complete at -16.230457067489624 seconds\n",
      "Index 1: week 2020-08-31 complete at -28.27403688430786 seconds\n",
      "Index 2: week 2020-09-01 complete at -51.982239961624146 seconds\n",
      "Index 3: week 2020-09-02 complete at -52.33117198944092 seconds\n",
      "Index 4: week 2020-09-032020-09-04 complete at -52.70617890357971 seconds\n",
      "Index 5: week 2020-09-05 complete at -125.85383701324463 seconds\n",
      "Final run time: -125.85408687591553 seconds\n"
     ]
    }
   ],
   "source": [
    "wichitafallsdf = all_tweets(\n",
    "                region =  \"Wichita Falls\",\n",
    "                query = ' ',\n",
    "                since = since,\n",
    "                until = until,\n",
    "                max_tweets = 2000,\n",
    "                location = \"33.9137085, -98.4933873\",\n",
    "                radius = \"10mi\")"
   ]
  },
  {
   "cell_type": "code",
   "execution_count": 83,
   "metadata": {},
   "outputs": [
    {
     "data": {
      "text/plain": [
       "37"
      ]
     },
     "execution_count": 83,
     "metadata": {},
     "output_type": "execute_result"
    }
   ],
   "source": [
    "wichitafalls_covid = wichitafallsdf['text'].str.contains('covid|coronavirus', flags=re.IGNORECASE, regex=True).sum()\n",
    "wichitafalls_covid"
   ]
  },
  {
   "cell_type": "code",
   "execution_count": 90,
   "metadata": {},
   "outputs": [
    {
     "name": "stdout",
     "output_type": "stream",
     "text": [
      "Index 0: week 2020-08-30 complete at -0.9207539558410645 seconds\n",
      "Index 1: week 2020-08-31 complete at -1.6947929859161377 seconds\n",
      "Index 2: week 2020-09-01 complete at -2.4162800312042236 seconds\n",
      "Index 3: week 2020-09-02 complete at -2.7574939727783203 seconds\n",
      "Index 4: week 2020-09-032020-09-04 complete at -3.132369041442871 seconds\n",
      "Index 5: week 2020-09-05 complete at -4.98121190071106 seconds\n",
      "Final run time: -4.981454133987427 seconds\n"
     ]
    }
   ],
   "source": [
    "dalhartdf = all_tweets(\n",
    "                region =  \"Dalhart\",\n",
    "                query = ' ',\n",
    "                since = since,\n",
    "                until = until,\n",
    "                max_tweets = 2000,\n",
    "                location = \"36.0565, -102.5178\",\n",
    "                radius = \"5mi\")"
   ]
  },
  {
   "cell_type": "code",
   "execution_count": 91,
   "metadata": {},
   "outputs": [
    {
     "data": {
      "text/plain": [
       "1"
      ]
     },
     "execution_count": 91,
     "metadata": {},
     "output_type": "execute_result"
    }
   ],
   "source": [
    "dalhart_covid = dalhartdf['text'].str.contains('covid|coronavirus', flags=re.IGNORECASE, regex=True).sum()\n",
    "dalhart_covid"
   ]
  },
  {
   "cell_type": "code",
   "execution_count": null,
   "metadata": {},
   "outputs": [],
   "source": [
    "dalhartdf = all_tweets(\n",
    "                region =  \"Dalhart\",\n",
    "                query = ' ',\n",
    "                since = since,\n",
    "                until = until,\n",
    "                max_tweets = 2000,\n",
    "                location = \"36.0565, -102.5178\",\n",
    "                radius = \"5mi\")"
   ]
  }
 ],
 "metadata": {
  "kernelspec": {
   "display_name": "Python 3",
   "language": "python",
   "name": "python3"
  },
  "language_info": {
   "codemirror_mode": {
    "name": "ipython",
    "version": 3
   },
   "file_extension": ".py",
   "mimetype": "text/x-python",
   "name": "python",
   "nbconvert_exporter": "python",
   "pygments_lexer": "ipython3",
   "version": "3.7.7"
  }
 },
 "nbformat": 4,
 "nbformat_minor": 4
}
