{
 "cells": [
  {
   "cell_type": "code",
   "execution_count": 1,
   "metadata": {},
   "outputs": [],
   "source": [
    "import pandas as pd\n",
    "import numpy as np\n",
    "import os"
   ]
  },
  {
   "cell_type": "code",
   "execution_count": 2,
   "metadata": {},
   "outputs": [],
   "source": [
    "june_path = './june_data/'\n",
    "april_path = './april_data/'"
   ]
  },
  {
   "cell_type": "code",
   "execution_count": 3,
   "metadata": {},
   "outputs": [],
   "source": [
    "june_files = os.listdir('june_data')\n",
    "april_files = os.listdir('april_data')"
   ]
  },
  {
   "cell_type": "code",
   "execution_count": null,
   "metadata": {},
   "outputs": [],
   "source": [
    "df1 = pd.read_csv('./june_data/06-01.csv')\n",
    "df2 = "
   ]
  },
  {
   "cell_type": "code",
   "execution_count": 7,
   "metadata": {},
   "outputs": [
    {
     "name": "stdout",
     "output_type": "stream",
     "text": [
      "                    date         username            to  replies  retweets  \\\n",
      "0    2020-06-01 23:51:40         indexnld           NaN        0         1   \n",
      "1    2020-06-01 23:51:22    Just_GoogleME           NaN        1        25   \n",
      "2    2020-06-01 23:46:11  PonderthisPond1  chuckwoolery        0         0   \n",
      "3    2020-06-01 23:45:00         theeagle           NaN        0         0   \n",
      "4    2020-06-01 23:40:37       hcassidy73           NaN        0         0   \n",
      "..                   ...              ...           ...      ...       ...   \n",
      "359  2020-06-01 00:11:59    UBetterlikeme           NaN        1         1   \n",
      "360  2020-06-01 00:10:40          ShonRo1   karenhunter        0         0   \n",
      "361  2020-06-01 00:07:04       DWapenveld           NaN        0         0   \n",
      "362  2020-06-01 00:05:41       dunn_ddunn    Lauramumi3        1         0   \n",
      "363  2020-06-01 00:00:14    LAStreetAngel           NaN        0         0   \n",
      "\n",
      "     favorites                                               text  geo  \\\n",
      "0            0  Actualización status COVID-19: Nuevo Laredo: L...  NaN   \n",
      "1           18  Yesterday the state of Texas reported 1,949 CO...  NaN   \n",
      "2            1   HUGE WIN!!!!! Texas Supreme Court reverses de...  NaN   \n",
      "3            1  An expert from the Texas A&amp;M School of Pub...  NaN   \n",
      "4            1  In places like Oklahoma, Texas and Virginia, O...  NaN   \n",
      "..         ...                                                ...  ...   \n",
      "359          1  @ihateu4321 Is this sport popular in Texas?......  NaN   \n",
      "360          0  I know in Texas Cruz, Cornyn, Paxton and Abbot...  NaN   \n",
      "361          1  As part of the Texas Covid-19 testing program ...  NaN   \n",
      "362          1  And run by democrats. Why does Florida, run by...  NaN   \n",
      "363          0  Showing the street police my poster that I’m h...  NaN   \n",
      "\n",
      "        mentions                                           hashtags  \\\n",
      "0            NaN                      #COVID19mexico #NLD #indexnld   \n",
      "1            NaN                                                NaN   \n",
      "2            NaN                                                NaN   \n",
      "3            NaN                                                NaN   \n",
      "4            NaN                                                NaN   \n",
      "..           ...                                                ...   \n",
      "359  @ihateu4321                                                NaN   \n",
      "360          NaN                                                NaN   \n",
      "361          NaN                                                NaN   \n",
      "362          NaN                                                NaN   \n",
      "363          NaN  #georgefloyd #pandemic #fear #covid #coronavir...   \n",
      "\n",
      "                      id                                          permalink  \n",
      "0    1267604759201996801  https://twitter.com/indexnld/status/1267604759...  \n",
      "1    1267604686875623429  https://twitter.com/Just_GoogleME/status/12676...  \n",
      "2    1267603380307783680  https://twitter.com/PonderthisPond1/status/126...  \n",
      "3    1267603081619017734  https://twitter.com/theeagle/status/1267603081...  \n",
      "4    1267601980442238977  https://twitter.com/hcassidy73/status/12676019...  \n",
      "..                   ...                                                ...  \n",
      "359  1267247484025417729  https://twitter.com/UBetterlikeme/status/12672...  \n",
      "360  1267247152025174026  https://twitter.com/ShonRo1/status/12672471520...  \n",
      "361  1267246246500204544  https://twitter.com/DWapenveld/status/12672462...  \n",
      "362  1267245898200948737  https://twitter.com/dunn_ddunn/status/12672458...  \n",
      "363  1267244527485620224  https://twitter.com/LAStreetAngel/status/12672...  \n",
      "\n",
      "[364 rows x 12 columns]\n"
     ]
    },
    {
     "ename": "TypeError",
     "evalue": "'NoneType' object is not subscriptable",
     "output_type": "error",
     "traceback": [
      "\u001b[1;31m---------------------------------------------------------------------------\u001b[0m",
      "\u001b[1;31mTypeError\u001b[0m                                 Traceback (most recent call last)",
      "\u001b[1;32m<ipython-input-7-dcafc12eaca8>\u001b[0m in \u001b[0;36m<module>\u001b[1;34m\u001b[0m\n\u001b[0;32m      5\u001b[0m     \u001b[0mdfs\u001b[0m\u001b[1;33m.\u001b[0m\u001b[0mappend\u001b[0m\u001b[1;33m(\u001b[0m\u001b[0mdf_name\u001b[0m\u001b[1;33m)\u001b[0m\u001b[1;33m\u001b[0m\u001b[1;33m\u001b[0m\u001b[0m\n\u001b[0;32m      6\u001b[0m     \u001b[0mdf\u001b[0m\u001b[1;33m=\u001b[0m \u001b[0mpd\u001b[0m\u001b[1;33m.\u001b[0m\u001b[0mread_csv\u001b[0m\u001b[1;33m(\u001b[0m\u001b[0mpath\u001b[0m\u001b[1;33m)\u001b[0m\u001b[1;33m\u001b[0m\u001b[1;33m\u001b[0m\u001b[0m\n\u001b[1;32m----> 7\u001b[1;33m     \u001b[0mprint\u001b[0m\u001b[1;33m(\u001b[0m\u001b[0mdf\u001b[0m\u001b[1;33m)\u001b[0m\u001b[1;33m[\u001b[0m\u001b[1;36m1\u001b[0m\u001b[1;33m]\u001b[0m\u001b[1;33m\u001b[0m\u001b[1;33m\u001b[0m\u001b[0m\n\u001b[0m\u001b[0;32m      8\u001b[0m     \u001b[1;31m#june_df = pd.concat(df) - gives 'first argument must be an iterable of pandas objects, you passed an object of type \"DataFrame\"'\u001b[0m\u001b[1;33m\u001b[0m\u001b[1;33m\u001b[0m\u001b[1;33m\u001b[0m\u001b[0m\n\u001b[0;32m      9\u001b[0m \u001b[1;33m\u001b[0m\u001b[0m\n",
      "\u001b[1;31mTypeError\u001b[0m: 'NoneType' object is not subscriptable"
     ]
    }
   ],
   "source": [
    "for file in june_files[1:]:\n",
    "    dfs = []\n",
    "    df_name = 'df_' + file\n",
    "    path = june_path + file\n",
    "    dfs.append(df_name)\n",
    "    df = pd.read_csv(path)\n",
    "    print(df)[1]\n",
    "    #june_df = pd.concat(df) - gives 'first argument must be an iterable of pandas objects, you passed an object of type \"DataFrame\"'\n",
    "   \n",
    "    #df_name = pd.read_csv(path)\n",
    "    #dfs.append(df_name)\n",
    "    #june_df = pd.concat(dfs) 'cannot concatenate object of type '<class 'str'>'; only Series and DataFrame objs are valid'\n",
    "    "
   ]
  },
  {
   "cell_type": "code",
   "execution_count": null,
   "metadata": {},
   "outputs": [],
   "source": []
  },
  {
   "cell_type": "code",
   "execution_count": null,
   "metadata": {},
   "outputs": [],
   "source": []
  }
 ],
 "metadata": {
  "kernelspec": {
   "display_name": "Python 3",
   "language": "python",
   "name": "python3"
  },
  "language_info": {
   "codemirror_mode": {
    "name": "ipython",
    "version": 3
   },
   "file_extension": ".py",
   "mimetype": "text/x-python",
   "name": "python",
   "nbconvert_exporter": "python",
   "pygments_lexer": "ipython3",
   "version": "3.7.6"
  }
 },
 "nbformat": 4,
 "nbformat_minor": 4
}
