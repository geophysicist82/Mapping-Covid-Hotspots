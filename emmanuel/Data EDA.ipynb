{
 "cells": [
  {
   "cell_type": "markdown",
   "metadata": {},
   "source": [
    "## Imports"
   ]
  },
  {
   "cell_type": "code",
   "execution_count": 45,
   "metadata": {},
   "outputs": [],
   "source": [
    "import numpy as np\n",
    "import pandas as pd\n",
    "import matplotlib.pyplot as plt\n",
    "import re\n",
    "from collections import Counter\n",
    "from sklearn.feature_extraction.text import CountVectorizer"
   ]
  },
  {
   "cell_type": "markdown",
   "metadata": {},
   "source": [
    "## Reading Data and Tweets\n",
    "Given that there ended up being a small fraction of the searched tweets that mentioned Covid19, I read through most of them."
   ]
  },
  {
   "cell_type": "code",
   "execution_count": 4,
   "metadata": {},
   "outputs": [
    {
     "name": "stdout",
     "output_type": "stream",
     "text": [
      "Okay you’re dumb. I actually thought you were sort of smart for a minute... but apparently not. Say it with me: “over 99% of the people who catch Covid-19 recover from the virus”\n",
      "\n",
      "Coronavirus update, U.S. Aug 30: - 36,732 new cases in last 24 hours - 6,172,632 cases in total - 3,423,248 recovered - 187,215 deaths - 11% of cases in California - 81.8 million tests performed.\n",
      "\n",
      "You do of course realize that many people who test positive for covid do not show symptoms, not to mention the false positives, which can often be caused from having the common cold\n",
      "\n",
      "The CDC has now confirmed there's been less than 10,000 deaths due to strictly covid.\n",
      "\n",
      "Which of you is an actual epidemiologist? That’s right, NONE. Because an epi knows how to interpret ICD10 data. @CDCgov didn’t “quietly” update anything. These are all COVID-19 deaths with underlying conditions. #overit #everyoneisadatascientistnow\n",
      "\n",
      "Fauci is his advisor and he's the#1 doctor on Covid in the world. You're all mixed up.\n",
      "\n",
      "Would have been nice if the CDC was always honest about this instead attributing everything to Covid. Only between 9,000 and 10,000 people died as a direct result of the virus without any chronic condition. That’s really big\n",
      "\n",
      "Ya quero que COVID se acabe :(\n",
      "\n",
      "It’s literally right there on the website “Your risk of getting very sick from COVID-19 is likely to be lower if your diabetes is well-managed”\n",
      "\n",
      "@B1GHomie Been a strange year for competitions bc of Covid. Will you be competing soon in any meets here in US? Thanks good luck\n",
      "\n",
      "Your risk of getting very sick from covid is low if your diabetes is well managed. If that’s not a risk you’re willing to take then stay at home. https://www.diabetes.org/coronavirus-covid-19/how-coronavirus-impacts-people-with-diabetes\n",
      "\n",
      "Do you consider being obese a serious illness? High blood pressure? Even diabetes. Being age 60? Since the beginning of the Covid19 outbreak doctors said people with these conditions were more likely to have a bad outcome. Turns out they were right. Shocking, I know.\n",
      "\n",
      "Covid-19 cases U.S.Aug 31 California:711,579 Texas:642,308 Florida:623,471 New York:465,882 Georgia:270,471 Illinois:236,725 Arizona:201,835 New Jersey:197,555 North Carolina:168,022 Tennessee:154,933 Louisiana:148,193 Pennsylvania:138,840 Massachusetts:128,533 Alabama:126,058\n",
      "\n",
      "Coronavirus update, U.S. Aug 31: - 37,315 new cases in last 24 hours - 6,209,947 cases in total - 3,451,996 recovered - 187,707 deaths - 11% of cases in California - 82.5 million tests performed.\n",
      "\n",
      "That’s why this week the CDC quietly updated the Covid number to admit that only 6% of all the 153,504 deaths recorded actually died from Covid-19?\n",
      "\n",
      "The CDC updated the covid number to admit that only 6% of all 161,392 deaths recorded actually died solely from covid.... 9,683... make sure you keep wearing your silly mask! lol\n",
      "\n",
      "Here's hoping the entire Shapiro family gets coronavirus.\n",
      "\n",
      "Right like who knows with Covid anymore I think it’s just allergies, it started when I left Vegas, and Vegas has all that haze from the fires and so it was a lot to deal with \n",
      "\n",
      "I think I’m getting sick, but it’s not Covid because I already had that. I think I’m getting a sinus infection and I want to scream\n",
      "\n",
      "CDC: 94% of COVID-19 deaths had underlying medical conditions\n",
      "\n",
      "I highly recommend taking a birthday trip to the beach for a few nights. Follow precautions since COVID-19 is still lurking. #happybirthdaytome #beachvibes @Galveston, Texas https://www.instagram.com/p/CEkjV4ejrWE/?igshid=3ulci9cfiuzw\n",
      "\n",
      "Ever since I had covid my taste buds never fully returned :(\n",
      "\n",
      "It has been a minute since I’ve seen someone selling it.... but COVID got my timing off\n",
      "\n",
      "Before you make a post saying “only 9,210 people died from COVID” remember that it doesn’t bring them back from the dead or take grief away their loved ones are experiencing.\n",
      "\n",
      "She told me she use to fuck niggas But I just pop a perk so I dont give a fuck nigga 1love to dj_380nho monstarus is the real #love #instagram #covid #like #instagood #photography #music #follow #art #fashion… https://www.instagram.com/p/CEkiMiYH2Dq/?igshid=9362d4qznsz\n",
      "\n",
      "Thanks for you interest in my page but please stay on topic. Covid deaths are vastly overcounted as admitted by the CDC. “For 6% of the deaths, Covid19 was the only cause mentioned”\n",
      "\n",
      "Covid-19 cases U.S.Sep 01 California:716,146 Texas:647,312 Florida:631,040 New York:466,781 Georgia:272,697 Illinois:238,217 Arizona:202,342 New Jersey:197,946 North Carolina:170,239 Tennessee:156,329 Louisiana:148,882 Pennsylvania:139,591 Massachusetts:128,888 Alabama:127,616\n",
      "\n",
      "Coronavirus update, U.S. Sep 01: - 45,607 new cases in last 24 hours - 6,255,554 cases in total - 3,483,658 recovered - 188,859 deaths - 11% of cases in California - 83.3 million tests performed.\n",
      "\n",
      "No, places around the country were counting other deaths towards the Covid-19 death tally. Washington for example. Sorry that virus isn’t as deadly as it’s made out to be\n",
      "\n",
      "What he won’t say is that he has no clue what to do to stop or help with Covid. So, he is abandoning us to “herd immunity” meaning he is okay with several million dying because it “is what it is.” Unfortunately, we don’t know if we will be permanently immune if we catch it.\n",
      "\n",
      "The other people had on average 2.6 comorbidities soooo.... not even factoring in the people who didn’t have Covid-19 that they classified as Covid-19 deaths\n",
      "\n",
      "Tras primer día se reporta caso de COVID-19 en primaria de League City\n",
      "\n",
      "Ordered new underwear just so I could feel cute at the COVID factory and these sumbitches give me the WURST wedgies like I can taste the lace its shoved so far up my ass rn I really got scammed huh\n",
      "\n",
      "Are we still holding charity events for Covid Mountain, indoor step climbing?\n",
      "\n",
      "The Predict program was the proactive program that trump eliminated and would have identified the covid and STOPPED the spread before it got out of hand in PRC.\n",
      "\n",
      "NFL season about to start and I'm still finding it hard to get excited. I love me some Deshaun at QB but OB really put me off the past year. Covid isn't helping either lol\n",
      "\n",
      "Pay for my time. @sextpanther @NiteFlirt #phone #cam #coronavirus #COVID #Days #fullmoon #FightBack #onlyfansbabe #Quarantine #WednesdayVibes #WednesdayThoughts #WednesdayWisdom #zoom\n",
      "\n",
      "Coronavirus:\n",
      "\n",
      "Yeah that’s why the whole country is one big Covid infection....think.\n",
      "\n",
      "COVID would of hit while I was in school I definitely wouldn’t have graduated.\n",
      "\n",
      "Online classes and basically sacrificing all fun college activities to COVID definitely sucks... But man, they just permanently closed The Cactus? Now that’s just salt in the wounds. Thinking of my Wallies tonight..\n",
      "\n",
      " #BreakingNews Well @TheDemocrats @SpeakerPelosi @SylvesterTurner @andrewcuomo @chuckschumer, after MEDICAL testing, it’s been determined I have the #CORONA here in #TEXAS Someone pass me the “Lime&amp;Salt” cure #COVID19 #COVID #COVID__19 @jjauthor @Females4DJT\n",
      "\n",
      "If you’re a dem and you think you can just brush this Nancy Pelosi thing under the rug I don’t think it can happen. The leader of the house, pushing for strict Covid rules and aid, got the idea to not live up to her own example. trump is worse but this is a bad bad look.\n",
      "\n",
      "Covid-19 cases U.S.Sep 02 California:720,923 Texas:651,551 Florida:633,442 New York:468,191 Georgia:274,613 Illinois:240,345 Arizona:202,861 New Jersey:198,252 North Carolina:171,623 Tennessee:157,831 Louisiana:149,838 Pennsylvania:140,577 Massachusetts:128,888 Alabama:128,239\n",
      "\n",
      "IRSnews: #IRS will send catch-up Economic Impact Payments to about 50,000 people whose portion of the payment was diverted to cover their spouse’s past-due child support. https://go.usa.gov/xGr3v #COVIDreliefIRS\n",
      "\n",
      "30-35% seems like a big #! Many viruses, besides #Covid19 are commonly associated with #Myocarditis, but long-term anabolic steroid use may also weaken the heart. I wonder which scenario is more likely for D-1 football players to contract Myocarditis?\n",
      "\n",
      "Covid relief money now\n",
      "\n",
      "ALL THESE COVIDIOTS\n",
      "\n",
      "No, nurses in Texas saw the same and refused to be part of labeling Covid on patients we knew not true. Also walked off 2 rapid testing sites when all results were positive, no negatives. Even on sterile swabs. Virus is not what we are being told.\n",
      "\n",
      "GO CHECK THE CDC ... LESS THAN 10,000 PEOPLE HAVE DIED FROM COVID-19\n",
      "\n",
      "Mannn the rock got covid now y’all not playing anymore huh\n",
      "\n",
      "Someone give @AChapman_105 COVID again.\n",
      "\n",
      "COVID Bowl 2: Revenge of the Vid\n",
      "\n",
      "IRSnews: #IRS changes to health care spending rules may help some that are using at-home services during the COVID-19 pandemic. https://go.usa.gov/xwyR3 #COVIDreliefIRS\n",
      "\n",
      "#COVID19 #Scam of @JoeBiden @SenKamalaHarris @KamalaHarris @TheDemocrats @HouseDemocrats @SenateDems, the #puppets of the #Globalists - @BillGates @georgesoros @wef @wto @WorldBank - supported by #FakeNews!\n",
      "\n",
      "Fake numbers stupid. Nobody in America dies of anything else these days. How in the fuck is America responsible for a quarter of the worlds covid deaths? There's no way in hell!\n",
      "\n"
     ]
    },
    {
     "name": "stdout",
     "output_type": "stream",
     "text": [
      "I’m honestly not sure what you do. The guy was trying to spit on them and saying he had coronavirus. How would you have handled it? I’m honestly curious.\n",
      "\n",
      "Coronavirus stimulus: Mike Pence says Congress to pass government funding https://buff.ly/3h2fxei\n",
      "\n",
      "Really interesting read. Fucking coronavirus is an insidious little thing. “ESPN ... reported on myocarditis [inflammation of the heart] in college athletes back in early August.” ⁦@woolfhound⁩\n",
      "\n",
      "$cocovid19\n",
      "\n",
      "African Priest Wearing COVID-19 Face Mask Suddenly Collapsed and Died Amid Sermon\n",
      "\n",
      "This honestly is so greedy and unfair especially when most talent hasn’t been on tv due to covid and have grown they’re following on streaming sites. I can’t imagine and hope I will never be that greedy over the employees of my company\n",
      "\n",
      "So.. I’m confused.. cause Fox News was pushing the same ideology that Trump was about Covid 19??? So they are trying not to go down with the captain..?? Ain’t it too late?? No one should ever forget about the lies they spreading.. they helped ppl get sick and die from Covid 19...\n",
      "\n",
      "Our unending nightmare will only end with DJT in jail and a scientific COVID 19 policy in place. If God Blesses America and If lucky. Maybe by next February 2021...\n",
      "\n",
      "Never before has our county suffered the economic losses like those caused by COVID-19. Businesses have shuttered, slowed, or been destroyed. Jobs have been lost and hours have been reduced which means less income.\n",
      "\n",
      "Please join our Wildkat Wrestling Family as we pray & send our condolences to @MortonRanchWres after the loss of Coach Balser's wife due to Covid.\n",
      "\n",
      "For the remainder of the pandemic, I recommend everyone keep a package of bacon in their fridge. Because if you fry some of that up and can’t smell it... gurl, you got #COVID for sure.\n",
      "\n",
      "Bringing in some fry-yay vibes to the 3-day weekend by having fries for dinner and chilling at home. #covidweekend #HappyLaborDayWeekend\n",
      "\n",
      "Kamala Harris says Trump not credible on possible COVID-19 vaccine\n",
      "\n",
      "Covid-19 cases U.S.Sep 05 California:735,459 Texas:665,240 Florida:643,867 New York:471,267 Georgia:281,548 Illinois:250,105 Arizona:205,516 New Jersey:199,248 North Carolina:176,714 Tennessee:162,362 Louisiana:151,473 Pennsylvania:143,301 Alabama:131,803 Ohio:129,871\n",
      "\n",
      "That's your next move now that covid and burning down property's didn't work\n",
      "\n",
      "Dear #Democrats; Do you think most Americans agree with #Democrat leaders who have become Covid Dictators, restricting our lives in Unconstitutional and arbitrary ways, closing our businesses and schools, depriving people of their livelihoods, keeping our children out of school 3\n",
      "\n",
      "JUST IN: Kamala Harris: Trump Not Credible on Possible COVID-19 Vaccine https://www.newsmax.com/newsfront/kamala-harris-trump-not-credible/2020/09/05/id/985580\n",
      "\n",
      "Over 40 million deaths annually. We’re up to 188,000 with Covid. That’s just above nostril deaths!\n",
      "\n",
      "Coronavirus update, U.S. Sep 05: - 45,821 new cases in last 24 hours - 6,428,993 cases in total - 3,705,937 recovered - 192,814 deaths - 11% of cases in California - 86.7 million tests performed.\n",
      "\n"
     ]
    }
   ],
   "source": [
    "houston = pd.read_csv('Houston_data.csv')\n",
    "houston_covid = houston['text'].str.contains('covid|coronavirus', flags=re.IGNORECASE, regex=True).sum()\n",
    "for i in range(houston_covid):\n",
    "    print(houston[houston['text'].str.contains('covid|coronavirus', flags=re.IGNORECASE, regex=True).fillna(False)].reset_index()['text'][i])\n",
    "    print('')"
   ]
  },
  {
   "cell_type": "code",
   "execution_count": 46,
   "metadata": {},
   "outputs": [
    {
     "name": "stdout",
     "output_type": "stream",
     "text": [
      "@GregAbbott_TX since the Real numbers for COVID-19 have come out, why not open up Texas?!!!!\n",
      "\n",
      "Kay Kerr Walker, 67, died of complications of COVID-19 on Tuesday.\n",
      "\n",
      "Through surveys, C3 Victory and Be Well Victoria, discovered parents needed access to technology and the internet in order to protect their children from the threat of COVID-19 during this school year.\n",
      "\n",
      "Shock Study Finds COVID-19 Lockdowns 10 Times More Deadly Than Virus\n",
      "\n",
      "Remember to visit http://www.Covid.visd.net for the most up-to-date information.\n",
      "\n",
      "VISD Weekly COVID-19 Update for Sept 3, 2020\n",
      "\n",
      "If you plan to be social for Labor Day weekend, here's how to lower your risk of Covid-19 infection https://www.crossroadstoday.com/if-you-plan-to-be-social-for-labor-day-weekend-heres-how-to-lower-your-risk-of-covid-19-infection/\n",
      "\n",
      "DeWitt County OEM reports 21 new cases of COVID-19 https://www.crossroadstoday.com/dewitt-county-oem-reports-21-new-cases-of-covid-19/\n",
      "\n",
      "Nah cdc yesterday said only 6% covid 19 deaths are legitimate a lot of small towns and city’s over exaggerated the test results it happened in the NFL also that’s why they retested\n",
      "\n",
      "National Night Out gets a COVID-19 safe twist this year https://www.crossroadstoday.com/national-night-out-gets-a-covid-19-safe-twist-this-year/\n",
      "\n",
      "Eighteen new cases of COVID-19 were confirmed in Matagorda County on Friday.\n",
      "\n",
      "A coronavirus vaccine by Election Day? Probably not. Here's why https://www.crossroadstoday.com/a-coronavirus-vaccine-by-election-day-probably-not-heres-why/\n",
      "\n",
      "Vitamin D plays vital role in preventing respiratory infection, boosts immune system response for infection and reduces the need/ use of antibiotic. It is also helpful in fight against Covid-19. http://ow.ly/6kN950BhOhm #vitamind #vitamins #covid_19 #coronavirus #texas #USA\n",
      "\n",
      "US adds 1.4 million jobs in August but is still down 11.5 million jobs since COVID hit https://www.crossroadstoday.com/us-adds-1-4-million-jobs-in-august-but-is-still-down-11-5-million-jobs-since-covid-hit/\n",
      "\n",
      "We are here to help - you are not alone! The stress of COVID-19 maybe weighing on your or someone you know. Call us whether you're concerned for yourself or a loved one. #TexansRecoveringTogether\n",
      "\n",
      "#Corona #WordOfTheDay #Dense #People #COVID19 this is kinda funny\n",
      "\n",
      "A significant disparity persists in the COVID-19 death toll reported by Lavaca County and the county's death toll reported by the state health department.\n",
      "\n",
      "Victoria County reports another COVID-19 related death and 16 new positive cases https://www.crossroadstoday.com/victoria-county-reports-another-covid-19-related-death-and-16-new-positive-cases/\n",
      "\n",
      "Hello again. Another month has passed and it looks like the numbers are coming down on the COVID-19 cases. We have opened up the Art League gallery and classes at this time.\n",
      "\n",
      "Dwayne Johnson and his family tested positive for COVID-19\n",
      "\n",
      "New Skin Care Trends During COVID-19! https://conta.cc/3hWkfM0\n",
      "\n",
      "Another COVID-19 related death and 21 new confirmed cases confirmed in Victoria County https://www.crossroadstoday.com/another-covid-19-related-death-and-21-new-confirmed-cases-confirmed-in-victoria-county/\n",
      "\n"
     ]
    }
   ],
   "source": [
    "victoria = pd.read_csv('victoria_data.csv')\n",
    "victoria_covid = victoria['text'].str.contains('covid|coronavirus', flags=re.IGNORECASE, regex=True).sum()\n",
    "for i in range(victoria_covid):\n",
    "    print(victoria[victoria['text'].str.contains('covid|coronavirus', flags=re.IGNORECASE, regex=True).fillna(False)].reset_index()['text'][i])\n",
    "    print('')"
   ]
  },
  {
   "cell_type": "code",
   "execution_count": 7,
   "metadata": {},
   "outputs": [
    {
     "name": "stdout",
     "output_type": "stream",
     "text": [
      "Trump doesn’t deserve special treatment. If those 8 years cause him irreparable harm too damn bad. What about the irreparable harm he caused thousands of Americans who lost their lives to Covid. FUCK TRUMP.\n",
      "\n",
      "You know you're living in strange days when the highlight of your day is receiving a face shield from your dean... Thanks Dr. Murphy! #COVID #rona #StrangeDays – at Stephen F. Austin State University\n",
      "\n",
      "COVID-19 UPDATE ~ Phase 2 effective Sunday, September 13\n",
      "\n",
      "I love how “snitches gets stitches” just went OUT the window during Covid. Y’all be tattling on each other left and right.\n",
      "\n",
      "HERE...WE...GO! 1st Volleyball Game of 2020. Good to back and ready watch UCA vs Texas State! #AxeEm #AxeCOVID19\n",
      "\n",
      "Teacher error. We have been happily homeschooling for 3 weeks and I was informed yesterday that my daughter must take math exams on campus. What good is quarantining if I'm required to send her to a coronavirus hotspot? I believe all schools ate hotspots.\n",
      "\n",
      "SFA ROTC is honored to recognize Cadet Freudenthal for her selfless service during the outbreak of COVID-19. Katarina was mobilized from March to August with her National Guard unit that tested numerous Texans for COVID-19. Be the Best Cadet Freudenthal! \n",
      "\n",
      "I beg all those considering not voting to remember all of trump’s lives. All the lives lost to Covid-19 due to trump’s mismanagement. He let Russia kill our soldiers. He has funneled taxpayers money into his own businesses. Please help us stop him.\n",
      "\n",
      "Trump’s trying to frighten people into not voting by mail. He actually said it would increase the risk for Covid. Then he tells his supporters to vote twice. Trump = career criminal\n",
      "\n",
      "Covidiots.\n",
      "\n"
     ]
    }
   ],
   "source": [
    "nacogdoches = pd.read_csv('nacogdoches_data.csv')\n",
    "nacogdoches_covid = nacogdoches['text'].str.contains('covid|coronavirus', flags=re.IGNORECASE, regex=True).sum()\n",
    "for i in range(nacogdoches_covid):\n",
    "        print(nacogdoches[nacogdoches['text'].str.contains('covid|coronavirus', flags=re.IGNORECASE, regex=True).fillna(False)].reset_index()['text'][i])\n",
    "        print('')"
   ]
  },
  {
   "cell_type": "code",
   "execution_count": 8,
   "metadata": {},
   "outputs": [
    {
     "name": "stdout",
     "output_type": "stream",
     "text": [
      "NHS made a tribute to many of the front line workers who died and a fair amount of responses were heart felt, but a few “Covid truthers” came in stirring the pot. One went as far to say that they deserve it for being in on the fake China virus.\n",
      "\n",
      "You know. I understand some people don’t think Covid is that big a deal. I know some don’t believe in masks. Fine. Whatever. But if you legit make fun of a front line worker dying from Covid or say they are full of sh*t, you can go to hell. There’s ZERO need for that. Pissed\n",
      "\n",
      "It’s nuts. There’s some fishy data in other areas too. Excess mortality was up slightly in March and April in Florida too, but Covid wasn’t really showing in the mortality data. Otoh, pneumonia was wild and they are still like 230% of normal for that, so that’s... fishy\n",
      "\n",
      "It is a misrepresentation of what the headline reads. It doesn’t mean only 6% of these people died of Covid, just that it was the only reason for mortality which is rare and actually laziness on part of Med Examiner to put something like that.\n",
      "\n",
      "underlying conditions. So if someone has Covid, comes in with respiratory failure and dies of a heart attack, the Death Cert would read: Line 1: Cardiac Arrest Line 2: Respiratory failure, Covid, and anything else that could’ve caused the issue.\n",
      "\n",
      "The headline above the comorbities section saying 6% is for Covid mentioned alone in Line 1 of a Death Cert w/ nothing in line two. That’s where the 6% comes from. Most people who die from respiratory illnesses have Line 1 mention how they died, and then line 2 goes into...\n",
      "\n",
      "This shit pissed me off when I found out about it. I’m not a Covid skeptic, but there needs to be something done about this. Looking at you Cuomo...\n",
      "\n",
      "There’s many that have lost loved ones this year, whether from Covid or something else. Some couldn’t say a proper goodbye. Every life is someone’s child. Someone’s friend. Someone’s significant other. This year especially...there needs to be a greater need for love. Fin/\n",
      "\n",
      "It really struck a nerve with me when I saw some comments on a beautiful post celebrating the life of some that lost their lives during this Pandemic. As someone with friends in the health care field, including a few that deal directly with Covid, this hit me hard. 4/\n",
      "\n",
      "There has been pressure from random public people in my own town calling out nurses and doctors helping save people from Covid. It’s causing serious doubt in our own healthcare community and it’s completely uncalled for. 3/\n",
      "\n",
      "https://youtu.be/wgqbTnO7PlQ here’s a vlog if you wanna know about my trip, my new car and what it feels like to have covid \n",
      "\n",
      "I really hope that everyone tries to safe during the protests, and plus with the covid 19 still a major menace. Wear a Mask\n",
      "\n",
      "I have second hand embarrassment. Also ironic that he is talking (or trying to talk) COVID. It’s all for their gain.\n",
      "\n",
      "Bro I can’t wait for Coronavirus to be gone in the United States of America on November 3rd, 2020 for no reason imparticular\n",
      "\n",
      "I tried and tried and tried not to look further into the surface of COVID19, but shit got worse and worse and I was finally not able to keep myself from searching. It started out just looking for the truth of what this virus was and before I knew it I was watching fall of cabal.\n",
      "\n",
      "City confirms 14 new coronavirus cases\n",
      "\n",
      "Robert Pattinson has COVID?????????????????\n",
      "\n",
      "I only said that because 94% of the other death certs are with multiple lines with Covid as the underlying cause. Maybe I’m being too harsh saying they are lazy. Might be rushed considering the circumstances. I appologize if I offended med examiners. Their job is TOUGH right now\n",
      "\n",
      "If anything, having Covid-19 as the ONLY thing written on a death certificate is complete laziness on the part of the medical examiner since there are multiple effects from Covid.\n",
      "\n",
      "The true comorbities like Asthma, Diabetes, HBP, and other diseases are the real comorbities that exacerbated the effects of Covid. The 2.6 comorbities number makes sense as many who entered critical stages had ARDS and Renal Failure before passing.\n",
      "\n",
      "Ate at @LandrysInc @SaltgrassSteak tonight. It was a big #mistake. #SocialDistancing was not being observed by the #restaurant and staff did not #WearMasks properly. So much for their #COVID__19 \"preventative measures\" – at Saltgrass Steakhouse\n",
      "\n",
      "Tennessee woman who passed away 6 months ago gets letter saying she is COVID-19 positive https://www.wfaa.com/mobile/article/news/investigations/shelby-county-woman-died-6-months-ago-letter-covid-19-positive/522-bcd8c6e1-5d75-4e07-af99-ed7babed909b via @wfaa\n",
      "\n",
      "183000 dead Americans from Covid-19, because the #POTUS wouldn't do a damn thing until it was too late.\n",
      "\n",
      "These fun & interesting activities can help keep #olderAdults engaged during social isolation and #COVID19. #HomeInstead #eldercare #caregiving #familyCaregiver #socialdistancing\n",
      "\n",
      "What should piss you off is local media was too damned busy cramming Covid down our throats and never reported her name or that she was gone.\n",
      "\n",
      "What should really piss you off is local media was too damned busy cramming Covid down our throats and never reported her name or that she was gone.\n",
      "\n",
      "I hear that Robert Pattinson now may have Covid. What’s next 2020?\n",
      "\n",
      "You don't think people dying from Covid-19 matters?\n",
      "\n",
      "University covid ratings increasing steadily Students : Also students: \n",
      "\n",
      "Covid really went and messed shit up for me.\n",
      "\n",
      "Wow.... You've never had anyone in your family with cancer, beat it, get it again, and so on until they die. Curable at early stages? For some, yes, but not all. Anyway, they have therapeutics for COVID as well that idiots won't take because they don't like Trump. That's on them.\n",
      "\n",
      "It’s September, that means my allergies are going to start acting up. That will lead to me having anxiety thinking I have COVID. \n",
      "\n",
      "For more information on Midland Memorial Hospital COVID-19 statistics, please visit https://www.midlandhealth.org/Uploads/Public/Documents/Covid19_PR_Report_9_4_2020AM.pdf\n",
      "\n",
      "Hold up there’s still people “quarantined” y’all MFs just don’t wanna work at this point, covid ain’t shit\n",
      "\n",
      "Our standards for protocol regarding Covid-19 is so F’d. We can do this but we can’t do that. This is essential but that isn’t.\n",
      "\n",
      "coronavirus has a lower death rate than the flu, unemployment has ALREADY dropped to single digits actually, and the United States’ economy is currently shitting on the rest of the world.\n",
      "\n",
      "multiple sources have debunked the statements about veterans, and coronavirus has a lower death rate than the flu. \n",
      "\n",
      "You goof ball @JoeBiden promise you will open up this free country and not get duped by this #COVIDー19 like @realDonaldTrump\n",
      "\n",
      "Or this!!! Had it at a local Beer Garden and got hooked. Beer garden closed due to #COVID though so not sure where to buy it now .\n",
      "\n",
      "Going from COVID-19 to COVID-20 on my birthday \n",
      "\n",
      "Lmfao... that was such a dumpster moment, and ULTRA has not been able to redeem themselves due to covid and cancelations!! \n",
      "\n",
      "This is also know as getting a COVID nasal swab...\n",
      "\n"
     ]
    }
   ],
   "source": [
    "midland = pd.read_csv('midland_data.csv')\n",
    "midland_covid = midland['text'].str.contains('covid|coronavirus', flags=re.IGNORECASE, regex=True).sum()\n",
    "for i in range(midland_covid):\n",
    "    print(midland[midland['text'].str.contains('covid|coronavirus', flags=re.IGNORECASE, regex=True).fillna(False)].reset_index()['text'][i])\n",
    "    print('')"
   ]
  },
  {
   "cell_type": "code",
   "execution_count": 9,
   "metadata": {},
   "outputs": [
    {
     "name": "stdout",
     "output_type": "stream",
     "text": [
      "Parents,,,,,there will be COVID testing next week. PLEASE get your family tested. It's a great opportunity to help keep our schools safe and healthy.\n",
      "\n"
     ]
    }
   ],
   "source": [
    "college_sation_bryan = pd.read_csv('college_sation_bryan_data.csv')\n",
    "cs_bryan_covid = college_sation_bryan['text'].str.contains('covid|coronavirus', flags=re.IGNORECASE, regex=True).sum()\n",
    "for i in range(cs_bryan_covid):\n",
    "        print(college_sation_bryan[college_sation_bryan['text'].str.contains('covid|coronavirus', flags=re.IGNORECASE, regex=True).fillna(False)].reset_index()['text'][i])\n",
    "        print('')"
   ]
  },
  {
   "cell_type": "code",
   "execution_count": 10,
   "metadata": {},
   "outputs": [
    {
     "name": "stdout",
     "output_type": "stream",
     "text": [
      "Democrats will Celebrate... Biden is fixibg to get it.... JUST FOR DEBATES.... Then he will HAVE A MIRACLE... & BEAT COVID... AFTER... Debates are over...\n",
      "\n",
      "is COVID still around? Cause these ppl dont give a fuck lol\n",
      "\n",
      "Seriously, wherever she is, she needs a COVID test. Not funny/Not joking. And if she is positive, then what? Are there legal ramifications for this? I mean, if I recall with HIV (and I do), don’t we get jail time for spreading viruses????? . @Walmart\n",
      "\n",
      "Since you're always ready to go to WAR AGAINST YOUR OWN CITIZENS, HOW BOUT YOU STEP UP YOUR GAME TO DEFEAT COVID-19?! Because IT FITS NO WHERE IN YOUR CURRENT AGENDA!!\n",
      "\n",
      "5. Going back to concessions, our menu has gotten smaller. They only kept certain foods to make the COVID guidelines easy to maintain. You know how you used to be able to get a refill on large popcorns/sodas?? We can’t do that anymore. No more refills\n",
      "\n",
      "Cont. The theater seats are sanitized MULTIPLE times a day & maintained really well with the new COVID guidelines we have. But we will also have sanitary ‘seat wipes’ at the door of every theater for anyone who wants to wipe their seat off to be extra safe & have peace of mind\n",
      "\n",
      "Since i start work tomorrow, here’s some new things that we’re starting because of COVID that y’all should know: 1. You CANNOT use cash at concession. Only cards and touchless pay options like Apple Pay, those credit cards that you just tap onto the card machine\n",
      "\n",
      "It's \"ALWAYS JUST About SCIENCE\" To Democrats.. NOT FAMILY, Kids & Mental Health ... Follow-up care and employment the keys to preventing many coronavirus-related youth suicides in Australia - ABC News\n",
      "\n",
      "SCIENCE is NOT WHAT IS ALWAYS BEST... Report: Suicide Rise to Kill More than Coronavirus in Australia\n",
      "\n",
      "JOE, MORE YOUTH WILL DIE, If you JUST LISTEN TO SCIENCE.. Coronavirus: Teen dies after suicide attempt due to isolation\n",
      "\n",
      "But it's NOT ALWAYS ABOUT SCIENCE, It's About REAL PEOPLE .COVID-19 survey highlights growing suicide and mental health risks across various groups\n",
      "\n",
      "NOT ALL ABOUT SCIENCE JOE..... 12-Year-Old’s Death Was Result of Coronavirus Fallout, Father Says – NBC 5 Dallas-Fort Worth\n",
      "\n",
      "JOE / It's NOT ALL ABOUT \"JUST SCIENCE\" Ohio State alum shares story of Child's SUICIDE, tells parents COVID-19 Isolation is REAL | http://10tv.com\n",
      "\n",
      "Covid has taken more lives than 100 years. What????Why is this even a debate. Bully me if you want your BLIND and DUMB if anyone thinks this man is safe enough to run our country!\n",
      "\n",
      "So the @CDCgov legit just said that the real number of \"Covid-19\" deaths is actually 6% of the previously reported... https://www.cdc.gov/nchs/nvss/vsrr/covid_weekly/index.htm?fbclid=IwAR3-wrg3tTKK5-9tOHPGAHWFVO3DfslkJ0KsDEPQpWmPbKtp6EsoVV2Qs1Q\n",
      "\n",
      "Retro Horns tray + vanilla ice cream + cotton candy = my boys never ending spring break!!! #covid #HurricaneLaura2020 #WhatsNext?\n",
      "\n",
      "Covid 19 still taking lives why would a parent send their KID to a crowded school?I put our kids in k12.For low income families its free.Kids get all suppl- ies supplies free mailed to them. Computer, books etc.Keep the box es to send back compu- ter n books.They pay shipping\n",
      "\n",
      "There is no 'herd immunity' for COVID-19 because of the possibility of reinfection.\n",
      "\n",
      "The COVIDettes.\n",
      "\n",
      "Well, then read. An American had COVID 2 times. It was verified.\n",
      "\n",
      "We the people aren't stupid. We are homeschooling b4 we send our kids out in harms way. He threatened truancy charges on us if we didn't send them.. yes kids do get covid. Bury a 4 year old and then we can talk about right and wrong\n",
      "\n",
      "@realDonaldTrump why don't u scream at the gop. We are hungry. There are no jobs due to shutdowns from covid. We know u don't care. Our kids need food. Many of us face eviction. Many have lost their cars to go to work. When are u gonna step up and use your authority as president\n",
      "\n",
      "Woodville’s game against Diboll this week has been canceled because of “coronavirus exposure.” Check in for updates throughout the day.\n",
      "\n",
      "There is no herd immunity for the Coronavirus, because a person can be reinfected.\n",
      "\n",
      "185,909 COVID-19 DEATHS ON YOUR WATCH..MR. PRESIDENT!!\n",
      "\n",
      "No, nurses in Texas saw the same and refused to be part of labeling Covid on patients we knew not true. Also walked off 2 rapid testing sites when all results were positive, no negatives. Even on sterile swabs. Virus is not what we are being told.\n",
      "\n",
      "Nurses in Texas have been screaming the same for months. Worked in hospitals and testing sites. Couldn't believe what we were seeing. Not enough patients in hospitals, went to testing sites x 2 and all rapid covid tests were 100% positive. We walked off site.\n",
      "\n",
      "PA offering coronavirus testing today, Friday https://www.beaumontenterprise.com/news/article/PA-offering-coronavirus-testing-today-Friday-15540370.php?utm_source=dlvr.it&amp;utm_medium=twitter\n",
      "\n",
      "No, #LetsBeHonest Its \"Liberal Ran Cities\" that were in HUGE DEBT ... \"BEFORE COVID-19\".... Due to SANCTUARY Cities FUNDING FREE = Illegal Imm. Health Care, Welfare , College, Lawyers to FIGHT Against US LAWS On Illegal Immigration... You were WARNED In 2018 about\n",
      "\n",
      "Yikes can't imagine much of us will be left if it took 7 years for a Covid vaccine.\n",
      "\n",
      "Take off your bacterial laden cloth masks today. They do make you sick, I'm taking care of several in ICU with bacterial lung infections from masks in Texas heat and humidity. Non covid related. Imagine that! \n",
      "\n",
      "DEVELOPING: Beaumont area with 17 newly confirmed COVID cases, no new deaths.\n",
      "\n",
      "Labor Day is approaching! An extra day off at last. BBQs &amp; beaches are the norm but, @VictoriaWhiteTV reports health directors are urging citizens to keep COVID-19 in mind to prevent the spread &amp; avoid another holiday outbreak. What are you doing to celebrate safely this year?\n",
      "\n",
      "Number of COVID-19 patients in ICU up 79% in single week\n",
      "\n",
      "In the middle of grappling with the pandemic, a surge in coronavirus cases, and continued national unrest, the US State of Texas is also in hurricane preparation mode. This year's timing couldn't be any worse. #hurricanepreparations #hurricane #gulfcoast https://beaumontemergencycenter.com/hurricane-preparedness-during-a-pandemic/\n",
      "\n",
      "Penn State doctor: About a third of tested athletes with COVID-19 had heart inflammation\n",
      "\n",
      "Coronavirus cases are inevitable as Texas schools reopen. The challenge for administrators will be preventing large-scale outbreaks.\n",
      "\n",
      "Thought I had a fever a little ago and was like “damn I better not have Covid for crying out loud” then @tydi228 reminded me I drank the maximum amount of coffee and liquor before noon so I 100% have a fever and there isn’t anything I can do about it\n",
      "\n",
      "It think it’s pretty clear non-district football schedules are going to be wild. COVID cancellations will happen, plus Hurricane Laura here in our area shook things up. There will be a lot matchups this year we would never see. #409Sports #txhsfb\n",
      "\n",
      "Trump's score for handling the Coronavirus -186,000.\n",
      "\n",
      "Free COVID-19 testing! #COVID19 #freecovid19testing #portarthurtx @Robert A. (Bob) Bower Civic Center https://www.instagram.com/p/CEp9gWssLqL/?igshid=q9306ak9d2eh\n",
      "\n",
      "We will see how the whole covid safety guidelines go. Sidelines support and coaches masked up. Fans???? #BEScores\n",
      "\n",
      "One week out from Laura and mid covid being here just feels kind of surreal #BEScores #BENews\n",
      "\n",
      "I want to dress up and look pretty but covid won’t let me be great.\n",
      "\n",
      "@GregAbbott_TX THEY WILL KEEP TEXAS INFECTED With CORONAVIRUS... Without chances of TEXAS RECOVERY.. ......\n",
      "\n",
      "From the TPC explosion at Thanksgiving, covid-19 in Texas, unemployed since March, and hurricane Laura. This has been the crappiest 10 months for southeast Texas. I think it's time to move, maybe or maybe not.\n",
      "\n",
      "You always cheer me up, Calum! There have been a lot of sh*t days lately-COVID, hurricanes, the ending of a ten year relationship... You’ve been an inspiration and helped me more than you can know. #musicislife\n",
      "\n",
      "I do everything online miss ma’am lol. These Aggies ain’t bout to COVID me!\n",
      "\n",
      "DEVELOPING: 32 newly confirmed COVID-19 cases in Beaumont, no new deaths.\n",
      "\n",
      "Is this part of the 6% of actual covid deaths or the 94% of not really covid deaths but included in covid deaths?\n",
      "\n",
      "UPDATE: The City of Port Arthur says the latest COVID-related death is the 27th since the pandemic began, not the 26th. See KFDM Facebook.\n",
      "\n",
      "I thought I’d jump on here for a bit to give you all an update. As of today the Alameda County website (http://COVID-19.ca.gov) current status is WIDESPREAD which means that all indoor massage treatments are ordered to remain closed. Hope to reopen soon. \n",
      "\n"
     ]
    },
    {
     "name": "stdout",
     "output_type": "stream",
     "text": [
      "Why I haven’t heard anyone getting sick with covid anymore ? Was that shit just a scam\n",
      "\n",
      "Correct wearing a mask is a medical issue. I wear them at work as a nurse, not out in heat and humidity in Southeast texas! They become sweaty and bacteria grow. No Covid in our ICUs down here, only really bad lung infections, bacterial pneumonia from wearing masks. Remove masks!\n",
      "\n",
      "DEVELOPING: PA reports 26th COVID-related death. See KFDM Facebook.\n",
      "\n",
      "Yes of course. No way he can@answer on the fly. He will be sick@with covid for the debates. Mark my words\n",
      "\n",
      "They still delivering flowers during covid? My nigga better take notes then.\n",
      "\n",
      "Orangefield ISD Return to School Announcement Parents of students who are current virtual learners **NOT due to COVID19 quarantine situations**, please complete the short form below. If your student is already an onsite learner, do not complete the form. https://buff.ly/3jNqq5g\n",
      "\n",
      "@fox4beaumont “Although I tested positive, I want the citizens of Calcasieu Parish to know I am dedicated to the recovery of our community. I will be continually working and quaranting in my office, away from everyone.” Calcasieu Parish Sheriff Tony Mancuso says he has COVID-19.\n",
      "\n",
      "“Although I tested positive, I want the citizens of Calcasieu Parish to know I am dedicated to the recovery of our community. I will be continually working and quaranting in my office, away from everyone.” Calcasieu Parish Sheriff Tony Mancuso says he has COVID-19.\n",
      "\n",
      "Inside Texas Politics: FDA commissioner talks about how soon a COVID-19 vaccine could be released\n",
      "\n",
      "We get to play this week. Hey Covid and Mother Nature...\n",
      "\n",
      "My first covid haircut did it myself\n",
      "\n",
      "Hey @HomeDepot, I was just told by local management the reason there’s no mask enforcement out at the 603 Strickland Dr. location in Orange, TX is due to the impact from #HurricaneLaura. That was over a week ago. Do you believe that’s a safe call amid a pandemic? #COVID19\n",
      "\n"
     ]
    },
    {
     "ename": "KeyError",
     "evalue": "64",
     "output_type": "error",
     "traceback": [
      "\u001b[0;31m---------------------------------------------------------------------------\u001b[0m",
      "\u001b[0;31mValueError\u001b[0m                                Traceback (most recent call last)",
      "\u001b[0;32m~/opt/anaconda3/lib/python3.7/site-packages/pandas/core/indexes/range.py\u001b[0m in \u001b[0;36mget_loc\u001b[0;34m(self, key, method, tolerance)\u001b[0m\n\u001b[1;32m    350\u001b[0m                 \u001b[0;32mtry\u001b[0m\u001b[0;34m:\u001b[0m\u001b[0;34m\u001b[0m\u001b[0;34m\u001b[0m\u001b[0m\n\u001b[0;32m--> 351\u001b[0;31m                     \u001b[0;32mreturn\u001b[0m \u001b[0mself\u001b[0m\u001b[0;34m.\u001b[0m\u001b[0m_range\u001b[0m\u001b[0;34m.\u001b[0m\u001b[0mindex\u001b[0m\u001b[0;34m(\u001b[0m\u001b[0mnew_key\u001b[0m\u001b[0;34m)\u001b[0m\u001b[0;34m\u001b[0m\u001b[0;34m\u001b[0m\u001b[0m\n\u001b[0m\u001b[1;32m    352\u001b[0m                 \u001b[0;32mexcept\u001b[0m \u001b[0mValueError\u001b[0m \u001b[0;32mas\u001b[0m \u001b[0merr\u001b[0m\u001b[0;34m:\u001b[0m\u001b[0;34m\u001b[0m\u001b[0;34m\u001b[0m\u001b[0m\n",
      "\u001b[0;31mValueError\u001b[0m: 64 is not in range",
      "\nThe above exception was the direct cause of the following exception:\n",
      "\u001b[0;31mKeyError\u001b[0m                                  Traceback (most recent call last)",
      "\u001b[0;32m<ipython-input-10-6762f71f90b0>\u001b[0m in \u001b[0;36m<module>\u001b[0;34m\u001b[0m\n\u001b[1;32m      2\u001b[0m \u001b[0mbeaumont_covid\u001b[0m \u001b[0;34m=\u001b[0m \u001b[0mbeaumont\u001b[0m\u001b[0;34m[\u001b[0m\u001b[0;34m'text'\u001b[0m\u001b[0;34m]\u001b[0m\u001b[0;34m.\u001b[0m\u001b[0mstr\u001b[0m\u001b[0;34m.\u001b[0m\u001b[0mcontains\u001b[0m\u001b[0;34m(\u001b[0m\u001b[0;34m'covid|coronavirus'\u001b[0m\u001b[0;34m,\u001b[0m \u001b[0mflags\u001b[0m\u001b[0;34m=\u001b[0m\u001b[0mre\u001b[0m\u001b[0;34m.\u001b[0m\u001b[0mIGNORECASE\u001b[0m\u001b[0;34m,\u001b[0m \u001b[0mregex\u001b[0m\u001b[0;34m=\u001b[0m\u001b[0;32mTrue\u001b[0m\u001b[0;34m)\u001b[0m\u001b[0;34m.\u001b[0m\u001b[0msum\u001b[0m\u001b[0;34m(\u001b[0m\u001b[0;34m)\u001b[0m\u001b[0;34m\u001b[0m\u001b[0;34m\u001b[0m\u001b[0m\n\u001b[1;32m      3\u001b[0m \u001b[0;32mfor\u001b[0m \u001b[0mi\u001b[0m \u001b[0;32min\u001b[0m \u001b[0mrange\u001b[0m\u001b[0;34m(\u001b[0m\u001b[0;36m75\u001b[0m\u001b[0;34m)\u001b[0m\u001b[0;34m:\u001b[0m\u001b[0;34m\u001b[0m\u001b[0;34m\u001b[0m\u001b[0m\n\u001b[0;32m----> 4\u001b[0;31m     \u001b[0mprint\u001b[0m\u001b[0;34m(\u001b[0m\u001b[0mbeaumont\u001b[0m\u001b[0;34m[\u001b[0m\u001b[0mbeaumont\u001b[0m\u001b[0;34m[\u001b[0m\u001b[0;34m'text'\u001b[0m\u001b[0;34m]\u001b[0m\u001b[0;34m.\u001b[0m\u001b[0mstr\u001b[0m\u001b[0;34m.\u001b[0m\u001b[0mcontains\u001b[0m\u001b[0;34m(\u001b[0m\u001b[0;34m'covid|coronavirus'\u001b[0m\u001b[0;34m,\u001b[0m \u001b[0mflags\u001b[0m\u001b[0;34m=\u001b[0m\u001b[0mre\u001b[0m\u001b[0;34m.\u001b[0m\u001b[0mIGNORECASE\u001b[0m\u001b[0;34m,\u001b[0m \u001b[0mregex\u001b[0m\u001b[0;34m=\u001b[0m\u001b[0;32mTrue\u001b[0m\u001b[0;34m)\u001b[0m\u001b[0;34m.\u001b[0m\u001b[0mfillna\u001b[0m\u001b[0;34m(\u001b[0m\u001b[0;32mFalse\u001b[0m\u001b[0;34m)\u001b[0m\u001b[0;34m]\u001b[0m\u001b[0;34m.\u001b[0m\u001b[0mreset_index\u001b[0m\u001b[0;34m(\u001b[0m\u001b[0;34m)\u001b[0m\u001b[0;34m[\u001b[0m\u001b[0;34m'text'\u001b[0m\u001b[0;34m]\u001b[0m\u001b[0;34m[\u001b[0m\u001b[0mi\u001b[0m\u001b[0;34m]\u001b[0m\u001b[0;34m)\u001b[0m\u001b[0;34m\u001b[0m\u001b[0;34m\u001b[0m\u001b[0m\n\u001b[0m\u001b[1;32m      5\u001b[0m     \u001b[0mprint\u001b[0m\u001b[0;34m(\u001b[0m\u001b[0;34m''\u001b[0m\u001b[0;34m)\u001b[0m\u001b[0;34m\u001b[0m\u001b[0;34m\u001b[0m\u001b[0m\n",
      "\u001b[0;32m~/opt/anaconda3/lib/python3.7/site-packages/pandas/core/series.py\u001b[0m in \u001b[0;36m__getitem__\u001b[0;34m(self, key)\u001b[0m\n\u001b[1;32m    880\u001b[0m \u001b[0;34m\u001b[0m\u001b[0m\n\u001b[1;32m    881\u001b[0m         \u001b[0;32melif\u001b[0m \u001b[0mkey_is_scalar\u001b[0m\u001b[0;34m:\u001b[0m\u001b[0;34m\u001b[0m\u001b[0;34m\u001b[0m\u001b[0m\n\u001b[0;32m--> 882\u001b[0;31m             \u001b[0;32mreturn\u001b[0m \u001b[0mself\u001b[0m\u001b[0;34m.\u001b[0m\u001b[0m_get_value\u001b[0m\u001b[0;34m(\u001b[0m\u001b[0mkey\u001b[0m\u001b[0;34m)\u001b[0m\u001b[0;34m\u001b[0m\u001b[0;34m\u001b[0m\u001b[0m\n\u001b[0m\u001b[1;32m    883\u001b[0m \u001b[0;34m\u001b[0m\u001b[0m\n\u001b[1;32m    884\u001b[0m         if (\n",
      "\u001b[0;32m~/opt/anaconda3/lib/python3.7/site-packages/pandas/core/series.py\u001b[0m in \u001b[0;36m_get_value\u001b[0;34m(self, label, takeable)\u001b[0m\n\u001b[1;32m    989\u001b[0m \u001b[0;34m\u001b[0m\u001b[0m\n\u001b[1;32m    990\u001b[0m         \u001b[0;31m# Similar to Index.get_value, but we do not fall back to positional\u001b[0m\u001b[0;34m\u001b[0m\u001b[0;34m\u001b[0m\u001b[0;34m\u001b[0m\u001b[0m\n\u001b[0;32m--> 991\u001b[0;31m         \u001b[0mloc\u001b[0m \u001b[0;34m=\u001b[0m \u001b[0mself\u001b[0m\u001b[0;34m.\u001b[0m\u001b[0mindex\u001b[0m\u001b[0;34m.\u001b[0m\u001b[0mget_loc\u001b[0m\u001b[0;34m(\u001b[0m\u001b[0mlabel\u001b[0m\u001b[0;34m)\u001b[0m\u001b[0;34m\u001b[0m\u001b[0;34m\u001b[0m\u001b[0m\n\u001b[0m\u001b[1;32m    992\u001b[0m         \u001b[0;32mreturn\u001b[0m \u001b[0mself\u001b[0m\u001b[0;34m.\u001b[0m\u001b[0mindex\u001b[0m\u001b[0;34m.\u001b[0m\u001b[0m_get_values_for_loc\u001b[0m\u001b[0;34m(\u001b[0m\u001b[0mself\u001b[0m\u001b[0;34m,\u001b[0m \u001b[0mloc\u001b[0m\u001b[0;34m,\u001b[0m \u001b[0mlabel\u001b[0m\u001b[0;34m)\u001b[0m\u001b[0;34m\u001b[0m\u001b[0;34m\u001b[0m\u001b[0m\n\u001b[1;32m    993\u001b[0m \u001b[0;34m\u001b[0m\u001b[0m\n",
      "\u001b[0;32m~/opt/anaconda3/lib/python3.7/site-packages/pandas/core/indexes/range.py\u001b[0m in \u001b[0;36mget_loc\u001b[0;34m(self, key, method, tolerance)\u001b[0m\n\u001b[1;32m    351\u001b[0m                     \u001b[0;32mreturn\u001b[0m \u001b[0mself\u001b[0m\u001b[0;34m.\u001b[0m\u001b[0m_range\u001b[0m\u001b[0;34m.\u001b[0m\u001b[0mindex\u001b[0m\u001b[0;34m(\u001b[0m\u001b[0mnew_key\u001b[0m\u001b[0;34m)\u001b[0m\u001b[0;34m\u001b[0m\u001b[0;34m\u001b[0m\u001b[0m\n\u001b[1;32m    352\u001b[0m                 \u001b[0;32mexcept\u001b[0m \u001b[0mValueError\u001b[0m \u001b[0;32mas\u001b[0m \u001b[0merr\u001b[0m\u001b[0;34m:\u001b[0m\u001b[0;34m\u001b[0m\u001b[0;34m\u001b[0m\u001b[0m\n\u001b[0;32m--> 353\u001b[0;31m                     \u001b[0;32mraise\u001b[0m \u001b[0mKeyError\u001b[0m\u001b[0;34m(\u001b[0m\u001b[0mkey\u001b[0m\u001b[0;34m)\u001b[0m \u001b[0;32mfrom\u001b[0m \u001b[0merr\u001b[0m\u001b[0;34m\u001b[0m\u001b[0;34m\u001b[0m\u001b[0m\n\u001b[0m\u001b[1;32m    354\u001b[0m             \u001b[0;32mraise\u001b[0m \u001b[0mKeyError\u001b[0m\u001b[0;34m(\u001b[0m\u001b[0mkey\u001b[0m\u001b[0;34m)\u001b[0m\u001b[0;34m\u001b[0m\u001b[0;34m\u001b[0m\u001b[0m\n\u001b[1;32m    355\u001b[0m         \u001b[0;32mreturn\u001b[0m \u001b[0msuper\u001b[0m\u001b[0;34m(\u001b[0m\u001b[0;34m)\u001b[0m\u001b[0;34m.\u001b[0m\u001b[0mget_loc\u001b[0m\u001b[0;34m(\u001b[0m\u001b[0mkey\u001b[0m\u001b[0;34m,\u001b[0m \u001b[0mmethod\u001b[0m\u001b[0;34m=\u001b[0m\u001b[0mmethod\u001b[0m\u001b[0;34m,\u001b[0m \u001b[0mtolerance\u001b[0m\u001b[0;34m=\u001b[0m\u001b[0mtolerance\u001b[0m\u001b[0;34m)\u001b[0m\u001b[0;34m\u001b[0m\u001b[0;34m\u001b[0m\u001b[0m\n",
      "\u001b[0;31mKeyError\u001b[0m: 64"
     ]
    }
   ],
   "source": [
    "beaumont = pd.read_csv('beaumont_data.csv')\n",
    "beaumont_covid = beaumont['text'].str.contains('covid|coronavirus', flags=re.IGNORECASE, regex=True).sum()\n",
    "for i in range(75):\n",
    "    print(beaumont[beaumont['text'].str.contains('covid|coronavirus', flags=re.IGNORECASE, regex=True).fillna(False)].reset_index()['text'][i])\n",
    "    print('')"
   ]
  },
  {
   "cell_type": "code",
   "execution_count": 11,
   "metadata": {},
   "outputs": [
    {
     "name": "stdout",
     "output_type": "stream",
     "text": [
      "@Eye_Nova RT @CNN: Abbott Labs got emergency approval from the US Food and Drug Administration for its rapid antigen test, which can detect a Covid-19 infection in 15 minutes.\n",
      "\n",
      "It’s time!!!! I seriously need my Disney fix! #disneyworld #disneylife #travel #florida #donewithcovid @Harker Heights, Texas https://www.instagram.com/p/CEkll4chADCPoo-KBV6Efpf6VSUFVufsHE9Yr80/?igshid=1k5sdk76v7j7\n",
      "\n",
      "COVID shaming is what my boss does\n",
      "\n",
      "All i know is that my bday is in October....Covid or not, we’re turning up in Dallas. I haven’t done anything since March so \n",
      "\n",
      "Sounds like what my mom... When she had covid \n",
      "\n",
      "@Eye_Nova RT @NBCNews: Under the executive order, the CDC can use its power under federal law to prevent any landlord who has the legal right to evict a tenant from doing so to prevent the spread of COVID-19.\n",
      "\n",
      "When this broth is done it'll cure Gary's COVID\n",
      "\n",
      "Smh! RT @CNN: The White House said the US will not participate in an international effort to develop and distribute a coronavirus vaccine because the initiative is tied to the World Health Organization.\n",
      "\n",
      "Correct, because the gunshot wound was not exacerbated by heart disease. It did the job on its own. By deductive reasoning, the CDC asserts that 94% of deaths due to COVID were exacerbated by the presence of other underlying diseases. Only 6% deaths from COVID, WERE PURE COVID.\n",
      "\n",
      "ugh my retainer broke during covid & my teeth fucking shifted within the first week. More dental work to come \n",
      "\n",
      "That's because only 6% of COVID deaths ARE from COVID alone.\n",
      "\n",
      "That being said, the stat from the CDC read that 6% of all COVID-19 related deaths in the U.S. were PURELY due to COVID-19, with no comorbidities. That is, with no other known diseases.\n",
      "\n",
      "This is disingenuous at best, a flat out fallacy at worst. The effects of a virus is often exacerbated by the presence of a chronic disorder. Interestingly enough, diabetes is one of those disorders that helps COVID-19 kill more effectively.\n",
      "\n",
      "New #webinar! Join us for \"Emotional Wellness for Military Children during #COVID19 with Dr. Bonnie Jordan\" on September 9 at 12 pm ET. Register here: http://militarychild.adobeconnect.com/web2720/event/registration.html\n",
      "\n",
      "Could the U.S. really see a coronavirus vaccine before Election Day?\n",
      "\n",
      "Btw, wow..... imagine wishing covid on someone......oof what a fail.\n",
      "\n",
      "Sanofi and GSK move Covid-19 vaccine into human trials https://www.statnews.com/2020/09/03/sanofi-gsk-covid19-vaccine-human-trials/ via @statnews\n",
      "\n",
      "What? Sooooo trump = no music????? Explain. Lmfao Because as far as I can see my little local band has been doing pretty despite the covid. Fuck the music industry, music isn’t an industry, it’s art.\n",
      "\n",
      "Health agency: COVID-19 hitting health workers hard in Americas\n",
      "\n",
      "Children can have COVID-19 antibodies and virus in their system simultaneously https://medicalxpress.com/news/2020-09-children-covid-antibodies-virus-simultaneously.html via @medical_xpress\n",
      "\n",
      "In Coryell County on Thursday, there were a total of 552 coronavirus cases, 208 of which were active. There have been 338 recoveries as of Wednesday, according to the county's website.\n",
      "\n",
      "The confirmed death toll from the coronavirus passed 50,000 in the Middle East on Thursday, according to a count from The Associated Press based on official numbers provided by health authorities.\n",
      "\n",
      "He didn't have a mental breakdown. He was high on pcp. BIG DIFFERENCE. I don't understand the lack of common sense with y'all. He was high, spit on officers and told them he had covid-19. They put a hood on him to protect themselves.\n",
      "\n",
      "Grfoh... YOUR FAMILY FAILED YOUR BROTHER. He spit on the cops and told them he had covid-19. He was HIGH on pcp, not mentally fcking disturbed. Intoxication isn't an excuse for shit behavior and neither is being high. Fck his family.\n",
      "\n",
      "Smoking dick nobody in my household taking a Covid vaccine , move around\n",
      "\n",
      "So you say #coronavirus coverage largely left the news in May?! You’re full of it. The San Antonio Express-News, Houston Chronicle, Washington Post and New York Times, among many daily papers, have reported in the virus since at least late February. It’s the story of the century.\n",
      "\n",
      "H-E-B’s main man weighs in on mail ballots, saying they’re the right thing to do as #coronavirus threatens people of all ages, and has led to 186K deaths and counting in the USA. #WearAMaskSaveALife\n",
      "\n",
      "The Rock and his family has COVID. Oh man\n",
      "\n",
      "Young people like to have sex.. probably having sex without a mask is spreading Covid-19..oh and it’s hard (pun intended) to have sex 6 ft apart....I think \n",
      "\n",
      "A mix of worry and resignation is discernible behind the masks of parents picking up school textbooks in a working class Spanish neighborhood with a steady rise in new coronavirus infections.\n",
      "\n",
      "The head of the World Health Organization said the U.N. health agency will not recommend any COVID-19 vaccine before it is proved safe and effective, even as Russia and China have started using their experimental vaccines before large …\n",
      "\n",
      "Joe Biden said Friday that he's been tested at least once for the COVID-19 virus and promised he will be tested regularly during his general election campaign against President Donald Trump.\n",
      "\n",
      "Hello friends! Today is #worldsexualhealthday. Thanks for the reminder jillkrapfmd. She has a fantastic post today on Sex and Covid-19. The world health organization #who who defines sexual health as \"…a… https://www.instagram.com/p/CEuM7ZEgDTv/?igshid=44atfp238788\n",
      "\n",
      "With the coronavirus spreading through colleges at alarming rates, universities are scrambling to find quarantine locations in dormitory buildings and off-campus properties to isolate the thousands of students who have caught or been exposed to it.\n",
      "\n",
      "Thian no... it’s prevents us from being out for a longer period time so it’s less of chance getting COVID.\n",
      "\n",
      "Pre COVID, I went every week. Now, I don't. Their system is complicated.\n",
      "\n",
      "The Texas Department of State Health Services is now reporting 635,315 coronavirus cases in the state as of Saturday afternoon, with 4,456 new cases.\n",
      "\n",
      "Imagine if you cared as much about bounties on American troops. Or 180,000+ COVID19 American deaths that were caused by @realDonaldTrump's incompetence. \n",
      "\n",
      "Speaking of records... U.S. March, April job losses revised higher https://www.reuters.com/article/us-usa-economy-jobs-idUSKBN22P36M This isn't job creation, it's layoff recalls. The pain of @realDonaldTrump's incompetent response to COVID19 will last for years.\n",
      "\n",
      "Don’t know , it’s already a process on top of Covid being around\n",
      "\n"
     ]
    }
   ],
   "source": [
    "killeen = pd.read_csv('killeen_data.csv')\n",
    "killeen_covid = killeen['text'].str.contains('covid|coronavirus', flags=re.IGNORECASE, regex=True).sum()\n",
    "for i in range(killeen_covid):\n",
    "    print(killeen[killeen['text'].str.contains('covid|coronavirus', flags=re.IGNORECASE, regex=True).fillna(False)].reset_index()['text'][i])\n",
    "    print('')"
   ]
  },
  {
   "cell_type": "markdown",
   "metadata": {},
   "source": [
    "I initially considered removing tweets making light of covid, but ended up leaving them in because a person could be more likely to tweet about how silly they think covid is if people around them are panicking about it."
   ]
  },
  {
   "cell_type": "markdown",
   "metadata": {},
   "source": [
    "## Checking Size of Data Pull\n",
    "It seemed interesting to see how many tweets were coming from each region. A smaller number of absolute tweets pertaining to covid might make sense in communities without that much tweeting going on at all."
   ]
  },
  {
   "cell_type": "code",
   "execution_count": 25,
   "metadata": {},
   "outputs": [
    {
     "name": "stdout",
     "output_type": "stream",
     "text": [
      "For the city of HOUSTON:\n",
      "\t total tweets: 14000\n",
      "\t covid tweets: 75\n",
      "\t percent of covid tweets: 0.5357142857142857%\n",
      "\n",
      "\n",
      "For the city of KILLEEN:\n",
      "\t total tweets: 8060\n",
      "\t covid tweets: 40\n",
      "\t percent of covid tweets: 0.49627791563275436%\n",
      "\n",
      "\n",
      "For the city of BEAUMONT-PORTA:\n",
      "\t total tweets: 8706\n",
      "\t covid tweets: 64\n",
      "\t percent of covid tweets: 0.7351252010107971%\n",
      "\n",
      "\n",
      "For the city of MIDLAND:\n",
      "\t total tweets: 5679\n",
      "\t covid tweets: 42\n",
      "\t percent of covid tweets: 0.739566825145272%\n",
      "\n",
      "\n",
      "For the city of NACOGDOCHES:\n",
      "\t total tweets: 2827\n",
      "\t covid tweets: 10\n",
      "\t percent of covid tweets: 0.3537318712415989%\n",
      "\n",
      "\n",
      "For the city of VICTORIA:\n",
      "\t total tweets: 2727\n",
      "\t covid tweets: 22\n",
      "\t percent of covid tweets: 0.8067473414008067%\n",
      "\n",
      "\n",
      "For the city of COLLEGE STATION- BRYAN:\n",
      "\t total tweets: 287\n",
      "\t covid tweets: 1\n",
      "\t percent of covid tweets: 0.34843205574912894%\n",
      "\n",
      "\n"
     ]
    }
   ],
   "source": [
    "cities ={'Houston': [houston, houston_covid], \n",
    "         'Killeen': [killeen, killeen_covid],\n",
    "         'Beaumont-PortA': [beaumont, beaumont_covid],\n",
    "         'Midland': [midland, midland_covid],\n",
    "         'Nacogdoches': [nacogdoches, nacogdoches_covid],\n",
    "         'Victoria': [victoria, victoria_covid],\n",
    "         'College Station- Bryan': [college_sation_bryan, cs_bryan_covid]}\n",
    "for key, value in cities.items():\n",
    "    print(f'For the city of {key.upper()}:')\n",
    "    print(f'\\t total tweets: {value[0].shape[0]}')\n",
    "    print(f'\\t covid tweets: {value[1]}')\n",
    "    print(f'\\t percent of covid tweets: {100 * value[1] / value[0].shape[0]}%\\n\\n')"
   ]
  },
  {
   "cell_type": "markdown",
   "metadata": {},
   "source": [
    "## Visualizing Top Words by City"
   ]
  },
  {
   "cell_type": "code",
   "execution_count": 59,
   "metadata": {},
   "outputs": [
    {
     "data": {
      "image/png": "[encoded data removed]",
      "text/plain": [
       "<Figure size 432x288 with 1 Axes>"
      ]
     },
     "metadata": {
      "needs_background": "light"
     },
     "output_type": "display_data"
    },
    {
     "data": {
      "image/png": "[encoded data removed]",
      "text/plain": [
       "<Figure size 432x288 with 1 Axes>"
      ]
     },
     "metadata": {
      "needs_background": "light"
     },
     "output_type": "display_data"
    },
    {
     "data": {
      "image/png": "[encoded data removed]",
      "text/plain": [
       "<Figure size 432x288 with 1 Axes>"
      ]
     },
     "metadata": {
      "needs_background": "light"
     },
     "output_type": "display_data"
    },
    {
     "data": {
      "image/png": "[encoded data removed]",
      "text/plain": [
       "<Figure size 432x288 with 1 Axes>"
      ]
     },
     "metadata": {
      "needs_background": "light"
     },
     "output_type": "display_data"
    },
    {
     "data": {
      "image/png": "[encoded data removed]",
      "text/plain": [
       "<Figure size 432x288 with 1 Axes>"
      ]
     },
     "metadata": {
      "needs_background": "light"
     },
     "output_type": "display_data"
    },
    {
     "data": {
      "image/png": "[encoded data removed]",
      "text/plain": [
       "<Figure size 432x288 with 1 Axes>"
      ]
     },
     "metadata": {
      "needs_background": "light"
     },
     "output_type": "display_data"
    },
    {
     "data": {
      "image/png": "[encoded data removed]",
      "text/plain": [
       "<Figure size 432x288 with 1 Axes>"
      ]
     },
     "metadata": {
      "needs_background": "light"
     },
     "output_type": "display_data"
    }
   ],
   "source": [
    "for key, value in cities.items():\n",
    "    temp_df = value[0][['text']].dropna()\n",
    "    cv = CountVectorizer(stop_words='english', min_df=3)\n",
    "    cv.fit(temp_df['text'])\n",
    "\n",
    "    tweet_cv = cv.transform(non_pic_houston['text'])\n",
    "    tweet_df = pd.DataFrame(tweet_cv.todense(), columns=cv.get_feature_names())\n",
    "    tweet_df.sum().sort_values(ascending=False).head(10).plot(kind='barh')\n",
    "    plt.title(f'Top 10 Words for the city of {key}')\n",
    "    plt.show()"
   ]
  },
  {
   "cell_type": "code",
   "execution_count": null,
   "metadata": {},
   "outputs": [],
   "source": []
  }
 ],
 "metadata": {
  "kernelspec": {
   "display_name": "Python 3",
   "language": "python",
   "name": "python3"
  },
  "language_info": {
   "codemirror_mode": {
    "name": "ipython",
    "version": 3
   },
   "file_extension": ".py",
   "mimetype": "text/x-python",
   "name": "python",
   "nbconvert_exporter": "python",
   "pygments_lexer": "ipython3",
   "version": "3.7.6"
  }
 },
 "nbformat": 4,
 "nbformat_minor": 4
}
