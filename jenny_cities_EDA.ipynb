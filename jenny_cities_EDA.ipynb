{
 "cells": [
  {
   "cell_type": "code",
   "execution_count": null,
   "metadata": {},
   "outputs": [],
   "source": [
    "# pip install GetOldTweets3\n",
    "# run in terminal\n",
    "# jennyjames@Jennys-MacBook-Air Project5-Mapping-Covid-Hotspots % GetOldTweets3 \n",
    "#--querysearch \"covid\" --since 2020-05-01 --until 2020-05-02 --maxtweets 1000"
   ]
  },
  {
   "cell_type": "code",
   "execution_count": 25,
   "metadata": {},
   "outputs": [],
   "source": [
    "import GetOldTweets3 as got\n",
    "from pyquery import PyQuery\n",
    "import pandas as pd\n",
    "import os\n",
    "import glob\n",
    "import re\n",
    "import time"
   ]
  },
  {
   "cell_type": "code",
   "execution_count": 5,
   "metadata": {},
   "outputs": [],
   "source": [
    "# Define a function to request tweets within a certain time period\n",
    "def get_tweets(query, since, until, max_tweets,location, radius):\n",
    "    # Set our tweet criteria using GetOldTweets3\n",
    "    tweetCriteria = got.manager.TweetCriteria()\\\n",
    "                                            .setQuerySearch(query)\\\n",
    "                                            .setSince(since)\\\n",
    "                                            .setUntil(until)\\\n",
    "                                            .setMaxTweets(max_tweets)\\\n",
    "                                            .setNear(location)\\\n",
    "                                            .setWithin(radius)\n",
    "    \n",
    "    tweet = got.manager.TweetManager.getTweets(tweetCriteria)\n",
    "    return tweet"
   ]
  },
  {
   "cell_type": "code",
   "execution_count": 6,
   "metadata": {},
   "outputs": [],
   "source": [
    "def create_df(tweet):\n",
    "    total_list = []\n",
    "    for i in range(len(tweet)):\n",
    "        my_dict = {\n",
    "            \"id\" : tweet[i].id,\n",
    "            \"text\" : tweet[i].text,\n",
    "            \"date\" : tweet[i].date,\n",
    "            \"retweets\" : tweet[i].retweets,\n",
    "            \"favorites\" : tweet[i].favorites,\n",
    "            \"mentions\" : tweet[i].mentions,\n",
    "            \"hashtags\" : tweet[i].hashtags,\n",
    "            \"geo\" : tweet[i].geo  \n",
    "        }\n",
    "        total_list.append(my_dict)\n",
    "    return pd.DataFrame(total_list)"
   ]
  },
  {
   "cell_type": "code",
   "execution_count": 44,
   "metadata": {},
   "outputs": [],
   "source": [
    "def all_tweets(region, query, since, until,\n",
    "                max_tweets, location, radius):\n",
    "    t0 = time.time() \n",
    "    df = pd.DataFrame()\n",
    "    for i in range(len(since)):\n",
    "        x = get_tweets(query=query,\n",
    "                   since=since[i],\n",
    "                   until=until[i],\n",
    "                   max_tweets = max_tweets,\n",
    "                   location = location,\n",
    "                   radius = radius\n",
    "                  )\n",
    "        df = pd.concat([df,create_df(x)])\n",
    "        print(f\"Index {i}: week {since[i]} complete at {t0 - time.time()} seconds\")\n",
    "        #if i < len(since)-1:\n",
    "            #time.sleep(60)\n",
    "    print(f\"Final run time: {t0 - time.time()} seconds\")\n",
    "    df[\"region\"] = region\n",
    "    df.to_csv(f\"{region}_data.csv\")\n",
    "    return df"
   ]
  },
  {
   "cell_type": "code",
   "execution_count": 173,
   "metadata": {},
   "outputs": [],
   "source": [
    "since = [\"2020-08-30\", \"2020-08-31\",\"2020-09-01\",\"2020-09-02\",\"2020-09-03\",\n",
    "                        \"2020-09-04\",\"2020-09-05\"]\n",
    "until = [\"2020-08-31\",\"2020-09-01\",\"2020-09-02\",\"2020-09-03\",\n",
    "                        \"2020-09-04\",\"2020-09-05\",\"2020-09-06\"]"
   ]
  },
  {
   "cell_type": "code",
   "execution_count": 113,
   "metadata": {},
   "outputs": [
    {
     "name": "stdout",
     "output_type": "stream",
     "text": [
      "Index 0: week 2020-08-30 complete at -69.85161113739014 seconds\n",
      "Index 1: week 2020-08-31 complete at -143.1999032497406 seconds\n",
      "Index 2: week 2020-09-01 complete at -216.1521201133728 seconds\n",
      "Index 3: week 2020-09-02 complete at -290.97816610336304 seconds\n",
      "Index 4: week 2020-09-03 complete at -365.7623562812805 seconds\n",
      "Index 5: week 2020-09-04 complete at -437.02507519721985 seconds\n",
      "Index 6: week 2020-09-05 complete at -509.6995692253113 seconds\n",
      "Final run time: -509.69969630241394 seconds\n"
     ]
    }
   ],
   "source": [
    "sanantoniodf= all_tweets(\n",
    "                region =  \"SanAntonio_noquery\",\n",
    "                query = ' ',\n",
    "                since = since,\n",
    "                until = until,\n",
    "                max_tweets = 2000,\n",
    "                location = \"29.42412, -98.49363\",\n",
    "                radius = \"50km\")"
   ]
  },
  {
   "cell_type": "code",
   "execution_count": 115,
   "metadata": {},
   "outputs": [
    {
     "name": "stdout",
     "output_type": "stream",
     "text": [
      "<class 'pandas.core.frame.DataFrame'>\n",
      "Int64Index: 14000 entries, 0 to 1999\n",
      "Data columns (total 9 columns):\n",
      " #   Column     Non-Null Count  Dtype              \n",
      "---  ------     --------------  -----              \n",
      " 0   id         14000 non-null  object             \n",
      " 1   text       14000 non-null  object             \n",
      " 2   date       14000 non-null  datetime64[ns, UTC]\n",
      " 3   retweets   14000 non-null  int64              \n",
      " 4   favorites  14000 non-null  int64              \n",
      " 5   mentions   14000 non-null  object             \n",
      " 6   hashtags   14000 non-null  object             \n",
      " 7   geo        14000 non-null  object             \n",
      " 8   region     14000 non-null  object             \n",
      "dtypes: datetime64[ns, UTC](1), int64(2), object(6)\n",
      "memory usage: 1.1+ MB\n"
     ]
    }
   ],
   "source": [
    "sanantoniodf.info()"
   ]
  },
  {
   "cell_type": "code",
   "execution_count": 174,
   "metadata": {},
   "outputs": [
    {
     "data": {
      "text/plain": [
       "id           0\n",
       "text         0\n",
       "date         0\n",
       "retweets     0\n",
       "favorites    0\n",
       "mentions     0\n",
       "hashtags     0\n",
       "geo          0\n",
       "region       0\n",
       "dtype: int64"
      ]
     },
     "execution_count": 174,
     "metadata": {},
     "output_type": "execute_result"
    }
   ],
   "source": [
    "sanantoniodf.isnull().sum()"
   ]
  },
  {
   "cell_type": "code",
   "execution_count": 114,
   "metadata": {},
   "outputs": [
    {
     "data": {
      "text/plain": [
       "70"
      ]
     },
     "execution_count": 114,
     "metadata": {},
     "output_type": "execute_result"
    }
   ],
   "source": [
    "sanantonio_covid = sanantoniodf['text'].str.contains('covid|coronavirus', flags=re.IGNORECASE, regex=True).sum()\n",
    "sanantonio_covid"
   ]
  },
  {
   "cell_type": "code",
   "execution_count": 120,
   "metadata": {},
   "outputs": [
    {
     "name": "stdout",
     "output_type": "stream",
     "text": [
      "Index 0: week 2020-08-30 complete at -77.57700872421265 seconds\n",
      "Index 1: week 2020-08-31 complete at -153.4064769744873 seconds\n",
      "Index 2: week 2020-09-01 complete at -228.11416792869568 seconds\n",
      "Index 3: week 2020-09-02 complete at -303.1051378250122 seconds\n",
      "Index 4: week 2020-09-03 complete at -379.19834184646606 seconds\n",
      "Index 5: week 2020-09-04 complete at -453.27584409713745 seconds\n",
      "Index 6: week 2020-09-05 complete at -526.3920130729675 seconds\n",
      "Final run time: -526.3922138214111 seconds\n"
     ]
    }
   ],
   "source": [
    "austindf= all_tweets(\n",
    "                region =  \"Austin_noquery\",\n",
    "                query = ' ',\n",
    "                since = since,\n",
    "                until = until,\n",
    "                max_tweets = 2000,\n",
    "                location = \"30.26715, -97.74306\",\n",
    "                radius = \"30mi\")"
   ]
  },
  {
   "cell_type": "code",
   "execution_count": 121,
   "metadata": {},
   "outputs": [
    {
     "name": "stdout",
     "output_type": "stream",
     "text": [
      "<class 'pandas.core.frame.DataFrame'>\n",
      "Int64Index: 14000 entries, 0 to 1999\n",
      "Data columns (total 9 columns):\n",
      " #   Column     Non-Null Count  Dtype              \n",
      "---  ------     --------------  -----              \n",
      " 0   id         14000 non-null  object             \n",
      " 1   text       14000 non-null  object             \n",
      " 2   date       14000 non-null  datetime64[ns, UTC]\n",
      " 3   retweets   14000 non-null  int64              \n",
      " 4   favorites  14000 non-null  int64              \n",
      " 5   mentions   14000 non-null  object             \n",
      " 6   hashtags   14000 non-null  object             \n",
      " 7   geo        14000 non-null  object             \n",
      " 8   region     14000 non-null  object             \n",
      "dtypes: datetime64[ns, UTC](1), int64(2), object(6)\n",
      "memory usage: 1.1+ MB\n"
     ]
    }
   ],
   "source": [
    "austindf.info()"
   ]
  },
  {
   "cell_type": "code",
   "execution_count": 175,
   "metadata": {},
   "outputs": [
    {
     "data": {
      "text/plain": [
       "id           0\n",
       "text         0\n",
       "date         0\n",
       "retweets     0\n",
       "favorites    0\n",
       "mentions     0\n",
       "hashtags     0\n",
       "geo          0\n",
       "region       0\n",
       "dtype: int64"
      ]
     },
     "execution_count": 175,
     "metadata": {},
     "output_type": "execute_result"
    }
   ],
   "source": [
    "austindf.isnull().sum()"
   ]
  },
  {
   "cell_type": "code",
   "execution_count": 122,
   "metadata": {},
   "outputs": [
    {
     "data": {
      "text/plain": [
       "118"
      ]
     },
     "execution_count": 122,
     "metadata": {},
     "output_type": "execute_result"
    }
   ],
   "source": [
    "austin_covid = austindf['text'].str.contains('covid|coronavirus', flags=re.IGNORECASE, regex=True).sum()\n",
    "austin_covid"
   ]
  },
  {
   "cell_type": "code",
   "execution_count": 124,
   "metadata": {},
   "outputs": [
    {
     "name": "stdout",
     "output_type": "stream",
     "text": [
      "Index 0: week 2020-08-30 complete at -41.348856687545776 seconds\n",
      "Index 1: week 2020-08-31 complete at -80.6335518360138 seconds\n",
      "Index 2: week 2020-09-01 complete at -120.27925992012024 seconds\n",
      "Index 3: week 2020-09-02 complete at -156.22151684761047 seconds\n",
      "Index 4: week 2020-09-03 complete at -201.33850288391113 seconds\n",
      "Index 5: week 2020-09-04 complete at -275.64901185035706 seconds\n",
      "Index 6: week 2020-09-05 complete at -347.8025357723236 seconds\n",
      "Final run time: -347.80271005630493 seconds\n"
     ]
    }
   ],
   "source": [
    "corpusdf= all_tweets(\n",
    "                region =  \"Corpus_noquery\",\n",
    "                query = ' ',\n",
    "                since = since,\n",
    "                until = until,\n",
    "                max_tweets = 2000,\n",
    "                location = \"27.80058, -97.39638\",\n",
    "                radius = \"27mi\")"
   ]
  },
  {
   "cell_type": "code",
   "execution_count": 125,
   "metadata": {},
   "outputs": [
    {
     "name": "stdout",
     "output_type": "stream",
     "text": [
      "<class 'pandas.core.frame.DataFrame'>\n",
      "Int64Index: 9397 entries, 0 to 1999\n",
      "Data columns (total 9 columns):\n",
      " #   Column     Non-Null Count  Dtype              \n",
      "---  ------     --------------  -----              \n",
      " 0   id         9397 non-null   object             \n",
      " 1   text       9397 non-null   object             \n",
      " 2   date       9397 non-null   datetime64[ns, UTC]\n",
      " 3   retweets   9397 non-null   int64              \n",
      " 4   favorites  9397 non-null   int64              \n",
      " 5   mentions   9397 non-null   object             \n",
      " 6   hashtags   9397 non-null   object             \n",
      " 7   geo        9397 non-null   object             \n",
      " 8   region     9397 non-null   object             \n",
      "dtypes: datetime64[ns, UTC](1), int64(2), object(6)\n",
      "memory usage: 734.1+ KB\n"
     ]
    }
   ],
   "source": [
    "corpusdf.info()"
   ]
  },
  {
   "cell_type": "code",
   "execution_count": 176,
   "metadata": {},
   "outputs": [
    {
     "data": {
      "text/plain": [
       "id           0\n",
       "text         0\n",
       "date         0\n",
       "retweets     0\n",
       "favorites    0\n",
       "mentions     0\n",
       "hashtags     0\n",
       "geo          0\n",
       "region       0\n",
       "dtype: int64"
      ]
     },
     "execution_count": 176,
     "metadata": {},
     "output_type": "execute_result"
    }
   ],
   "source": [
    "corpusdf.isnull().sum()"
   ]
  },
  {
   "cell_type": "code",
   "execution_count": 126,
   "metadata": {},
   "outputs": [
    {
     "data": {
      "text/plain": [
       "51"
      ]
     },
     "execution_count": 126,
     "metadata": {},
     "output_type": "execute_result"
    }
   ],
   "source": [
    "corpus_covid = corpusdf['text'].str.contains('covid|coronavirus', flags=re.IGNORECASE, regex=True).sum()\n",
    "corpus_covid"
   ]
  },
  {
   "cell_type": "code",
   "execution_count": 134,
   "metadata": {},
   "outputs": [
    {
     "name": "stdout",
     "output_type": "stream",
     "text": [
      "Index 0: week 2020-08-30 complete at -13.69644808769226 seconds\n",
      "Index 1: week 2020-08-31 complete at -28.57435131072998 seconds\n",
      "Index 2: week 2020-09-01 complete at -43.38692617416382 seconds\n",
      "Index 3: week 2020-09-02 complete at -59.336262226104736 seconds\n",
      "Index 4: week 2020-09-03 complete at -74.33839416503906 seconds\n",
      "Index 5: week 2020-09-04 complete at -146.13612604141235 seconds\n",
      "Index 6: week 2020-09-05 complete at -216.7911741733551 seconds\n",
      "Final run time: -216.79136514663696 seconds\n"
     ]
    }
   ],
   "source": [
    "harlingen_df= all_tweets(\n",
    "                region =  \"Harlingen\",\n",
    "                query = ' ',\n",
    "                since = since,\n",
    "                until = until,\n",
    "                max_tweets = 2000,\n",
    "                location = \"26.190631, -97.696103\",\n",
    "                radius = \"13mi\")"
   ]
  },
  {
   "cell_type": "code",
   "execution_count": 135,
   "metadata": {},
   "outputs": [
    {
     "name": "stdout",
     "output_type": "stream",
     "text": [
      "<class 'pandas.core.frame.DataFrame'>\n",
      "Int64Index: 6073 entries, 0 to 1999\n",
      "Data columns (total 9 columns):\n",
      " #   Column     Non-Null Count  Dtype              \n",
      "---  ------     --------------  -----              \n",
      " 0   id         6073 non-null   object             \n",
      " 1   text       6073 non-null   object             \n",
      " 2   date       6073 non-null   datetime64[ns, UTC]\n",
      " 3   retweets   6073 non-null   int64              \n",
      " 4   favorites  6073 non-null   int64              \n",
      " 5   mentions   6073 non-null   object             \n",
      " 6   hashtags   6073 non-null   object             \n",
      " 7   geo        6073 non-null   object             \n",
      " 8   region     6073 non-null   object             \n",
      "dtypes: datetime64[ns, UTC](1), int64(2), object(6)\n",
      "memory usage: 474.5+ KB\n"
     ]
    }
   ],
   "source": [
    "harlingen_df.info()"
   ]
  },
  {
   "cell_type": "code",
   "execution_count": 177,
   "metadata": {},
   "outputs": [
    {
     "data": {
      "text/plain": [
       "id           0\n",
       "text         0\n",
       "date         0\n",
       "retweets     0\n",
       "favorites    0\n",
       "mentions     0\n",
       "hashtags     0\n",
       "geo          0\n",
       "region       0\n",
       "dtype: int64"
      ]
     },
     "execution_count": 177,
     "metadata": {},
     "output_type": "execute_result"
    }
   ],
   "source": [
    "harlingen_df.isnull().sum()"
   ]
  },
  {
   "cell_type": "code",
   "execution_count": 136,
   "metadata": {},
   "outputs": [
    {
     "data": {
      "text/plain": [
       "30"
      ]
     },
     "execution_count": 136,
     "metadata": {},
     "output_type": "execute_result"
    }
   ],
   "source": [
    "harlingen_covid = harlingen_df['text'].str.contains('covid|coronavirus', flags=re.IGNORECASE, regex=True).sum()\n",
    "harlingen_covid"
   ]
  },
  {
   "cell_type": "code",
   "execution_count": 137,
   "metadata": {},
   "outputs": [
    {
     "name": "stdout",
     "output_type": "stream",
     "text": [
      "Index 0: week 2020-08-30 complete at -10.488708019256592 seconds\n",
      "Index 1: week 2020-08-31 complete at -22.153608083724976 seconds\n",
      "Index 2: week 2020-09-01 complete at -35.22054314613342 seconds\n",
      "Index 3: week 2020-09-02 complete at -43.9814829826355 seconds\n",
      "Index 4: week 2020-09-03 complete at -56.82721304893494 seconds\n",
      "Index 5: week 2020-09-04 complete at -127.25100111961365 seconds\n",
      "Index 6: week 2020-09-05 complete at -195.88009405136108 seconds\n",
      "Final run time: -195.88023591041565 seconds\n"
     ]
    }
   ],
   "source": [
    "brownsville_df= all_tweets(\n",
    "                region =  \"Brownsville\",\n",
    "                query = ' ',\n",
    "                since = since,\n",
    "                until = until,\n",
    "                max_tweets = 2000,\n",
    "                location = \"25.90175, -97.49748\",\n",
    "                radius = \"15mi\")"
   ]
  },
  {
   "cell_type": "code",
   "execution_count": 138,
   "metadata": {},
   "outputs": [
    {
     "name": "stdout",
     "output_type": "stream",
     "text": [
      "<class 'pandas.core.frame.DataFrame'>\n",
      "Int64Index: 5551 entries, 0 to 1999\n",
      "Data columns (total 9 columns):\n",
      " #   Column     Non-Null Count  Dtype              \n",
      "---  ------     --------------  -----              \n",
      " 0   id         5551 non-null   object             \n",
      " 1   text       5551 non-null   object             \n",
      " 2   date       5551 non-null   datetime64[ns, UTC]\n",
      " 3   retweets   5551 non-null   int64              \n",
      " 4   favorites  5551 non-null   int64              \n",
      " 5   mentions   5551 non-null   object             \n",
      " 6   hashtags   5551 non-null   object             \n",
      " 7   geo        5551 non-null   object             \n",
      " 8   region     5551 non-null   object             \n",
      "dtypes: datetime64[ns, UTC](1), int64(2), object(6)\n",
      "memory usage: 433.7+ KB\n"
     ]
    }
   ],
   "source": [
    "brownsville_df.info()"
   ]
  },
  {
   "cell_type": "code",
   "execution_count": 178,
   "metadata": {},
   "outputs": [
    {
     "data": {
      "text/plain": [
       "id           0\n",
       "text         0\n",
       "date         0\n",
       "retweets     0\n",
       "favorites    0\n",
       "mentions     0\n",
       "hashtags     0\n",
       "geo          0\n",
       "region       0\n",
       "dtype: int64"
      ]
     },
     "execution_count": 178,
     "metadata": {},
     "output_type": "execute_result"
    }
   ],
   "source": [
    "brownsville_df.isnull().sum()"
   ]
  },
  {
   "cell_type": "code",
   "execution_count": 139,
   "metadata": {},
   "outputs": [
    {
     "data": {
      "text/plain": [
       "45"
      ]
     },
     "execution_count": 139,
     "metadata": {},
     "output_type": "execute_result"
    }
   ],
   "source": [
    "brownsville_covid = brownsville_df['text'].str.contains('covid|coronavirus', flags=re.IGNORECASE, regex=True).sum()\n",
    "brownsville_covid"
   ]
  },
  {
   "cell_type": "code",
   "execution_count": 141,
   "metadata": {},
   "outputs": [
    {
     "name": "stdout",
     "output_type": "stream",
     "text": [
      "Index 0: week 2020-08-30 complete at -44.127758264541626 seconds\n",
      "Index 1: week 2020-08-31 complete at -94.13497519493103 seconds\n",
      "Index 2: week 2020-09-01 complete at -150.2988600730896 seconds\n",
      "Index 3: week 2020-09-02 complete at -207.15475726127625 seconds\n",
      "Index 4: week 2020-09-03 complete at -265.2312672138214 seconds\n",
      "Index 5: week 2020-09-04 complete at -331.1652443408966 seconds\n",
      "Index 6: week 2020-09-05 complete at -397.59714818000793 seconds\n",
      "Final run time: -397.5973210334778 seconds\n"
     ]
    }
   ],
   "source": [
    "mcallen_df= all_tweets(\n",
    "                region =  \"Mcallen\",\n",
    "                query = ' ',\n",
    "                since = since,\n",
    "                until = until,\n",
    "                max_tweets = 2000,\n",
    "                location = \"26.209832494, -98.235165726\",\n",
    "                radius = \"25mi\")"
   ]
  },
  {
   "cell_type": "code",
   "execution_count": 142,
   "metadata": {},
   "outputs": [
    {
     "name": "stdout",
     "output_type": "stream",
     "text": [
      "<class 'pandas.core.frame.DataFrame'>\n",
      "Int64Index: 11546 entries, 0 to 1999\n",
      "Data columns (total 9 columns):\n",
      " #   Column     Non-Null Count  Dtype              \n",
      "---  ------     --------------  -----              \n",
      " 0   id         11546 non-null  object             \n",
      " 1   text       11546 non-null  object             \n",
      " 2   date       11546 non-null  datetime64[ns, UTC]\n",
      " 3   retweets   11546 non-null  int64              \n",
      " 4   favorites  11546 non-null  int64              \n",
      " 5   mentions   11546 non-null  object             \n",
      " 6   hashtags   11546 non-null  object             \n",
      " 7   geo        11546 non-null  object             \n",
      " 8   region     11546 non-null  object             \n",
      "dtypes: datetime64[ns, UTC](1), int64(2), object(6)\n",
      "memory usage: 902.0+ KB\n"
     ]
    }
   ],
   "source": [
    "mcallen_df.info()"
   ]
  },
  {
   "cell_type": "code",
   "execution_count": 179,
   "metadata": {},
   "outputs": [
    {
     "data": {
      "text/plain": [
       "id           0\n",
       "text         0\n",
       "date         0\n",
       "retweets     0\n",
       "favorites    0\n",
       "mentions     0\n",
       "hashtags     0\n",
       "geo          0\n",
       "region       0\n",
       "dtype: int64"
      ]
     },
     "execution_count": 179,
     "metadata": {},
     "output_type": "execute_result"
    }
   ],
   "source": [
    "mcallen_df.isnull().sum()"
   ]
  },
  {
   "cell_type": "code",
   "execution_count": 143,
   "metadata": {},
   "outputs": [
    {
     "data": {
      "text/plain": [
       "64"
      ]
     },
     "execution_count": 143,
     "metadata": {},
     "output_type": "execute_result"
    }
   ],
   "source": [
    "mcallen_covid = mcallen_df['text'].str.contains('covid|coronavirus', flags=re.IGNORECASE, regex=True).sum()\n",
    "mcallen_covid"
   ]
  },
  {
   "cell_type": "code",
   "execution_count": 144,
   "metadata": {},
   "outputs": [
    {
     "name": "stdout",
     "output_type": "stream",
     "text": [
      "Index 0: week 2020-08-30 complete at -7.509893178939819 seconds\n",
      "Index 1: week 2020-08-31 complete at -15.62413740158081 seconds\n",
      "Index 2: week 2020-09-01 complete at -24.281984090805054 seconds\n",
      "Index 3: week 2020-09-02 complete at -33.21909022331238 seconds\n",
      "Index 4: week 2020-09-03 complete at -43.521066427230835 seconds\n",
      "Index 5: week 2020-09-04 complete at -95.57344627380371 seconds\n",
      "Index 6: week 2020-09-05 complete at -151.69077229499817 seconds\n",
      "Final run time: -151.69099235534668 seconds\n"
     ]
    }
   ],
   "source": [
    "sanangelodf= all_tweets(\n",
    "                region =  \"San Angelo\",\n",
    "                query = ' ',\n",
    "                since = since,\n",
    "                until = until,\n",
    "                max_tweets = 2000,\n",
    "                location = \"31.46377, -100.43704\",\n",
    "                radius = \"10mi\")"
   ]
  },
  {
   "cell_type": "code",
   "execution_count": 145,
   "metadata": {},
   "outputs": [
    {
     "name": "stdout",
     "output_type": "stream",
     "text": [
      "<class 'pandas.core.frame.DataFrame'>\n",
      "Int64Index: 4498 entries, 0 to 1721\n",
      "Data columns (total 9 columns):\n",
      " #   Column     Non-Null Count  Dtype              \n",
      "---  ------     --------------  -----              \n",
      " 0   id         4498 non-null   object             \n",
      " 1   text       4498 non-null   object             \n",
      " 2   date       4498 non-null   datetime64[ns, UTC]\n",
      " 3   retweets   4498 non-null   int64              \n",
      " 4   favorites  4498 non-null   int64              \n",
      " 5   mentions   4498 non-null   object             \n",
      " 6   hashtags   4498 non-null   object             \n",
      " 7   geo        4498 non-null   object             \n",
      " 8   region     4498 non-null   object             \n",
      "dtypes: datetime64[ns, UTC](1), int64(2), object(6)\n",
      "memory usage: 351.4+ KB\n"
     ]
    }
   ],
   "source": [
    "sanangelodf.info()"
   ]
  },
  {
   "cell_type": "code",
   "execution_count": 180,
   "metadata": {},
   "outputs": [
    {
     "data": {
      "text/plain": [
       "id           0\n",
       "text         0\n",
       "date         0\n",
       "retweets     0\n",
       "favorites    0\n",
       "mentions     0\n",
       "hashtags     0\n",
       "geo          0\n",
       "region       0\n",
       "dtype: int64"
      ]
     },
     "execution_count": 180,
     "metadata": {},
     "output_type": "execute_result"
    }
   ],
   "source": [
    "sanangelodf.isnull().sum()"
   ]
  },
  {
   "cell_type": "code",
   "execution_count": 146,
   "metadata": {},
   "outputs": [
    {
     "data": {
      "text/plain": [
       "48"
      ]
     },
     "execution_count": 146,
     "metadata": {},
     "output_type": "execute_result"
    }
   ],
   "source": [
    "sanangelo_covid = sanangelodf['text'].str.contains('covid|coronavirus', flags=re.IGNORECASE, regex=True).sum()\n",
    "sanangelo_covid"
   ]
  },
  {
   "cell_type": "code",
   "execution_count": 147,
   "metadata": {},
   "outputs": [
    {
     "name": "stdout",
     "output_type": "stream",
     "text": [
      "Index 0: week 2020-08-30 complete at -1.7167599201202393 seconds\n",
      "Index 1: week 2020-08-31 complete at -4.168463945388794 seconds\n",
      "Index 2: week 2020-09-01 complete at -5.60020112991333 seconds\n",
      "Index 3: week 2020-09-02 complete at -7.071987152099609 seconds\n",
      "Index 4: week 2020-09-03 complete at -8.41736888885498 seconds\n",
      "Index 5: week 2020-09-04 complete at -22.550530910491943 seconds\n",
      "Index 6: week 2020-09-05 complete at -41.02782702445984 seconds\n",
      "Final run time: -41.02806305885315 seconds\n"
     ]
    }
   ],
   "source": [
    "delriodf= all_tweets(\n",
    "                region =  \"Del Rio\",\n",
    "                query = ' ',\n",
    "                since = since,\n",
    "                until = until,\n",
    "                max_tweets = 2000,\n",
    "                location = \"29.36273, -100.89676\",\n",
    "                radius = \"20mi\")"
   ]
  },
  {
   "cell_type": "code",
   "execution_count": 148,
   "metadata": {},
   "outputs": [
    {
     "name": "stdout",
     "output_type": "stream",
     "text": [
      "<class 'pandas.core.frame.DataFrame'>\n",
      "Int64Index: 1148 entries, 0 to 563\n",
      "Data columns (total 9 columns):\n",
      " #   Column     Non-Null Count  Dtype              \n",
      "---  ------     --------------  -----              \n",
      " 0   id         1148 non-null   object             \n",
      " 1   text       1148 non-null   object             \n",
      " 2   date       1148 non-null   datetime64[ns, UTC]\n",
      " 3   retweets   1148 non-null   int64              \n",
      " 4   favorites  1148 non-null   int64              \n",
      " 5   mentions   1148 non-null   object             \n",
      " 6   hashtags   1148 non-null   object             \n",
      " 7   geo        1148 non-null   object             \n",
      " 8   region     1148 non-null   object             \n",
      "dtypes: datetime64[ns, UTC](1), int64(2), object(6)\n",
      "memory usage: 89.7+ KB\n"
     ]
    }
   ],
   "source": [
    "delriodf.info()"
   ]
  },
  {
   "cell_type": "code",
   "execution_count": 181,
   "metadata": {},
   "outputs": [
    {
     "data": {
      "text/plain": [
       "id           0\n",
       "text         0\n",
       "date         0\n",
       "retweets     0\n",
       "favorites    0\n",
       "mentions     0\n",
       "hashtags     0\n",
       "geo          0\n",
       "region       0\n",
       "dtype: int64"
      ]
     },
     "execution_count": 181,
     "metadata": {},
     "output_type": "execute_result"
    }
   ],
   "source": [
    "delriodf.isnull().sum()"
   ]
  },
  {
   "cell_type": "code",
   "execution_count": 149,
   "metadata": {},
   "outputs": [
    {
     "data": {
      "text/plain": [
       "10"
      ]
     },
     "execution_count": 149,
     "metadata": {},
     "output_type": "execute_result"
    }
   ],
   "source": [
    "delrio_covid = delriodf['text'].str.contains('covid|coronavirus', flags=re.IGNORECASE, regex=True).sum()\n",
    "delrio_covid"
   ]
  },
  {
   "cell_type": "code",
   "execution_count": 165,
   "metadata": {},
   "outputs": [
    {
     "name": "stdout",
     "output_type": "stream",
     "text": [
      "Index 0: week 2020-08-30 complete at -3.972526788711548 seconds\n",
      "Index 1: week 2020-08-31 complete at -7.095767974853516 seconds\n",
      "Index 2: week 2020-09-01 complete at -11.489387035369873 seconds\n",
      "Index 3: week 2020-09-02 complete at -17.039788007736206 seconds\n",
      "Index 4: week 2020-09-03 complete at -21.148326873779297 seconds\n",
      "Index 5: week 2020-09-04 complete at -48.497071981430054 seconds\n",
      "Index 6: week 2020-09-05 complete at -82.02181196212769 seconds\n",
      "Final run time: -82.02201914787292 seconds\n"
     ]
    }
   ],
   "source": [
    "kerrfreddf= all_tweets(\n",
    "                region =  \"Kerrville Fredericksburg\",\n",
    "                query = ' ',\n",
    "                since = since,\n",
    "                until = until,\n",
    "                max_tweets = 2000,\n",
    "                location = \"30.181729, -99.010617\",\n",
    "                radius = \"17mi\")"
   ]
  },
  {
   "cell_type": "code",
   "execution_count": 151,
   "metadata": {},
   "outputs": [
    {
     "name": "stdout",
     "output_type": "stream",
     "text": [
      "<class 'pandas.core.frame.DataFrame'>\n",
      "Int64Index: 2278 entries, 0 to 985\n",
      "Data columns (total 9 columns):\n",
      " #   Column     Non-Null Count  Dtype              \n",
      "---  ------     --------------  -----              \n",
      " 0   id         2278 non-null   object             \n",
      " 1   text       2278 non-null   object             \n",
      " 2   date       2278 non-null   datetime64[ns, UTC]\n",
      " 3   retweets   2278 non-null   int64              \n",
      " 4   favorites  2278 non-null   int64              \n",
      " 5   mentions   2278 non-null   object             \n",
      " 6   hashtags   2278 non-null   object             \n",
      " 7   geo        2278 non-null   object             \n",
      " 8   region     2278 non-null   object             \n",
      "dtypes: datetime64[ns, UTC](1), int64(2), object(6)\n",
      "memory usage: 178.0+ KB\n"
     ]
    }
   ],
   "source": [
    "kerrfreddf.info()"
   ]
  },
  {
   "cell_type": "code",
   "execution_count": 182,
   "metadata": {},
   "outputs": [
    {
     "data": {
      "text/plain": [
       "id           0\n",
       "text         0\n",
       "date         0\n",
       "retweets     0\n",
       "favorites    0\n",
       "mentions     0\n",
       "hashtags     0\n",
       "geo          0\n",
       "region       0\n",
       "dtype: int64"
      ]
     },
     "execution_count": 182,
     "metadata": {},
     "output_type": "execute_result"
    }
   ],
   "source": [
    "kerrfreddf.isnull().sum()"
   ]
  },
  {
   "cell_type": "code",
   "execution_count": 152,
   "metadata": {},
   "outputs": [
    {
     "data": {
      "text/plain": [
       "9"
      ]
     },
     "execution_count": 152,
     "metadata": {},
     "output_type": "execute_result"
    }
   ],
   "source": [
    "kerrfred_covid = kerrfreddf['text'].str.contains('covid|coronavirus', flags=re.IGNORECASE, regex=True).sum()\n",
    "kerrfred_covid"
   ]
  },
  {
   "cell_type": "code",
   "execution_count": 167,
   "metadata": {},
   "outputs": [
    {
     "name": "stdout",
     "output_type": "stream",
     "text": [
      "Index 0: week 2020-08-30 complete at -42.64570093154907 seconds\n",
      "Index 1: week 2020-08-31 complete at -85.47061800956726 seconds\n",
      "Index 2: week 2020-09-01 complete at -134.01404690742493 seconds\n",
      "Index 3: week 2020-09-02 complete at -182.2821159362793 seconds\n",
      "Index 4: week 2020-09-03 complete at -239.64216709136963 seconds\n",
      "Index 5: week 2020-09-04 complete at -308.7650899887085 seconds\n",
      "Index 6: week 2020-09-05 complete at -376.7141661643982 seconds\n",
      "Final run time: -376.71433997154236 seconds\n"
     ]
    }
   ],
   "source": [
    "smnbsdf = all_tweets(\n",
    "                region =  \"San Marcos New Braunfels Seguin\",\n",
    "                query = ' ',\n",
    "                since = since,\n",
    "                until = until,\n",
    "                max_tweets = 2000,\n",
    "                location = \"29.710683, -97.979395\",\n",
    "                radius = \"17mi\")"
   ]
  },
  {
   "cell_type": "code",
   "execution_count": 168,
   "metadata": {},
   "outputs": [
    {
     "name": "stdout",
     "output_type": "stream",
     "text": [
      "<class 'pandas.core.frame.DataFrame'>\n",
      "Int64Index: 11046 entries, 0 to 1999\n",
      "Data columns (total 9 columns):\n",
      " #   Column     Non-Null Count  Dtype              \n",
      "---  ------     --------------  -----              \n",
      " 0   id         11046 non-null  object             \n",
      " 1   text       11046 non-null  object             \n",
      " 2   date       11046 non-null  datetime64[ns, UTC]\n",
      " 3   retweets   11046 non-null  int64              \n",
      " 4   favorites  11046 non-null  int64              \n",
      " 5   mentions   11046 non-null  object             \n",
      " 6   hashtags   11046 non-null  object             \n",
      " 7   geo        11046 non-null  object             \n",
      " 8   region     11046 non-null  object             \n",
      "dtypes: datetime64[ns, UTC](1), int64(2), object(6)\n",
      "memory usage: 863.0+ KB\n"
     ]
    }
   ],
   "source": [
    "smnbsdf.info()"
   ]
  },
  {
   "cell_type": "code",
   "execution_count": 183,
   "metadata": {},
   "outputs": [
    {
     "data": {
      "text/plain": [
       "id           0\n",
       "text         0\n",
       "date         0\n",
       "retweets     0\n",
       "favorites    0\n",
       "mentions     0\n",
       "hashtags     0\n",
       "geo          0\n",
       "region       0\n",
       "dtype: int64"
      ]
     },
     "execution_count": 183,
     "metadata": {},
     "output_type": "execute_result"
    }
   ],
   "source": [
    "smnbsdf.isnull().sum()"
   ]
  },
  {
   "cell_type": "code",
   "execution_count": 169,
   "metadata": {},
   "outputs": [
    {
     "data": {
      "text/plain": [
       "67"
      ]
     },
     "execution_count": 169,
     "metadata": {},
     "output_type": "execute_result"
    }
   ],
   "source": [
    "smnbs_covid = smnbsdf['text'].str.contains('covid|coronavirus', flags=re.IGNORECASE, regex=True).sum()\n",
    "smnbs_covid"
   ]
  },
  {
   "cell_type": "code",
   "execution_count": 162,
   "metadata": {},
   "outputs": [
    {
     "name": "stdout",
     "output_type": "stream",
     "text": [
      "Index 0: week 2020-08-30 complete at -3.4245200157165527 seconds\n",
      "Index 1: week 2020-08-31 complete at -7.638523101806641 seconds\n",
      "Index 2: week 2020-09-01 complete at -13.224915027618408 seconds\n",
      "Index 3: week 2020-09-02 complete at -25.32284188270569 seconds\n",
      "Index 4: week 2020-09-03 complete at -32.027194023132324 seconds\n",
      "Index 5: week 2020-09-04 complete at -101.29994916915894 seconds\n",
      "Index 6: week 2020-09-05 complete at -183.38299918174744 seconds\n",
      "Final run time: -183.38316917419434 seconds\n"
     ]
    }
   ],
   "source": [
    "lufkindf = all_tweets(\n",
    "                region =  \"Lufkin\",\n",
    "                query = ' ',\n",
    "                since = since,\n",
    "                until = until,\n",
    "                max_tweets = 2000,\n",
    "                location = \"31.338242, -94.729095\",\n",
    "                radius = \"7mi\")"
   ]
  },
  {
   "cell_type": "code",
   "execution_count": 163,
   "metadata": {},
   "outputs": [
    {
     "name": "stdout",
     "output_type": "stream",
     "text": [
      "<class 'pandas.core.frame.DataFrame'>\n",
      "Int64Index: 4769 entries, 0 to 1999\n",
      "Data columns (total 9 columns):\n",
      " #   Column     Non-Null Count  Dtype              \n",
      "---  ------     --------------  -----              \n",
      " 0   id         4769 non-null   object             \n",
      " 1   text       4769 non-null   object             \n",
      " 2   date       4769 non-null   datetime64[ns, UTC]\n",
      " 3   retweets   4769 non-null   int64              \n",
      " 4   favorites  4769 non-null   int64              \n",
      " 5   mentions   4769 non-null   object             \n",
      " 6   hashtags   4769 non-null   object             \n",
      " 7   geo        4769 non-null   object             \n",
      " 8   region     4769 non-null   object             \n",
      "dtypes: datetime64[ns, UTC](1), int64(2), object(6)\n",
      "memory usage: 372.6+ KB\n"
     ]
    }
   ],
   "source": [
    "lufkindf.info()"
   ]
  },
  {
   "cell_type": "code",
   "execution_count": 184,
   "metadata": {},
   "outputs": [
    {
     "data": {
      "text/plain": [
       "id           0\n",
       "text         0\n",
       "date         0\n",
       "retweets     0\n",
       "favorites    0\n",
       "mentions     0\n",
       "hashtags     0\n",
       "geo          0\n",
       "region       0\n",
       "dtype: int64"
      ]
     },
     "execution_count": 184,
     "metadata": {},
     "output_type": "execute_result"
    }
   ],
   "source": [
    "lufkindf.isnull().sum()"
   ]
  },
  {
   "cell_type": "code",
   "execution_count": 164,
   "metadata": {},
   "outputs": [
    {
     "data": {
      "text/plain": [
       "44"
      ]
     },
     "execution_count": 164,
     "metadata": {},
     "output_type": "execute_result"
    }
   ],
   "source": [
    "lufkin_covid = lufkindf['text'].str.contains('covid|coronavirus', flags=re.IGNORECASE, regex=True).sum()\n",
    "lufkin_covid"
   ]
  },
  {
   "cell_type": "code",
   "execution_count": 159,
   "metadata": {},
   "outputs": [
    {
     "name": "stdout",
     "output_type": "stream",
     "text": [
      "Index 0: week 2020-08-30 complete at -5.457345962524414 seconds\n",
      "Index 1: week 2020-08-31 complete at -10.236512899398804 seconds\n",
      "Index 2: week 2020-09-01 complete at -14.697542190551758 seconds\n",
      "Index 3: week 2020-09-02 complete at -19.47719383239746 seconds\n",
      "Index 4: week 2020-09-03 complete at -25.212862968444824 seconds\n",
      "Index 5: week 2020-09-04 complete at -56.213565826416016 seconds\n",
      "Index 6: week 2020-09-05 complete at -93.77255606651306 seconds\n",
      "Final run time: -93.77293419837952 seconds\n"
     ]
    }
   ],
   "source": [
    "eaglepassdf = all_tweets(\n",
    "                region =  \"Eagle Pass\",\n",
    "                query = ' ',\n",
    "                since = since,\n",
    "                until = until,\n",
    "                max_tweets = 2000,\n",
    "                location = \"28.709143, -100.499519\",\n",
    "                radius = \"6mi\")"
   ]
  },
  {
   "cell_type": "code",
   "execution_count": 160,
   "metadata": {},
   "outputs": [
    {
     "name": "stdout",
     "output_type": "stream",
     "text": [
      "<class 'pandas.core.frame.DataFrame'>\n",
      "Int64Index: 2699 entries, 0 to 1137\n",
      "Data columns (total 9 columns):\n",
      " #   Column     Non-Null Count  Dtype              \n",
      "---  ------     --------------  -----              \n",
      " 0   id         2699 non-null   object             \n",
      " 1   text       2699 non-null   object             \n",
      " 2   date       2699 non-null   datetime64[ns, UTC]\n",
      " 3   retweets   2699 non-null   int64              \n",
      " 4   favorites  2699 non-null   int64              \n",
      " 5   mentions   2699 non-null   object             \n",
      " 6   hashtags   2699 non-null   object             \n",
      " 7   geo        2699 non-null   object             \n",
      " 8   region     2699 non-null   object             \n",
      "dtypes: datetime64[ns, UTC](1), int64(2), object(6)\n",
      "memory usage: 210.9+ KB\n"
     ]
    }
   ],
   "source": [
    "eaglepassdf.info()"
   ]
  },
  {
   "cell_type": "code",
   "execution_count": 185,
   "metadata": {},
   "outputs": [
    {
     "data": {
      "text/plain": [
       "id           0\n",
       "text         0\n",
       "date         0\n",
       "retweets     0\n",
       "favorites    0\n",
       "mentions     0\n",
       "hashtags     0\n",
       "geo          0\n",
       "region       0\n",
       "dtype: int64"
      ]
     },
     "execution_count": 185,
     "metadata": {},
     "output_type": "execute_result"
    }
   ],
   "source": [
    "eaglepassdf.isnull().sum()"
   ]
  },
  {
   "cell_type": "code",
   "execution_count": 161,
   "metadata": {},
   "outputs": [
    {
     "data": {
      "text/plain": [
       "74"
      ]
     },
     "execution_count": 161,
     "metadata": {},
     "output_type": "execute_result"
    }
   ],
   "source": [
    "eaglepass_covid = eaglepassdf['text'].str.contains('covid|coronavirus', flags=re.IGNORECASE, regex=True).sum()\n",
    "eaglepass_covid"
   ]
  },
  {
   "cell_type": "code",
   "execution_count": 155,
   "metadata": {},
   "outputs": [
    {
     "name": "stdout",
     "output_type": "stream",
     "text": [
      "Index 0: week 2020-08-30 complete at -0.8047060966491699 seconds\n",
      "Index 1: week 2020-08-31 complete at -1.6175851821899414 seconds\n",
      "Index 2: week 2020-09-01 complete at -2.283762216567993 seconds\n",
      "Index 3: week 2020-09-02 complete at -3.05635404586792 seconds\n",
      "Index 4: week 2020-09-03 complete at -3.758852243423462 seconds\n",
      "Index 5: week 2020-09-04 complete at -5.314298152923584 seconds\n",
      "Index 6: week 2020-09-05 complete at -6.9009809494018555 seconds\n",
      "Final run time: -6.901202201843262 seconds\n"
     ]
    }
   ],
   "source": [
    "dalhartdf = all_tweets(\n",
    "                region =  \"Dalhart\",\n",
    "                query = ' ',\n",
    "                since = since,\n",
    "                until = until,\n",
    "                max_tweets = 2000,\n",
    "                location = \"36.0565, -102.5178\",\n",
    "                radius = \"5mi\")"
   ]
  },
  {
   "cell_type": "code",
   "execution_count": 156,
   "metadata": {},
   "outputs": [
    {
     "name": "stdout",
     "output_type": "stream",
     "text": [
      "<class 'pandas.core.frame.DataFrame'>\n",
      "Int64Index: 110 entries, 0 to 38\n",
      "Data columns (total 9 columns):\n",
      " #   Column     Non-Null Count  Dtype              \n",
      "---  ------     --------------  -----              \n",
      " 0   id         110 non-null    object             \n",
      " 1   text       110 non-null    object             \n",
      " 2   date       110 non-null    datetime64[ns, UTC]\n",
      " 3   retweets   110 non-null    int64              \n",
      " 4   favorites  110 non-null    int64              \n",
      " 5   mentions   110 non-null    object             \n",
      " 6   hashtags   110 non-null    object             \n",
      " 7   geo        110 non-null    object             \n",
      " 8   region     110 non-null    object             \n",
      "dtypes: datetime64[ns, UTC](1), int64(2), object(6)\n",
      "memory usage: 8.6+ KB\n"
     ]
    }
   ],
   "source": [
    "dalhartdf.info()"
   ]
  },
  {
   "cell_type": "code",
   "execution_count": 186,
   "metadata": {},
   "outputs": [
    {
     "data": {
      "text/plain": [
       "id           0\n",
       "text         0\n",
       "date         0\n",
       "retweets     0\n",
       "favorites    0\n",
       "mentions     0\n",
       "hashtags     0\n",
       "geo          0\n",
       "region       0\n",
       "dtype: int64"
      ]
     },
     "execution_count": 186,
     "metadata": {},
     "output_type": "execute_result"
    }
   ],
   "source": [
    "dalhartdf.isnull().sum()"
   ]
  },
  {
   "cell_type": "code",
   "execution_count": 157,
   "metadata": {},
   "outputs": [
    {
     "data": {
      "text/plain": [
       "4"
      ]
     },
     "execution_count": 157,
     "metadata": {},
     "output_type": "execute_result"
    }
   ],
   "source": [
    "dalhart_covid = dalhartdf['text'].str.contains('covid|coronavirus', flags=re.IGNORECASE, regex=True).sum()\n",
    "dalhart_covid"
   ]
  },
  {
   "cell_type": "code",
   "execution_count": 188,
   "metadata": {},
   "outputs": [
    {
     "name": "stdout",
     "output_type": "stream",
     "text": [
      "Index 0: week 2020-08-30 complete at -4.775942802429199 seconds\n",
      "Index 1: week 2020-08-31 complete at -10.396492719650269 seconds\n",
      "Index 2: week 2020-09-01 complete at -14.642585754394531 seconds\n",
      "Index 3: week 2020-09-02 complete at -19.995839834213257 seconds\n",
      "Index 4: week 2020-09-03 complete at -25.38422179222107 seconds\n",
      "Index 5: week 2020-09-04 complete at -33.360588788986206 seconds\n",
      "Index 6: week 2020-09-05 complete at -109.96342182159424 seconds\n",
      "Final run time: -109.96391487121582 seconds\n"
     ]
    }
   ],
   "source": [
    "rockportdf = all_tweets(\n",
    "                region =  \"Rockport\",\n",
    "                query = ' ',\n",
    "                since = since,\n",
    "                until = until,\n",
    "                max_tweets = 2000,\n",
    "                location = \"28.0253, -97.0500\",\n",
    "                radius = \"20mi\")"
   ]
  },
  {
   "cell_type": "code",
   "execution_count": 190,
   "metadata": {},
   "outputs": [
    {
     "name": "stdout",
     "output_type": "stream",
     "text": [
      "<class 'pandas.core.frame.DataFrame'>\n",
      "Int64Index: 2778 entries, 0 to 1999\n",
      "Data columns (total 9 columns):\n",
      " #   Column     Non-Null Count  Dtype              \n",
      "---  ------     --------------  -----              \n",
      " 0   id         2778 non-null   object             \n",
      " 1   text       2778 non-null   object             \n",
      " 2   date       2778 non-null   datetime64[ns, UTC]\n",
      " 3   retweets   2778 non-null   int64              \n",
      " 4   favorites  2778 non-null   int64              \n",
      " 5   mentions   2778 non-null   object             \n",
      " 6   hashtags   2778 non-null   object             \n",
      " 7   geo        2778 non-null   object             \n",
      " 8   region     2778 non-null   object             \n",
      "dtypes: datetime64[ns, UTC](1), int64(2), object(6)\n",
      "memory usage: 217.0+ KB\n"
     ]
    }
   ],
   "source": [
    "rockportdf.info()"
   ]
  },
  {
   "cell_type": "code",
   "execution_count": 189,
   "metadata": {},
   "outputs": [
    {
     "data": {
      "text/plain": [
       "id           0\n",
       "text         0\n",
       "date         0\n",
       "retweets     0\n",
       "favorites    0\n",
       "mentions     0\n",
       "hashtags     0\n",
       "geo          0\n",
       "region       0\n",
       "dtype: int64"
      ]
     },
     "execution_count": 189,
     "metadata": {},
     "output_type": "execute_result"
    }
   ],
   "source": [
    "rockportdf.isnull().sum()"
   ]
  },
  {
   "cell_type": "code",
   "execution_count": 171,
   "metadata": {},
   "outputs": [
    {
     "data": {
      "text/plain": [
       "11"
      ]
     },
     "execution_count": 171,
     "metadata": {},
     "output_type": "execute_result"
    }
   ],
   "source": [
    "rockport_covid = rockportdf['text'].str.contains('covid|coronavirus', flags=re.IGNORECASE, regex=True).sum()\n",
    "rockport_covid"
   ]
  },
  {
   "cell_type": "code",
   "execution_count": null,
   "metadata": {},
   "outputs": [],
   "source": []
  }
 ],
 "metadata": {
  "kernelspec": {
   "display_name": "Python 3",
   "language": "python",
   "name": "python3"
  },
  "language_info": {
   "codemirror_mode": {
    "name": "ipython",
    "version": 3
   },
   "file_extension": ".py",
   "mimetype": "text/x-python",
   "name": "python",
   "nbconvert_exporter": "python",
   "pygments_lexer": "ipython3",
   "version": "3.7.7"
  }
 },
 "nbformat": 4,
 "nbformat_minor": 4
}
