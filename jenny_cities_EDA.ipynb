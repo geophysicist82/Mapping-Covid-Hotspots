{
 "cells": [
  {
   "cell_type": "code",
   "execution_count": null,
   "metadata": {},
   "outputs": [],
   "source": [
    "# pip install GetOldTweets3\n",
    "# run in terminal\n",
    "# jennyjames@Jennys-MacBook-Air Project5-Mapping-Covid-Hotspots % GetOldTweets3 \n",
    "#--querysearch \"covid\" --since 2020-05-01 --until 2020-05-02 --maxtweets 1000"
   ]
  },
  {
   "cell_type": "code",
   "execution_count": 1,
   "metadata": {},
   "outputs": [],
   "source": [
    "import GetOldTweets3 as got\n",
    "from pyquery import PyQuery\n",
    "import pandas as pd\n",
    "import os\n",
    "import glob\n",
    "import re\n",
    "import time"
   ]
  },
  {
   "cell_type": "code",
   "execution_count": 2,
   "metadata": {},
   "outputs": [],
   "source": [
    "# Define a function to request tweets within a certain time period\n",
    "def get_tweets(query, since, until, max_tweets,location, radius):\n",
    "    # Set our tweet criteria using GetOldTweets3\n",
    "    tweetCriteria = got.manager.TweetCriteria()\\\n",
    "                                            .setQuerySearch(query)\\\n",
    "                                            .setSince(since)\\\n",
    "                                            .setUntil(until)\\\n",
    "                                            .setMaxTweets(max_tweets)\\\n",
    "                                            .setNear(location)\\\n",
    "                                            .setWithin(radius)\n",
    "    \n",
    "    tweet = got.manager.TweetManager.getTweets(tweetCriteria)\n",
    "    return tweet"
   ]
  },
  {
   "cell_type": "code",
   "execution_count": 3,
   "metadata": {},
   "outputs": [],
   "source": [
    "def create_df(tweet):\n",
    "    total_list = []\n",
    "    for i in range(len(tweet)):\n",
    "        my_dict = {\n",
    "            \"id\" : tweet[i].id,\n",
    "            \"text\" : tweet[i].text,\n",
    "            \"date\" : tweet[i].date,\n",
    "            \"retweets\" : tweet[i].retweets,\n",
    "            \"favorites\" : tweet[i].favorites,\n",
    "            \"mentions\" : tweet[i].mentions,\n",
    "            \"hashtags\" : tweet[i].hashtags,\n",
    "            \"geo\" : tweet[i].geo  \n",
    "        }\n",
    "        total_list.append(my_dict)\n",
    "    return pd.DataFrame(total_list)"
   ]
  },
  {
   "cell_type": "code",
<<<<<<< HEAD
   "execution_count": 4,
=======
<<<<<<< HEAD
=======
   "execution_count": 7,
   "metadata": {},
   "outputs": [],
   "source": [
    "since_list = [\"2020-03-01\",\"2020-03-08\", \"2020-03-15\", \"2020-03-22\", \"2020-03-29\",\n",
    "             \"2020-04-05\", \"2020-04-12\", \"2020-04-19\", \"2020-04-26\", \"2020-05-03\",\n",
    "             \"2020-05-10\", \"2020-05-17\", \"2020-05-24\", \"2020-05-31\" ,\"2020-06-07\",\n",
    "             \"2020-06-14\", \"2020-06-21\", \"2020-06-28\", \"2020-07-05\", \"2020-07-12\",\n",
    "             \"2020-07-19\", \"2020-07-26\", \"2020-08-02\", \"2020-08-09\", \"2020-08-16\",\n",
    "             \"2020-08-23\", \"2020-08-30\"]\n",
    "\n",
    "until_list = [\"2020-03-08\", \"2020-03-15\", \"2020-03-22\", \"2020-03-29\",\"2020-04-05\", \n",
    "              \"2020-04-12\", \"2020-04-19\", \"2020-04-26\", \"2020-05-03\",\"2020-05-10\", \n",
    "              \"2020-05-17\", \"2020-05-24\", \"2020-05-31\" ,\"2020-06-07\",\"2020-06-14\", \n",
    "              \"2020-06-21\", \"2020-06-28\", \"2020-07-05\", \"2020-07-12\",\"2020-07-19\", \n",
    "              \"2020-07-26\", \"2020-08-02\", \"2020-08-09\", \"2020-08-16\",\"2020-08-23\", \n",
    "              \"2020-08-30\", \"2020-09-06\"]"
   ]
  },
  {
   "cell_type": "code",
>>>>>>> bf1492607eb6cfa0d096117eb12158657a996bdc
   "execution_count": 44,
>>>>>>> master
   "metadata": {},
   "outputs": [],
   "source": [
    "def all_tweets(region, query, since, until,\n",
    "                max_tweets, location, radius):\n",
    "    t0 = time.time() \n",
    "    df = pd.DataFrame()\n",
    "    for i in range(len(since)):\n",
    "        x = get_tweets(query=query,\n",
    "                   since=since[i],\n",
    "                   until=until[i],\n",
    "                   max_tweets = max_tweets,\n",
    "                   location = location,\n",
    "                   radius = radius\n",
    "                  )\n",
    "        df = pd.concat([df,create_df(x)])\n",
    "        print(f\"Index {i}: week {since[i]} complete at {t0 - time.time()} seconds\")\n",
    "        #if i < len(since)-1:\n",
    "            #time.sleep(60)\n",
    "    print(f\"Final run time: {t0 - time.time()} seconds\")\n",
    "    df[\"region\"] = region\n",
    "    df.to_csv(f\"{region}_data.csv\")\n",
    "    return df"
   ]
  },
  {
   "cell_type": "code",
<<<<<<< HEAD
   "execution_count": 5,
=======
<<<<<<< HEAD
   "execution_count": 173,
=======
   "execution_count": 112,
>>>>>>> bf1492607eb6cfa0d096117eb12158657a996bdc
>>>>>>> master
   "metadata": {},
   "outputs": [],
   "source": [
    "since = [\"2020-08-30\", \"2020-08-31\",\"2020-09-01\",\"2020-09-02\",\"2020-09-03\",\n",
    "                        \"2020-09-04\",\"2020-09-05\"]\n",
    "until = [\"2020-08-31\",\"2020-09-01\",\"2020-09-02\",\"2020-09-03\",\n",
    "                        \"2020-09-04\",\"2020-09-05\",\"2020-09-06\"]"
   ]
  },
  {
   "cell_type": "code",
   "execution_count": 113,
   "metadata": {},
   "outputs": [
    {
     "name": "stdout",
     "output_type": "stream",
     "text": [
      "Index 0: week 2020-08-30 complete at -69.85161113739014 seconds\n",
      "Index 1: week 2020-08-31 complete at -143.1999032497406 seconds\n",
      "Index 2: week 2020-09-01 complete at -216.1521201133728 seconds\n",
      "Index 3: week 2020-09-02 complete at -290.97816610336304 seconds\n",
      "Index 4: week 2020-09-03 complete at -365.7623562812805 seconds\n",
      "Index 5: week 2020-09-04 complete at -437.02507519721985 seconds\n",
      "Index 6: week 2020-09-05 complete at -509.6995692253113 seconds\n",
      "Final run time: -509.69969630241394 seconds\n"
     ]
    }
   ],
   "source": [
    "sanantoniodf= all_tweets(\n",
    "                region =  \"SanAntonio_noquery\",\n",
    "                query = ' ',\n",
    "                since = since,\n",
    "                until = until,\n",
    "                max_tweets = 2000,\n",
    "                location = \"29.42412, -98.49363\",\n",
    "                radius = \"50km\")"
   ]
  },
  {
   "cell_type": "code",
   "execution_count": 115,
   "metadata": {},
   "outputs": [
    {
     "name": "stdout",
     "output_type": "stream",
     "text": [
      "<class 'pandas.core.frame.DataFrame'>\n",
      "Int64Index: 14000 entries, 0 to 1999\n",
      "Data columns (total 9 columns):\n",
      " #   Column     Non-Null Count  Dtype              \n",
      "---  ------     --------------  -----              \n",
      " 0   id         14000 non-null  object             \n",
      " 1   text       14000 non-null  object             \n",
      " 2   date       14000 non-null  datetime64[ns, UTC]\n",
      " 3   retweets   14000 non-null  int64              \n",
      " 4   favorites  14000 non-null  int64              \n",
      " 5   mentions   14000 non-null  object             \n",
      " 6   hashtags   14000 non-null  object             \n",
      " 7   geo        14000 non-null  object             \n",
      " 8   region     14000 non-null  object             \n",
      "dtypes: datetime64[ns, UTC](1), int64(2), object(6)\n",
      "memory usage: 1.1+ MB\n"
     ]
    }
   ],
   "source": [
    "sanantoniodf.info()"
   ]
  },
  {
   "cell_type": "code",
<<<<<<< HEAD
   "execution_count": 174,
   "metadata": {},
   "outputs": [
    {
     "data": {
      "text/plain": [
       "id           0\n",
       "text         0\n",
       "date         0\n",
       "retweets     0\n",
       "favorites    0\n",
       "mentions     0\n",
       "hashtags     0\n",
       "geo          0\n",
       "region       0\n",
       "dtype: int64"
      ]
     },
     "execution_count": 174,
     "metadata": {},
     "output_type": "execute_result"
    }
   ],
   "source": [
    "sanantoniodf.isnull().sum()"
   ]
  },
  {
   "cell_type": "code",
=======
>>>>>>> bf1492607eb6cfa0d096117eb12158657a996bdc
   "execution_count": 114,
   "metadata": {},
   "outputs": [
    {
     "data": {
      "text/plain": [
       "70"
      ]
     },
     "execution_count": 114,
     "metadata": {},
     "output_type": "execute_result"
    }
   ],
   "source": [
    "sanantonio_covid = sanantoniodf['text'].str.contains('covid|coronavirus', flags=re.IGNORECASE, regex=True).sum()\n",
    "sanantonio_covid"
   ]
  },
  {
   "cell_type": "code",
<<<<<<< HEAD
   "execution_count": 18,
=======
<<<<<<< HEAD
   "execution_count": 120,
   "metadata": {},
   "outputs": [
    {
     "name": "stdout",
     "output_type": "stream",
     "text": [
      "Index 0: week 2020-08-30 complete at -77.57700872421265 seconds\n",
      "Index 1: week 2020-08-31 complete at -153.4064769744873 seconds\n",
      "Index 2: week 2020-09-01 complete at -228.11416792869568 seconds\n",
      "Index 3: week 2020-09-02 complete at -303.1051378250122 seconds\n",
      "Index 4: week 2020-09-03 complete at -379.19834184646606 seconds\n",
      "Index 5: week 2020-09-04 complete at -453.27584409713745 seconds\n",
      "Index 6: week 2020-09-05 complete at -526.3920130729675 seconds\n",
      "Final run time: -526.3922138214111 seconds\n"
=======
   "execution_count": 118,
>>>>>>> master
   "metadata": {},
   "outputs": [
    {
     "name": "stdout",
     "output_type": "stream",
     "text": [
<<<<<<< HEAD
      "Index 0: week 2020-08-30 complete at -79.59963488578796 seconds\n",
      "Index 1: week 2020-08-31 complete at -156.0046091079712 seconds\n",
      "Index 2: week 2020-09-01 complete at -230.45148491859436 seconds\n",
      "Index 3: week 2020-09-02 complete at -306.67930912971497 seconds\n",
      "Index 4: week 2020-09-03 complete at -384.99329805374146 seconds\n",
      "Index 5: week 2020-09-04 complete at -460.30117201805115 seconds\n",
      "Index 6: week 2020-09-05 complete at -535.0186009407043 seconds\n",
      "Final run time: -535.0187568664551 seconds\n"
=======
      "An error occured during an HTTP request: HTTP Error 429: Too Many Requests\n",
      "Try to open in browser: https://twitter.com/search?q=%20%20near%3A%2230.26715%2C%20-97.74306%22%20within%3A30mi%20since%3A2020-08-30%20until%3A2020-08-31&src=typd\n",
      "Traceback (most recent call last):\n",
      "  File \"/Users/jennyjames/opt/anaconda3/lib/python3.7/site-packages/GetOldTweets3/manager/TweetManager.py\", line 343, in getJsonResponse\n",
      "    response = opener.open(url)\n",
      "  File \"/Users/jennyjames/opt/anaconda3/lib/python3.7/urllib/request.py\", line 531, in open\n",
      "    response = meth(req, response)\n",
      "  File \"/Users/jennyjames/opt/anaconda3/lib/python3.7/urllib/request.py\", line 641, in http_response\n",
      "    'http', request, response, code, msg, hdrs)\n",
      "  File \"/Users/jennyjames/opt/anaconda3/lib/python3.7/urllib/request.py\", line 569, in error\n",
      "    return self._call_chain(*args)\n",
      "  File \"/Users/jennyjames/opt/anaconda3/lib/python3.7/urllib/request.py\", line 503, in _call_chain\n",
      "    result = func(*args)\n",
      "  File \"/Users/jennyjames/opt/anaconda3/lib/python3.7/urllib/request.py\", line 649, in http_error_default\n",
      "    raise HTTPError(req.full_url, code, msg, hdrs, fp)\n",
      "urllib.error.HTTPError: HTTP Error 429: Too Many Requests\n",
      "\n",
      "During handling of the above exception, another exception occurred:\n",
      "\n",
      "Traceback (most recent call last):\n",
      "  File \"/Users/jennyjames/opt/anaconda3/lib/python3.7/site-packages/IPython/core/interactiveshell.py\", line 3343, in run_code\n",
      "    exec(code_obj, self.user_global_ns, self.user_ns)\n",
      "  File \"<ipython-input-118-7340a354a8d6>\", line 8, in <module>\n",
      "    radius = \"30mi\")\n",
      "  File \"<ipython-input-44-55976db49208>\", line 11, in all_tweets\n",
      "    radius = radius\n",
      "  File \"<ipython-input-5-6f42af546d1f>\", line 12, in get_tweets\n",
      "    tweet = got.manager.TweetManager.getTweets(tweetCriteria)\n",
      "  File \"/Users/jennyjames/opt/anaconda3/lib/python3.7/site-packages/GetOldTweets3/manager/TweetManager.py\", line 65, in getTweets\n",
      "    json = TweetManager.getJsonResponse(tweetCriteria, refreshCursor, cookieJar, proxy, user_agent, debug=debug)\n",
      "  File \"/Users/jennyjames/opt/anaconda3/lib/python3.7/site-packages/GetOldTweets3/manager/TweetManager.py\", line 348, in getJsonResponse\n",
      "    sys.exit()\n",
      "SystemExit\n",
      "\n",
      "During handling of the above exception, another exception occurred:\n",
      "\n",
      "Traceback (most recent call last):\n",
      "  File \"/Users/jennyjames/opt/anaconda3/lib/python3.7/site-packages/IPython/core/ultratb.py\", line 1169, in get_records\n",
      "    return _fixed_getinnerframes(etb, number_of_lines_of_context, tb_offset)\n",
      "  File \"/Users/jennyjames/opt/anaconda3/lib/python3.7/site-packages/IPython/core/ultratb.py\", line 316, in wrapped\n",
      "    return f(*args, **kwargs)\n",
      "  File \"/Users/jennyjames/opt/anaconda3/lib/python3.7/site-packages/IPython/core/ultratb.py\", line 350, in _fixed_getinnerframes\n",
      "    records = fix_frame_records_filenames(inspect.getinnerframes(etb, context))\n",
      "  File \"/Users/jennyjames/opt/anaconda3/lib/python3.7/inspect.py\", line 1502, in getinnerframes\n",
      "    frameinfo = (tb.tb_frame,) + getframeinfo(tb, context)\n",
      "AttributeError: 'tuple' object has no attribute 'tb_frame'\n"
     ]
    },
    {
     "ename": "TypeError",
     "evalue": "object of type 'NoneType' has no len()",
     "output_type": "error",
     "traceback": [
      "\u001b[0;31m---------------------------------------------------------------------------\u001b[0m",
      "\u001b[0;31mHTTPError\u001b[0m                                 Traceback (most recent call last)",
      "\u001b[0;32m~/opt/anaconda3/lib/python3.7/site-packages/GetOldTweets3/manager/TweetManager.py\u001b[0m in \u001b[0;36mgetJsonResponse\u001b[0;34m(tweetCriteria, refreshCursor, cookieJar, proxy, useragent, debug)\u001b[0m\n\u001b[1;32m    342\u001b[0m         \u001b[0;32mtry\u001b[0m\u001b[0;34m:\u001b[0m\u001b[0;34m\u001b[0m\u001b[0;34m\u001b[0m\u001b[0m\n\u001b[0;32m--> 343\u001b[0;31m             \u001b[0mresponse\u001b[0m \u001b[0;34m=\u001b[0m \u001b[0mopener\u001b[0m\u001b[0;34m.\u001b[0m\u001b[0mopen\u001b[0m\u001b[0;34m(\u001b[0m\u001b[0murl\u001b[0m\u001b[0;34m)\u001b[0m\u001b[0;34m\u001b[0m\u001b[0;34m\u001b[0m\u001b[0m\n\u001b[0m\u001b[1;32m    344\u001b[0m             \u001b[0mjsonResponse\u001b[0m \u001b[0;34m=\u001b[0m \u001b[0mresponse\u001b[0m\u001b[0;34m.\u001b[0m\u001b[0mread\u001b[0m\u001b[0;34m(\u001b[0m\u001b[0;34m)\u001b[0m\u001b[0;34m\u001b[0m\u001b[0;34m\u001b[0m\u001b[0m\n",
      "\u001b[0;32m~/opt/anaconda3/lib/python3.7/urllib/request.py\u001b[0m in \u001b[0;36mopen\u001b[0;34m(self, fullurl, data, timeout)\u001b[0m\n\u001b[1;32m    530\u001b[0m             \u001b[0mmeth\u001b[0m \u001b[0;34m=\u001b[0m \u001b[0mgetattr\u001b[0m\u001b[0;34m(\u001b[0m\u001b[0mprocessor\u001b[0m\u001b[0;34m,\u001b[0m \u001b[0mmeth_name\u001b[0m\u001b[0;34m)\u001b[0m\u001b[0;34m\u001b[0m\u001b[0;34m\u001b[0m\u001b[0m\n\u001b[0;32m--> 531\u001b[0;31m             \u001b[0mresponse\u001b[0m \u001b[0;34m=\u001b[0m \u001b[0mmeth\u001b[0m\u001b[0;34m(\u001b[0m\u001b[0mreq\u001b[0m\u001b[0;34m,\u001b[0m \u001b[0mresponse\u001b[0m\u001b[0;34m)\u001b[0m\u001b[0;34m\u001b[0m\u001b[0;34m\u001b[0m\u001b[0m\n\u001b[0m\u001b[1;32m    532\u001b[0m \u001b[0;34m\u001b[0m\u001b[0m\n",
      "\u001b[0;32m~/opt/anaconda3/lib/python3.7/urllib/request.py\u001b[0m in \u001b[0;36mhttp_response\u001b[0;34m(self, request, response)\u001b[0m\n\u001b[1;32m    640\u001b[0m             response = self.parent.error(\n\u001b[0;32m--> 641\u001b[0;31m                 'http', request, response, code, msg, hdrs)\n\u001b[0m\u001b[1;32m    642\u001b[0m \u001b[0;34m\u001b[0m\u001b[0m\n",
      "\u001b[0;32m~/opt/anaconda3/lib/python3.7/urllib/request.py\u001b[0m in \u001b[0;36merror\u001b[0;34m(self, proto, *args)\u001b[0m\n\u001b[1;32m    568\u001b[0m             \u001b[0margs\u001b[0m \u001b[0;34m=\u001b[0m \u001b[0;34m(\u001b[0m\u001b[0mdict\u001b[0m\u001b[0;34m,\u001b[0m \u001b[0;34m'default'\u001b[0m\u001b[0;34m,\u001b[0m \u001b[0;34m'http_error_default'\u001b[0m\u001b[0;34m)\u001b[0m \u001b[0;34m+\u001b[0m \u001b[0morig_args\u001b[0m\u001b[0;34m\u001b[0m\u001b[0;34m\u001b[0m\u001b[0m\n\u001b[0;32m--> 569\u001b[0;31m             \u001b[0;32mreturn\u001b[0m \u001b[0mself\u001b[0m\u001b[0;34m.\u001b[0m\u001b[0m_call_chain\u001b[0m\u001b[0;34m(\u001b[0m\u001b[0;34m*\u001b[0m\u001b[0margs\u001b[0m\u001b[0;34m)\u001b[0m\u001b[0;34m\u001b[0m\u001b[0;34m\u001b[0m\u001b[0m\n\u001b[0m\u001b[1;32m    570\u001b[0m \u001b[0;34m\u001b[0m\u001b[0m\n",
      "\u001b[0;32m~/opt/anaconda3/lib/python3.7/urllib/request.py\u001b[0m in \u001b[0;36m_call_chain\u001b[0;34m(self, chain, kind, meth_name, *args)\u001b[0m\n\u001b[1;32m    502\u001b[0m             \u001b[0mfunc\u001b[0m \u001b[0;34m=\u001b[0m \u001b[0mgetattr\u001b[0m\u001b[0;34m(\u001b[0m\u001b[0mhandler\u001b[0m\u001b[0;34m,\u001b[0m \u001b[0mmeth_name\u001b[0m\u001b[0;34m)\u001b[0m\u001b[0;34m\u001b[0m\u001b[0;34m\u001b[0m\u001b[0m\n\u001b[0;32m--> 503\u001b[0;31m             \u001b[0mresult\u001b[0m \u001b[0;34m=\u001b[0m \u001b[0mfunc\u001b[0m\u001b[0;34m(\u001b[0m\u001b[0;34m*\u001b[0m\u001b[0margs\u001b[0m\u001b[0;34m)\u001b[0m\u001b[0;34m\u001b[0m\u001b[0;34m\u001b[0m\u001b[0m\n\u001b[0m\u001b[1;32m    504\u001b[0m             \u001b[0;32mif\u001b[0m \u001b[0mresult\u001b[0m \u001b[0;32mis\u001b[0m \u001b[0;32mnot\u001b[0m \u001b[0;32mNone\u001b[0m\u001b[0;34m:\u001b[0m\u001b[0;34m\u001b[0m\u001b[0;34m\u001b[0m\u001b[0m\n",
      "\u001b[0;32m~/opt/anaconda3/lib/python3.7/urllib/request.py\u001b[0m in \u001b[0;36mhttp_error_default\u001b[0;34m(self, req, fp, code, msg, hdrs)\u001b[0m\n\u001b[1;32m    648\u001b[0m     \u001b[0;32mdef\u001b[0m \u001b[0mhttp_error_default\u001b[0m\u001b[0;34m(\u001b[0m\u001b[0mself\u001b[0m\u001b[0;34m,\u001b[0m \u001b[0mreq\u001b[0m\u001b[0;34m,\u001b[0m \u001b[0mfp\u001b[0m\u001b[0;34m,\u001b[0m \u001b[0mcode\u001b[0m\u001b[0;34m,\u001b[0m \u001b[0mmsg\u001b[0m\u001b[0;34m,\u001b[0m \u001b[0mhdrs\u001b[0m\u001b[0;34m)\u001b[0m\u001b[0;34m:\u001b[0m\u001b[0;34m\u001b[0m\u001b[0;34m\u001b[0m\u001b[0m\n\u001b[0;32m--> 649\u001b[0;31m         \u001b[0;32mraise\u001b[0m \u001b[0mHTTPError\u001b[0m\u001b[0;34m(\u001b[0m\u001b[0mreq\u001b[0m\u001b[0;34m.\u001b[0m\u001b[0mfull_url\u001b[0m\u001b[0;34m,\u001b[0m \u001b[0mcode\u001b[0m\u001b[0;34m,\u001b[0m \u001b[0mmsg\u001b[0m\u001b[0;34m,\u001b[0m \u001b[0mhdrs\u001b[0m\u001b[0;34m,\u001b[0m \u001b[0mfp\u001b[0m\u001b[0;34m)\u001b[0m\u001b[0;34m\u001b[0m\u001b[0;34m\u001b[0m\u001b[0m\n\u001b[0m\u001b[1;32m    650\u001b[0m \u001b[0;34m\u001b[0m\u001b[0m\n",
      "\u001b[0;31mHTTPError\u001b[0m: HTTP Error 429: Too Many Requests",
      "\nDuring handling of the above exception, another exception occurred:\n",
      "\u001b[0;31mSystemExit\u001b[0m                                Traceback (most recent call last)",
      "    \u001b[0;31m[... skipping hidden 1 frame]\u001b[0m\n",
      "\u001b[0;32m<ipython-input-118-7340a354a8d6>\u001b[0m in \u001b[0;36m<module>\u001b[0;34m\u001b[0m\n\u001b[1;32m      7\u001b[0m                 \u001b[0mlocation\u001b[0m \u001b[0;34m=\u001b[0m \u001b[0;34m\"30.26715, -97.74306\"\u001b[0m\u001b[0;34m,\u001b[0m\u001b[0;34m\u001b[0m\u001b[0;34m\u001b[0m\u001b[0m\n\u001b[0;32m----> 8\u001b[0;31m                 radius = \"30mi\")\n\u001b[0m",
      "\u001b[0;32m<ipython-input-44-55976db49208>\u001b[0m in \u001b[0;36mall_tweets\u001b[0;34m(region, query, since, until, max_tweets, location, radius)\u001b[0m\n\u001b[1;32m     10\u001b[0m                    \u001b[0mlocation\u001b[0m \u001b[0;34m=\u001b[0m \u001b[0mlocation\u001b[0m\u001b[0;34m,\u001b[0m\u001b[0;34m\u001b[0m\u001b[0;34m\u001b[0m\u001b[0m\n\u001b[0;32m---> 11\u001b[0;31m                    \u001b[0mradius\u001b[0m \u001b[0;34m=\u001b[0m \u001b[0mradius\u001b[0m\u001b[0;34m\u001b[0m\u001b[0;34m\u001b[0m\u001b[0m\n\u001b[0m\u001b[1;32m     12\u001b[0m                   )\n",
      "\u001b[0;32m<ipython-input-5-6f42af546d1f>\u001b[0m in \u001b[0;36mget_tweets\u001b[0;34m(query, since, until, max_tweets, location, radius)\u001b[0m\n\u001b[1;32m     11\u001b[0m \u001b[0;34m\u001b[0m\u001b[0m\n\u001b[0;32m---> 12\u001b[0;31m     \u001b[0mtweet\u001b[0m \u001b[0;34m=\u001b[0m \u001b[0mgot\u001b[0m\u001b[0;34m.\u001b[0m\u001b[0mmanager\u001b[0m\u001b[0;34m.\u001b[0m\u001b[0mTweetManager\u001b[0m\u001b[0;34m.\u001b[0m\u001b[0mgetTweets\u001b[0m\u001b[0;34m(\u001b[0m\u001b[0mtweetCriteria\u001b[0m\u001b[0;34m)\u001b[0m\u001b[0;34m\u001b[0m\u001b[0;34m\u001b[0m\u001b[0m\n\u001b[0m\u001b[1;32m     13\u001b[0m     \u001b[0;32mreturn\u001b[0m \u001b[0mtweet\u001b[0m\u001b[0;34m\u001b[0m\u001b[0;34m\u001b[0m\u001b[0m\n",
      "\u001b[0;32m~/opt/anaconda3/lib/python3.7/site-packages/GetOldTweets3/manager/TweetManager.py\u001b[0m in \u001b[0;36mgetTweets\u001b[0;34m(tweetCriteria, receiveBuffer, bufferLength, proxy, debug)\u001b[0m\n\u001b[1;32m     64\u001b[0m             \u001b[0;32mwhile\u001b[0m \u001b[0mactive\u001b[0m\u001b[0;34m:\u001b[0m\u001b[0;34m\u001b[0m\u001b[0;34m\u001b[0m\u001b[0m\n\u001b[0;32m---> 65\u001b[0;31m                 \u001b[0mjson\u001b[0m \u001b[0;34m=\u001b[0m \u001b[0mTweetManager\u001b[0m\u001b[0;34m.\u001b[0m\u001b[0mgetJsonResponse\u001b[0m\u001b[0;34m(\u001b[0m\u001b[0mtweetCriteria\u001b[0m\u001b[0;34m,\u001b[0m \u001b[0mrefreshCursor\u001b[0m\u001b[0;34m,\u001b[0m \u001b[0mcookieJar\u001b[0m\u001b[0;34m,\u001b[0m \u001b[0mproxy\u001b[0m\u001b[0;34m,\u001b[0m \u001b[0muser_agent\u001b[0m\u001b[0;34m,\u001b[0m \u001b[0mdebug\u001b[0m\u001b[0;34m=\u001b[0m\u001b[0mdebug\u001b[0m\u001b[0;34m)\u001b[0m\u001b[0;34m\u001b[0m\u001b[0;34m\u001b[0m\u001b[0m\n\u001b[0m\u001b[1;32m     66\u001b[0m                 \u001b[0;32mif\u001b[0m \u001b[0mlen\u001b[0m\u001b[0;34m(\u001b[0m\u001b[0mjson\u001b[0m\u001b[0;34m[\u001b[0m\u001b[0;34m'items_html'\u001b[0m\u001b[0;34m]\u001b[0m\u001b[0;34m.\u001b[0m\u001b[0mstrip\u001b[0m\u001b[0;34m(\u001b[0m\u001b[0;34m)\u001b[0m\u001b[0;34m)\u001b[0m \u001b[0;34m==\u001b[0m \u001b[0;36m0\u001b[0m\u001b[0;34m:\u001b[0m\u001b[0;34m\u001b[0m\u001b[0;34m\u001b[0m\u001b[0m\n",
      "\u001b[0;32m~/opt/anaconda3/lib/python3.7/site-packages/GetOldTweets3/manager/TweetManager.py\u001b[0m in \u001b[0;36mgetJsonResponse\u001b[0;34m(tweetCriteria, refreshCursor, cookieJar, proxy, useragent, debug)\u001b[0m\n\u001b[1;32m    347\u001b[0m             \u001b[0mprint\u001b[0m\u001b[0;34m(\u001b[0m\u001b[0;34m\"Try to open in browser: https://twitter.com/search?q=%s&src=typd\"\u001b[0m \u001b[0;34m%\u001b[0m \u001b[0murllib\u001b[0m\u001b[0;34m.\u001b[0m\u001b[0mparse\u001b[0m\u001b[0;34m.\u001b[0m\u001b[0mquote\u001b[0m\u001b[0;34m(\u001b[0m\u001b[0murlGetData\u001b[0m\u001b[0;34m)\u001b[0m\u001b[0;34m)\u001b[0m\u001b[0;34m\u001b[0m\u001b[0;34m\u001b[0m\u001b[0m\n\u001b[0;32m--> 348\u001b[0;31m             \u001b[0msys\u001b[0m\u001b[0;34m.\u001b[0m\u001b[0mexit\u001b[0m\u001b[0;34m(\u001b[0m\u001b[0;34m)\u001b[0m\u001b[0;34m\u001b[0m\u001b[0;34m\u001b[0m\u001b[0m\n\u001b[0m\u001b[1;32m    349\u001b[0m \u001b[0;34m\u001b[0m\u001b[0m\n",
      "\u001b[0;31mSystemExit\u001b[0m: ",
      "\nDuring handling of the above exception, another exception occurred:\n",
      "\u001b[0;31mTypeError\u001b[0m                                 Traceback (most recent call last)",
      "    \u001b[0;31m[... skipping hidden 1 frame]\u001b[0m\n",
      "\u001b[0;32m~/opt/anaconda3/lib/python3.7/site-packages/IPython/core/interactiveshell.py\u001b[0m in \u001b[0;36mshowtraceback\u001b[0;34m(self, exc_tuple, filename, tb_offset, exception_only, running_compiled_code)\u001b[0m\n\u001b[1;32m   2036\u001b[0m                            'the full traceback.\\n']\n\u001b[1;32m   2037\u001b[0m                     stb.extend(self.InteractiveTB.get_exception_only(etype,\n\u001b[0;32m-> 2038\u001b[0;31m                                                                      value))\n\u001b[0m\u001b[1;32m   2039\u001b[0m                 \u001b[0;32melse\u001b[0m\u001b[0;34m:\u001b[0m\u001b[0;34m\u001b[0m\u001b[0;34m\u001b[0m\u001b[0m\n\u001b[1;32m   2040\u001b[0m                     \u001b[0;32mtry\u001b[0m\u001b[0;34m:\u001b[0m\u001b[0;34m\u001b[0m\u001b[0;34m\u001b[0m\u001b[0m\n",
      "\u001b[0;32m~/opt/anaconda3/lib/python3.7/site-packages/IPython/core/ultratb.py\u001b[0m in \u001b[0;36mget_exception_only\u001b[0;34m(self, etype, value)\u001b[0m\n\u001b[1;32m    821\u001b[0m         \u001b[0mvalue\u001b[0m \u001b[0;34m:\u001b[0m \u001b[0mexception\u001b[0m \u001b[0mvalue\u001b[0m\u001b[0;34m\u001b[0m\u001b[0;34m\u001b[0m\u001b[0m\n\u001b[1;32m    822\u001b[0m         \"\"\"\n\u001b[0;32m--> 823\u001b[0;31m         \u001b[0;32mreturn\u001b[0m \u001b[0mListTB\u001b[0m\u001b[0;34m.\u001b[0m\u001b[0mstructured_traceback\u001b[0m\u001b[0;34m(\u001b[0m\u001b[0mself\u001b[0m\u001b[0;34m,\u001b[0m \u001b[0metype\u001b[0m\u001b[0;34m,\u001b[0m \u001b[0mvalue\u001b[0m\u001b[0;34m)\u001b[0m\u001b[0;34m\u001b[0m\u001b[0;34m\u001b[0m\u001b[0m\n\u001b[0m\u001b[1;32m    824\u001b[0m \u001b[0;34m\u001b[0m\u001b[0m\n\u001b[1;32m    825\u001b[0m     \u001b[0;32mdef\u001b[0m \u001b[0mshow_exception_only\u001b[0m\u001b[0;34m(\u001b[0m\u001b[0mself\u001b[0m\u001b[0;34m,\u001b[0m \u001b[0metype\u001b[0m\u001b[0;34m,\u001b[0m \u001b[0mevalue\u001b[0m\u001b[0;34m)\u001b[0m\u001b[0;34m:\u001b[0m\u001b[0;34m\u001b[0m\u001b[0;34m\u001b[0m\u001b[0m\n",
      "\u001b[0;32m~/opt/anaconda3/lib/python3.7/site-packages/IPython/core/ultratb.py\u001b[0m in \u001b[0;36mstructured_traceback\u001b[0;34m(self, etype, evalue, etb, tb_offset, context)\u001b[0m\n\u001b[1;32m    700\u001b[0m                     chained_exceptions_tb_offset, context)\n\u001b[1;32m    701\u001b[0m                 \u001b[0;34m+\u001b[0m \u001b[0mchained_exception_message\u001b[0m\u001b[0;34m\u001b[0m\u001b[0;34m\u001b[0m\u001b[0m\n\u001b[0;32m--> 702\u001b[0;31m                 + out_list)\n\u001b[0m\u001b[1;32m    703\u001b[0m \u001b[0;34m\u001b[0m\u001b[0m\n\u001b[1;32m    704\u001b[0m         \u001b[0;32mreturn\u001b[0m \u001b[0mout_list\u001b[0m\u001b[0;34m\u001b[0m\u001b[0;34m\u001b[0m\u001b[0m\n",
      "\u001b[0;32m~/opt/anaconda3/lib/python3.7/site-packages/IPython/core/ultratb.py\u001b[0m in \u001b[0;36mstructured_traceback\u001b[0;34m(self, etype, value, tb, tb_offset, number_of_lines_of_context)\u001b[0m\n\u001b[1;32m   1434\u001b[0m             \u001b[0mself\u001b[0m\u001b[0;34m.\u001b[0m\u001b[0mtb\u001b[0m \u001b[0;34m=\u001b[0m \u001b[0mtb\u001b[0m\u001b[0;34m\u001b[0m\u001b[0;34m\u001b[0m\u001b[0m\n\u001b[1;32m   1435\u001b[0m         return FormattedTB.structured_traceback(\n\u001b[0;32m-> 1436\u001b[0;31m             self, etype, value, tb, tb_offset, number_of_lines_of_context)\n\u001b[0m\u001b[1;32m   1437\u001b[0m \u001b[0;34m\u001b[0m\u001b[0m\n\u001b[1;32m   1438\u001b[0m \u001b[0;34m\u001b[0m\u001b[0m\n",
      "\u001b[0;32m~/opt/anaconda3/lib/python3.7/site-packages/IPython/core/ultratb.py\u001b[0m in \u001b[0;36mstructured_traceback\u001b[0;34m(self, etype, value, tb, tb_offset, number_of_lines_of_context)\u001b[0m\n\u001b[1;32m   1334\u001b[0m             \u001b[0;31m# Verbose modes need a full traceback\u001b[0m\u001b[0;34m\u001b[0m\u001b[0;34m\u001b[0m\u001b[0;34m\u001b[0m\u001b[0m\n\u001b[1;32m   1335\u001b[0m             return VerboseTB.structured_traceback(\n\u001b[0;32m-> 1336\u001b[0;31m                 \u001b[0mself\u001b[0m\u001b[0;34m,\u001b[0m \u001b[0metype\u001b[0m\u001b[0;34m,\u001b[0m \u001b[0mvalue\u001b[0m\u001b[0;34m,\u001b[0m \u001b[0mtb\u001b[0m\u001b[0;34m,\u001b[0m \u001b[0mtb_offset\u001b[0m\u001b[0;34m,\u001b[0m \u001b[0mnumber_of_lines_of_context\u001b[0m\u001b[0;34m\u001b[0m\u001b[0;34m\u001b[0m\u001b[0m\n\u001b[0m\u001b[1;32m   1337\u001b[0m             )\n\u001b[1;32m   1338\u001b[0m         \u001b[0;32melif\u001b[0m \u001b[0mmode\u001b[0m \u001b[0;34m==\u001b[0m \u001b[0;34m'Minimal'\u001b[0m\u001b[0;34m:\u001b[0m\u001b[0;34m\u001b[0m\u001b[0;34m\u001b[0m\u001b[0m\n",
      "\u001b[0;32m~/opt/anaconda3/lib/python3.7/site-packages/IPython/core/ultratb.py\u001b[0m in \u001b[0;36mstructured_traceback\u001b[0;34m(self, etype, evalue, etb, tb_offset, number_of_lines_of_context)\u001b[0m\n\u001b[1;32m   1191\u001b[0m \u001b[0;34m\u001b[0m\u001b[0m\n\u001b[1;32m   1192\u001b[0m         formatted_exception = self.format_exception_as_a_whole(etype, evalue, etb, number_of_lines_of_context,\n\u001b[0;32m-> 1193\u001b[0;31m                                                                tb_offset)\n\u001b[0m\u001b[1;32m   1194\u001b[0m \u001b[0;34m\u001b[0m\u001b[0m\n\u001b[1;32m   1195\u001b[0m         \u001b[0mcolors\u001b[0m \u001b[0;34m=\u001b[0m \u001b[0mself\u001b[0m\u001b[0;34m.\u001b[0m\u001b[0mColors\u001b[0m  \u001b[0;31m# just a shorthand + quicker name lookup\u001b[0m\u001b[0;34m\u001b[0m\u001b[0;34m\u001b[0m\u001b[0m\n",
      "\u001b[0;32m~/opt/anaconda3/lib/python3.7/site-packages/IPython/core/ultratb.py\u001b[0m in \u001b[0;36mformat_exception_as_a_whole\u001b[0;34m(self, etype, evalue, etb, number_of_lines_of_context, tb_offset)\u001b[0m\n\u001b[1;32m   1148\u001b[0m \u001b[0;34m\u001b[0m\u001b[0m\n\u001b[1;32m   1149\u001b[0m \u001b[0;34m\u001b[0m\u001b[0m\n\u001b[0;32m-> 1150\u001b[0;31m         \u001b[0mlast_unique\u001b[0m\u001b[0;34m,\u001b[0m \u001b[0mrecursion_repeat\u001b[0m \u001b[0;34m=\u001b[0m \u001b[0mfind_recursion\u001b[0m\u001b[0;34m(\u001b[0m\u001b[0morig_etype\u001b[0m\u001b[0;34m,\u001b[0m \u001b[0mevalue\u001b[0m\u001b[0;34m,\u001b[0m \u001b[0mrecords\u001b[0m\u001b[0;34m)\u001b[0m\u001b[0;34m\u001b[0m\u001b[0;34m\u001b[0m\u001b[0m\n\u001b[0m\u001b[1;32m   1151\u001b[0m \u001b[0;34m\u001b[0m\u001b[0m\n\u001b[1;32m   1152\u001b[0m         \u001b[0mframes\u001b[0m \u001b[0;34m=\u001b[0m \u001b[0mself\u001b[0m\u001b[0;34m.\u001b[0m\u001b[0mformat_records\u001b[0m\u001b[0;34m(\u001b[0m\u001b[0mrecords\u001b[0m\u001b[0;34m,\u001b[0m \u001b[0mlast_unique\u001b[0m\u001b[0;34m,\u001b[0m \u001b[0mrecursion_repeat\u001b[0m\u001b[0;34m)\u001b[0m\u001b[0;34m\u001b[0m\u001b[0;34m\u001b[0m\u001b[0m\n",
      "\u001b[0;32m~/opt/anaconda3/lib/python3.7/site-packages/IPython/core/ultratb.py\u001b[0m in \u001b[0;36mfind_recursion\u001b[0;34m(etype, value, records)\u001b[0m\n\u001b[1;32m    449\u001b[0m     \u001b[0;31m# first frame (from in to out) that looks different.\u001b[0m\u001b[0;34m\u001b[0m\u001b[0;34m\u001b[0m\u001b[0;34m\u001b[0m\u001b[0m\n\u001b[1;32m    450\u001b[0m     \u001b[0;32mif\u001b[0m \u001b[0;32mnot\u001b[0m \u001b[0mis_recursion_error\u001b[0m\u001b[0;34m(\u001b[0m\u001b[0metype\u001b[0m\u001b[0;34m,\u001b[0m \u001b[0mvalue\u001b[0m\u001b[0;34m,\u001b[0m \u001b[0mrecords\u001b[0m\u001b[0;34m)\u001b[0m\u001b[0;34m:\u001b[0m\u001b[0;34m\u001b[0m\u001b[0;34m\u001b[0m\u001b[0m\n\u001b[0;32m--> 451\u001b[0;31m         \u001b[0;32mreturn\u001b[0m \u001b[0mlen\u001b[0m\u001b[0;34m(\u001b[0m\u001b[0mrecords\u001b[0m\u001b[0;34m)\u001b[0m\u001b[0;34m,\u001b[0m \u001b[0;36m0\u001b[0m\u001b[0;34m\u001b[0m\u001b[0;34m\u001b[0m\u001b[0m\n\u001b[0m\u001b[1;32m    452\u001b[0m \u001b[0;34m\u001b[0m\u001b[0m\n\u001b[1;32m    453\u001b[0m     \u001b[0;31m# Select filename, lineno, func_name to track frames with\u001b[0m\u001b[0;34m\u001b[0m\u001b[0;34m\u001b[0m\u001b[0;34m\u001b[0m\u001b[0m\n",
      "\u001b[0;31mTypeError\u001b[0m: object of type 'NoneType' has no len()"
>>>>>>> bf1492607eb6cfa0d096117eb12158657a996bdc
>>>>>>> master
     ]
    }
   ],
   "source": [
    "austindf= all_tweets(\n",
    "                region =  \"Austin_noquery\",\n",
    "                query = ' ',\n",
    "                since = since,\n",
    "                until = until,\n",
    "                max_tweets = 2000,\n",
    "                location = \"30.26715, -97.74306\",\n",
    "                radius = \"30mi\")"
   ]
  },
  {
   "cell_type": "code",
<<<<<<< HEAD
   "execution_count": 19,
=======
<<<<<<< HEAD
   "execution_count": 121,
=======
   "execution_count": 110,
>>>>>>> bf1492607eb6cfa0d096117eb12158657a996bdc
>>>>>>> master
   "metadata": {},
   "outputs": [
    {
     "name": "stdout",
     "output_type": "stream",
     "text": [
      "<class 'pandas.core.frame.DataFrame'>\n",
<<<<<<< HEAD
      "Int64Index: 14000 entries, 0 to 1999\n",
=======
<<<<<<< HEAD
      "Int64Index: 14000 entries, 0 to 1999\n",
      "Data columns (total 9 columns):\n",
      " #   Column     Non-Null Count  Dtype              \n",
      "---  ------     --------------  -----              \n",
      " 0   id         14000 non-null  object             \n",
      " 1   text       14000 non-null  object             \n",
      " 2   date       14000 non-null  datetime64[ns, UTC]\n",
      " 3   retweets   14000 non-null  int64              \n",
      " 4   favorites  14000 non-null  int64              \n",
      " 5   mentions   14000 non-null  object             \n",
      " 6   hashtags   14000 non-null  object             \n",
      " 7   geo        14000 non-null  object             \n",
      " 8   region     14000 non-null  object             \n",
      "dtypes: datetime64[ns, UTC](1), int64(2), object(6)\n",
      "memory usage: 1.1+ MB\n"
=======
      "Int64Index: 8000 entries, 0 to 1999\n",
>>>>>>> master
      "Data columns (total 9 columns):\n",
      " #   Column     Non-Null Count  Dtype              \n",
      "---  ------     --------------  -----              \n",
      " 0   id         14000 non-null  object             \n",
      " 1   text       14000 non-null  object             \n",
      " 2   date       14000 non-null  datetime64[ns, UTC]\n",
      " 3   retweets   14000 non-null  int64              \n",
      " 4   favorites  14000 non-null  int64              \n",
      " 5   mentions   14000 non-null  object             \n",
      " 6   hashtags   14000 non-null  object             \n",
      " 7   geo        14000 non-null  object             \n",
      " 8   region     14000 non-null  object             \n",
      "dtypes: datetime64[ns, UTC](1), int64(2), object(6)\n",
<<<<<<< HEAD
      "memory usage: 1.1+ MB\n"
=======
      "memory usage: 625.0+ KB\n"
>>>>>>> bf1492607eb6cfa0d096117eb12158657a996bdc
>>>>>>> master
     ]
    }
   ],
   "source": [
    "austindf.info()"
   ]
  },
  {
   "cell_type": "code",
<<<<<<< HEAD
   "execution_count": 175,
   "metadata": {},
   "outputs": [
    {
     "data": {
      "text/plain": [
       "id           0\n",
       "text         0\n",
       "date         0\n",
       "retweets     0\n",
       "favorites    0\n",
       "mentions     0\n",
       "hashtags     0\n",
       "geo          0\n",
       "region       0\n",
       "dtype: int64"
      ]
     },
     "execution_count": 175,
     "metadata": {},
     "output_type": "execute_result"
    }
   ],
   "source": [
    "austindf.isnull().sum()"
   ]
  },
  {
   "cell_type": "code",
   "execution_count": 122,
=======
   "execution_count": 52,
>>>>>>> bf1492607eb6cfa0d096117eb12158657a996bdc
   "metadata": {},
   "outputs": [
    {
     "data": {
      "text/plain": [
<<<<<<< HEAD
       "118"
      ]
     },
     "execution_count": 122,
=======
       "23"
      ]
     },
     "execution_count": 52,
>>>>>>> bf1492607eb6cfa0d096117eb12158657a996bdc
     "metadata": {},
     "output_type": "execute_result"
    }
   ],
   "source": [
    "austin_covid = austindf['text'].str.contains('covid|coronavirus', flags=re.IGNORECASE, regex=True).sum()\n",
    "austin_covid"
   ]
  },
  {
   "cell_type": "code",
<<<<<<< HEAD
   "execution_count": 6,
=======
<<<<<<< HEAD
   "execution_count": 124,
   "metadata": {},
   "outputs": [
    {
     "name": "stdout",
     "output_type": "stream",
     "text": [
      "Index 0: week 2020-08-30 complete at -41.348856687545776 seconds\n",
      "Index 1: week 2020-08-31 complete at -80.6335518360138 seconds\n",
      "Index 2: week 2020-09-01 complete at -120.27925992012024 seconds\n",
      "Index 3: week 2020-09-02 complete at -156.22151684761047 seconds\n",
      "Index 4: week 2020-09-03 complete at -201.33850288391113 seconds\n",
      "Index 5: week 2020-09-04 complete at -275.64901185035706 seconds\n",
      "Index 6: week 2020-09-05 complete at -347.8025357723236 seconds\n",
      "Final run time: -347.80271005630493 seconds\n"
=======
   "execution_count": 119,
>>>>>>> master
   "metadata": {},
   "outputs": [
    {
     "name": "stdout",
     "output_type": "stream",
     "text": [
<<<<<<< HEAD
      "Index 0: week 2020-08-30 complete at -39.13537883758545 seconds\n",
      "Index 1: week 2020-08-31 complete at -76.28212809562683 seconds\n",
      "Index 2: week 2020-09-01 complete at -113.0121841430664 seconds\n",
      "Index 3: week 2020-09-02 complete at -146.60851979255676 seconds\n",
      "Index 4: week 2020-09-03 complete at -189.5925259590149 seconds\n",
      "Index 5: week 2020-09-04 complete at -226.9217779636383 seconds\n",
      "Index 6: week 2020-09-05 complete at -294.8976550102234 seconds\n",
      "Final run time: -294.89801597595215 seconds\n"
=======
      "An error occured during an HTTP request: HTTP Error 429: Too Many Requests\n",
      "Try to open in browser: https://twitter.com/search?q=%20%20near%3A%2227.80058%2C%20-97.39638%22%20within%3A27mi%20since%3A2020-08-30%20until%3A2020-08-31&src=typd\n",
      "Traceback (most recent call last):\n",
      "  File \"/Users/jennyjames/opt/anaconda3/lib/python3.7/site-packages/GetOldTweets3/manager/TweetManager.py\", line 343, in getJsonResponse\n",
      "    response = opener.open(url)\n",
      "  File \"/Users/jennyjames/opt/anaconda3/lib/python3.7/urllib/request.py\", line 531, in open\n",
      "    response = meth(req, response)\n",
      "  File \"/Users/jennyjames/opt/anaconda3/lib/python3.7/urllib/request.py\", line 641, in http_response\n",
      "    'http', request, response, code, msg, hdrs)\n",
      "  File \"/Users/jennyjames/opt/anaconda3/lib/python3.7/urllib/request.py\", line 569, in error\n",
      "    return self._call_chain(*args)\n",
      "  File \"/Users/jennyjames/opt/anaconda3/lib/python3.7/urllib/request.py\", line 503, in _call_chain\n",
      "    result = func(*args)\n",
      "  File \"/Users/jennyjames/opt/anaconda3/lib/python3.7/urllib/request.py\", line 649, in http_error_default\n",
      "    raise HTTPError(req.full_url, code, msg, hdrs, fp)\n",
      "urllib.error.HTTPError: HTTP Error 429: Too Many Requests\n",
      "\n",
      "During handling of the above exception, another exception occurred:\n",
      "\n",
      "Traceback (most recent call last):\n",
      "  File \"/Users/jennyjames/opt/anaconda3/lib/python3.7/site-packages/IPython/core/interactiveshell.py\", line 3343, in run_code\n",
      "    exec(code_obj, self.user_global_ns, self.user_ns)\n",
      "  File \"<ipython-input-119-dab5cacaba1e>\", line 8, in <module>\n",
      "    radius = \"27mi\")\n",
      "  File \"<ipython-input-44-55976db49208>\", line 11, in all_tweets\n",
      "    radius = radius\n",
      "  File \"<ipython-input-5-6f42af546d1f>\", line 12, in get_tweets\n",
      "    tweet = got.manager.TweetManager.getTweets(tweetCriteria)\n",
      "  File \"/Users/jennyjames/opt/anaconda3/lib/python3.7/site-packages/GetOldTweets3/manager/TweetManager.py\", line 65, in getTweets\n",
      "    json = TweetManager.getJsonResponse(tweetCriteria, refreshCursor, cookieJar, proxy, user_agent, debug=debug)\n",
      "  File \"/Users/jennyjames/opt/anaconda3/lib/python3.7/site-packages/GetOldTweets3/manager/TweetManager.py\", line 348, in getJsonResponse\n",
      "    sys.exit()\n",
      "SystemExit\n",
      "\n",
      "During handling of the above exception, another exception occurred:\n",
      "\n",
      "Traceback (most recent call last):\n",
      "  File \"/Users/jennyjames/opt/anaconda3/lib/python3.7/site-packages/IPython/core/ultratb.py\", line 1169, in get_records\n",
      "    return _fixed_getinnerframes(etb, number_of_lines_of_context, tb_offset)\n",
      "  File \"/Users/jennyjames/opt/anaconda3/lib/python3.7/site-packages/IPython/core/ultratb.py\", line 316, in wrapped\n",
      "    return f(*args, **kwargs)\n",
      "  File \"/Users/jennyjames/opt/anaconda3/lib/python3.7/site-packages/IPython/core/ultratb.py\", line 350, in _fixed_getinnerframes\n",
      "    records = fix_frame_records_filenames(inspect.getinnerframes(etb, context))\n",
      "  File \"/Users/jennyjames/opt/anaconda3/lib/python3.7/inspect.py\", line 1502, in getinnerframes\n",
      "    frameinfo = (tb.tb_frame,) + getframeinfo(tb, context)\n",
      "AttributeError: 'tuple' object has no attribute 'tb_frame'\n"
     ]
    },
    {
     "ename": "TypeError",
     "evalue": "object of type 'NoneType' has no len()",
     "output_type": "error",
     "traceback": [
      "\u001b[0;31m---------------------------------------------------------------------------\u001b[0m",
      "\u001b[0;31mHTTPError\u001b[0m                                 Traceback (most recent call last)",
      "\u001b[0;32m~/opt/anaconda3/lib/python3.7/site-packages/GetOldTweets3/manager/TweetManager.py\u001b[0m in \u001b[0;36mgetJsonResponse\u001b[0;34m(tweetCriteria, refreshCursor, cookieJar, proxy, useragent, debug)\u001b[0m\n\u001b[1;32m    342\u001b[0m         \u001b[0;32mtry\u001b[0m\u001b[0;34m:\u001b[0m\u001b[0;34m\u001b[0m\u001b[0;34m\u001b[0m\u001b[0m\n\u001b[0;32m--> 343\u001b[0;31m             \u001b[0mresponse\u001b[0m \u001b[0;34m=\u001b[0m \u001b[0mopener\u001b[0m\u001b[0;34m.\u001b[0m\u001b[0mopen\u001b[0m\u001b[0;34m(\u001b[0m\u001b[0murl\u001b[0m\u001b[0;34m)\u001b[0m\u001b[0;34m\u001b[0m\u001b[0;34m\u001b[0m\u001b[0m\n\u001b[0m\u001b[1;32m    344\u001b[0m             \u001b[0mjsonResponse\u001b[0m \u001b[0;34m=\u001b[0m \u001b[0mresponse\u001b[0m\u001b[0;34m.\u001b[0m\u001b[0mread\u001b[0m\u001b[0;34m(\u001b[0m\u001b[0;34m)\u001b[0m\u001b[0;34m\u001b[0m\u001b[0;34m\u001b[0m\u001b[0m\n",
      "\u001b[0;32m~/opt/anaconda3/lib/python3.7/urllib/request.py\u001b[0m in \u001b[0;36mopen\u001b[0;34m(self, fullurl, data, timeout)\u001b[0m\n\u001b[1;32m    530\u001b[0m             \u001b[0mmeth\u001b[0m \u001b[0;34m=\u001b[0m \u001b[0mgetattr\u001b[0m\u001b[0;34m(\u001b[0m\u001b[0mprocessor\u001b[0m\u001b[0;34m,\u001b[0m \u001b[0mmeth_name\u001b[0m\u001b[0;34m)\u001b[0m\u001b[0;34m\u001b[0m\u001b[0;34m\u001b[0m\u001b[0m\n\u001b[0;32m--> 531\u001b[0;31m             \u001b[0mresponse\u001b[0m \u001b[0;34m=\u001b[0m \u001b[0mmeth\u001b[0m\u001b[0;34m(\u001b[0m\u001b[0mreq\u001b[0m\u001b[0;34m,\u001b[0m \u001b[0mresponse\u001b[0m\u001b[0;34m)\u001b[0m\u001b[0;34m\u001b[0m\u001b[0;34m\u001b[0m\u001b[0m\n\u001b[0m\u001b[1;32m    532\u001b[0m \u001b[0;34m\u001b[0m\u001b[0m\n",
      "\u001b[0;32m~/opt/anaconda3/lib/python3.7/urllib/request.py\u001b[0m in \u001b[0;36mhttp_response\u001b[0;34m(self, request, response)\u001b[0m\n\u001b[1;32m    640\u001b[0m             response = self.parent.error(\n\u001b[0;32m--> 641\u001b[0;31m                 'http', request, response, code, msg, hdrs)\n\u001b[0m\u001b[1;32m    642\u001b[0m \u001b[0;34m\u001b[0m\u001b[0m\n",
      "\u001b[0;32m~/opt/anaconda3/lib/python3.7/urllib/request.py\u001b[0m in \u001b[0;36merror\u001b[0;34m(self, proto, *args)\u001b[0m\n\u001b[1;32m    568\u001b[0m             \u001b[0margs\u001b[0m \u001b[0;34m=\u001b[0m \u001b[0;34m(\u001b[0m\u001b[0mdict\u001b[0m\u001b[0;34m,\u001b[0m \u001b[0;34m'default'\u001b[0m\u001b[0;34m,\u001b[0m \u001b[0;34m'http_error_default'\u001b[0m\u001b[0;34m)\u001b[0m \u001b[0;34m+\u001b[0m \u001b[0morig_args\u001b[0m\u001b[0;34m\u001b[0m\u001b[0;34m\u001b[0m\u001b[0m\n\u001b[0;32m--> 569\u001b[0;31m             \u001b[0;32mreturn\u001b[0m \u001b[0mself\u001b[0m\u001b[0;34m.\u001b[0m\u001b[0m_call_chain\u001b[0m\u001b[0;34m(\u001b[0m\u001b[0;34m*\u001b[0m\u001b[0margs\u001b[0m\u001b[0;34m)\u001b[0m\u001b[0;34m\u001b[0m\u001b[0;34m\u001b[0m\u001b[0m\n\u001b[0m\u001b[1;32m    570\u001b[0m \u001b[0;34m\u001b[0m\u001b[0m\n",
      "\u001b[0;32m~/opt/anaconda3/lib/python3.7/urllib/request.py\u001b[0m in \u001b[0;36m_call_chain\u001b[0;34m(self, chain, kind, meth_name, *args)\u001b[0m\n\u001b[1;32m    502\u001b[0m             \u001b[0mfunc\u001b[0m \u001b[0;34m=\u001b[0m \u001b[0mgetattr\u001b[0m\u001b[0;34m(\u001b[0m\u001b[0mhandler\u001b[0m\u001b[0;34m,\u001b[0m \u001b[0mmeth_name\u001b[0m\u001b[0;34m)\u001b[0m\u001b[0;34m\u001b[0m\u001b[0;34m\u001b[0m\u001b[0m\n\u001b[0;32m--> 503\u001b[0;31m             \u001b[0mresult\u001b[0m \u001b[0;34m=\u001b[0m \u001b[0mfunc\u001b[0m\u001b[0;34m(\u001b[0m\u001b[0;34m*\u001b[0m\u001b[0margs\u001b[0m\u001b[0;34m)\u001b[0m\u001b[0;34m\u001b[0m\u001b[0;34m\u001b[0m\u001b[0m\n\u001b[0m\u001b[1;32m    504\u001b[0m             \u001b[0;32mif\u001b[0m \u001b[0mresult\u001b[0m \u001b[0;32mis\u001b[0m \u001b[0;32mnot\u001b[0m \u001b[0;32mNone\u001b[0m\u001b[0;34m:\u001b[0m\u001b[0;34m\u001b[0m\u001b[0;34m\u001b[0m\u001b[0m\n",
      "\u001b[0;32m~/opt/anaconda3/lib/python3.7/urllib/request.py\u001b[0m in \u001b[0;36mhttp_error_default\u001b[0;34m(self, req, fp, code, msg, hdrs)\u001b[0m\n\u001b[1;32m    648\u001b[0m     \u001b[0;32mdef\u001b[0m \u001b[0mhttp_error_default\u001b[0m\u001b[0;34m(\u001b[0m\u001b[0mself\u001b[0m\u001b[0;34m,\u001b[0m \u001b[0mreq\u001b[0m\u001b[0;34m,\u001b[0m \u001b[0mfp\u001b[0m\u001b[0;34m,\u001b[0m \u001b[0mcode\u001b[0m\u001b[0;34m,\u001b[0m \u001b[0mmsg\u001b[0m\u001b[0;34m,\u001b[0m \u001b[0mhdrs\u001b[0m\u001b[0;34m)\u001b[0m\u001b[0;34m:\u001b[0m\u001b[0;34m\u001b[0m\u001b[0;34m\u001b[0m\u001b[0m\n\u001b[0;32m--> 649\u001b[0;31m         \u001b[0;32mraise\u001b[0m \u001b[0mHTTPError\u001b[0m\u001b[0;34m(\u001b[0m\u001b[0mreq\u001b[0m\u001b[0;34m.\u001b[0m\u001b[0mfull_url\u001b[0m\u001b[0;34m,\u001b[0m \u001b[0mcode\u001b[0m\u001b[0;34m,\u001b[0m \u001b[0mmsg\u001b[0m\u001b[0;34m,\u001b[0m \u001b[0mhdrs\u001b[0m\u001b[0;34m,\u001b[0m \u001b[0mfp\u001b[0m\u001b[0;34m)\u001b[0m\u001b[0;34m\u001b[0m\u001b[0;34m\u001b[0m\u001b[0m\n\u001b[0m\u001b[1;32m    650\u001b[0m \u001b[0;34m\u001b[0m\u001b[0m\n",
      "\u001b[0;31mHTTPError\u001b[0m: HTTP Error 429: Too Many Requests",
      "\nDuring handling of the above exception, another exception occurred:\n",
      "\u001b[0;31mSystemExit\u001b[0m                                Traceback (most recent call last)",
      "    \u001b[0;31m[... skipping hidden 1 frame]\u001b[0m\n",
      "\u001b[0;32m<ipython-input-119-dab5cacaba1e>\u001b[0m in \u001b[0;36m<module>\u001b[0;34m\u001b[0m\n\u001b[1;32m      7\u001b[0m                 \u001b[0mlocation\u001b[0m \u001b[0;34m=\u001b[0m \u001b[0;34m\"27.80058, -97.39638\"\u001b[0m\u001b[0;34m,\u001b[0m\u001b[0;34m\u001b[0m\u001b[0;34m\u001b[0m\u001b[0m\n\u001b[0;32m----> 8\u001b[0;31m                 radius = \"27mi\")\n\u001b[0m",
      "\u001b[0;32m<ipython-input-44-55976db49208>\u001b[0m in \u001b[0;36mall_tweets\u001b[0;34m(region, query, since, until, max_tweets, location, radius)\u001b[0m\n\u001b[1;32m     10\u001b[0m                    \u001b[0mlocation\u001b[0m \u001b[0;34m=\u001b[0m \u001b[0mlocation\u001b[0m\u001b[0;34m,\u001b[0m\u001b[0;34m\u001b[0m\u001b[0;34m\u001b[0m\u001b[0m\n\u001b[0;32m---> 11\u001b[0;31m                    \u001b[0mradius\u001b[0m \u001b[0;34m=\u001b[0m \u001b[0mradius\u001b[0m\u001b[0;34m\u001b[0m\u001b[0;34m\u001b[0m\u001b[0m\n\u001b[0m\u001b[1;32m     12\u001b[0m                   )\n",
      "\u001b[0;32m<ipython-input-5-6f42af546d1f>\u001b[0m in \u001b[0;36mget_tweets\u001b[0;34m(query, since, until, max_tweets, location, radius)\u001b[0m\n\u001b[1;32m     11\u001b[0m \u001b[0;34m\u001b[0m\u001b[0m\n\u001b[0;32m---> 12\u001b[0;31m     \u001b[0mtweet\u001b[0m \u001b[0;34m=\u001b[0m \u001b[0mgot\u001b[0m\u001b[0;34m.\u001b[0m\u001b[0mmanager\u001b[0m\u001b[0;34m.\u001b[0m\u001b[0mTweetManager\u001b[0m\u001b[0;34m.\u001b[0m\u001b[0mgetTweets\u001b[0m\u001b[0;34m(\u001b[0m\u001b[0mtweetCriteria\u001b[0m\u001b[0;34m)\u001b[0m\u001b[0;34m\u001b[0m\u001b[0;34m\u001b[0m\u001b[0m\n\u001b[0m\u001b[1;32m     13\u001b[0m     \u001b[0;32mreturn\u001b[0m \u001b[0mtweet\u001b[0m\u001b[0;34m\u001b[0m\u001b[0;34m\u001b[0m\u001b[0m\n",
      "\u001b[0;32m~/opt/anaconda3/lib/python3.7/site-packages/GetOldTweets3/manager/TweetManager.py\u001b[0m in \u001b[0;36mgetTweets\u001b[0;34m(tweetCriteria, receiveBuffer, bufferLength, proxy, debug)\u001b[0m\n\u001b[1;32m     64\u001b[0m             \u001b[0;32mwhile\u001b[0m \u001b[0mactive\u001b[0m\u001b[0;34m:\u001b[0m\u001b[0;34m\u001b[0m\u001b[0;34m\u001b[0m\u001b[0m\n\u001b[0;32m---> 65\u001b[0;31m                 \u001b[0mjson\u001b[0m \u001b[0;34m=\u001b[0m \u001b[0mTweetManager\u001b[0m\u001b[0;34m.\u001b[0m\u001b[0mgetJsonResponse\u001b[0m\u001b[0;34m(\u001b[0m\u001b[0mtweetCriteria\u001b[0m\u001b[0;34m,\u001b[0m \u001b[0mrefreshCursor\u001b[0m\u001b[0;34m,\u001b[0m \u001b[0mcookieJar\u001b[0m\u001b[0;34m,\u001b[0m \u001b[0mproxy\u001b[0m\u001b[0;34m,\u001b[0m \u001b[0muser_agent\u001b[0m\u001b[0;34m,\u001b[0m \u001b[0mdebug\u001b[0m\u001b[0;34m=\u001b[0m\u001b[0mdebug\u001b[0m\u001b[0;34m)\u001b[0m\u001b[0;34m\u001b[0m\u001b[0;34m\u001b[0m\u001b[0m\n\u001b[0m\u001b[1;32m     66\u001b[0m                 \u001b[0;32mif\u001b[0m \u001b[0mlen\u001b[0m\u001b[0;34m(\u001b[0m\u001b[0mjson\u001b[0m\u001b[0;34m[\u001b[0m\u001b[0;34m'items_html'\u001b[0m\u001b[0;34m]\u001b[0m\u001b[0;34m.\u001b[0m\u001b[0mstrip\u001b[0m\u001b[0;34m(\u001b[0m\u001b[0;34m)\u001b[0m\u001b[0;34m)\u001b[0m \u001b[0;34m==\u001b[0m \u001b[0;36m0\u001b[0m\u001b[0;34m:\u001b[0m\u001b[0;34m\u001b[0m\u001b[0;34m\u001b[0m\u001b[0m\n",
      "\u001b[0;32m~/opt/anaconda3/lib/python3.7/site-packages/GetOldTweets3/manager/TweetManager.py\u001b[0m in \u001b[0;36mgetJsonResponse\u001b[0;34m(tweetCriteria, refreshCursor, cookieJar, proxy, useragent, debug)\u001b[0m\n\u001b[1;32m    347\u001b[0m             \u001b[0mprint\u001b[0m\u001b[0;34m(\u001b[0m\u001b[0;34m\"Try to open in browser: https://twitter.com/search?q=%s&src=typd\"\u001b[0m \u001b[0;34m%\u001b[0m \u001b[0murllib\u001b[0m\u001b[0;34m.\u001b[0m\u001b[0mparse\u001b[0m\u001b[0;34m.\u001b[0m\u001b[0mquote\u001b[0m\u001b[0;34m(\u001b[0m\u001b[0murlGetData\u001b[0m\u001b[0;34m)\u001b[0m\u001b[0;34m)\u001b[0m\u001b[0;34m\u001b[0m\u001b[0;34m\u001b[0m\u001b[0m\n\u001b[0;32m--> 348\u001b[0;31m             \u001b[0msys\u001b[0m\u001b[0;34m.\u001b[0m\u001b[0mexit\u001b[0m\u001b[0;34m(\u001b[0m\u001b[0;34m)\u001b[0m\u001b[0;34m\u001b[0m\u001b[0;34m\u001b[0m\u001b[0m\n\u001b[0m\u001b[1;32m    349\u001b[0m \u001b[0;34m\u001b[0m\u001b[0m\n",
      "\u001b[0;31mSystemExit\u001b[0m: ",
      "\nDuring handling of the above exception, another exception occurred:\n",
      "\u001b[0;31mTypeError\u001b[0m                                 Traceback (most recent call last)",
      "    \u001b[0;31m[... skipping hidden 1 frame]\u001b[0m\n",
      "\u001b[0;32m~/opt/anaconda3/lib/python3.7/site-packages/IPython/core/interactiveshell.py\u001b[0m in \u001b[0;36mshowtraceback\u001b[0;34m(self, exc_tuple, filename, tb_offset, exception_only, running_compiled_code)\u001b[0m\n\u001b[1;32m   2036\u001b[0m                            'the full traceback.\\n']\n\u001b[1;32m   2037\u001b[0m                     stb.extend(self.InteractiveTB.get_exception_only(etype,\n\u001b[0;32m-> 2038\u001b[0;31m                                                                      value))\n\u001b[0m\u001b[1;32m   2039\u001b[0m                 \u001b[0;32melse\u001b[0m\u001b[0;34m:\u001b[0m\u001b[0;34m\u001b[0m\u001b[0;34m\u001b[0m\u001b[0m\n\u001b[1;32m   2040\u001b[0m                     \u001b[0;32mtry\u001b[0m\u001b[0;34m:\u001b[0m\u001b[0;34m\u001b[0m\u001b[0;34m\u001b[0m\u001b[0m\n",
      "\u001b[0;32m~/opt/anaconda3/lib/python3.7/site-packages/IPython/core/ultratb.py\u001b[0m in \u001b[0;36mget_exception_only\u001b[0;34m(self, etype, value)\u001b[0m\n\u001b[1;32m    821\u001b[0m         \u001b[0mvalue\u001b[0m \u001b[0;34m:\u001b[0m \u001b[0mexception\u001b[0m \u001b[0mvalue\u001b[0m\u001b[0;34m\u001b[0m\u001b[0;34m\u001b[0m\u001b[0m\n\u001b[1;32m    822\u001b[0m         \"\"\"\n\u001b[0;32m--> 823\u001b[0;31m         \u001b[0;32mreturn\u001b[0m \u001b[0mListTB\u001b[0m\u001b[0;34m.\u001b[0m\u001b[0mstructured_traceback\u001b[0m\u001b[0;34m(\u001b[0m\u001b[0mself\u001b[0m\u001b[0;34m,\u001b[0m \u001b[0metype\u001b[0m\u001b[0;34m,\u001b[0m \u001b[0mvalue\u001b[0m\u001b[0;34m)\u001b[0m\u001b[0;34m\u001b[0m\u001b[0;34m\u001b[0m\u001b[0m\n\u001b[0m\u001b[1;32m    824\u001b[0m \u001b[0;34m\u001b[0m\u001b[0m\n\u001b[1;32m    825\u001b[0m     \u001b[0;32mdef\u001b[0m \u001b[0mshow_exception_only\u001b[0m\u001b[0;34m(\u001b[0m\u001b[0mself\u001b[0m\u001b[0;34m,\u001b[0m \u001b[0metype\u001b[0m\u001b[0;34m,\u001b[0m \u001b[0mevalue\u001b[0m\u001b[0;34m)\u001b[0m\u001b[0;34m:\u001b[0m\u001b[0;34m\u001b[0m\u001b[0;34m\u001b[0m\u001b[0m\n",
      "\u001b[0;32m~/opt/anaconda3/lib/python3.7/site-packages/IPython/core/ultratb.py\u001b[0m in \u001b[0;36mstructured_traceback\u001b[0;34m(self, etype, evalue, etb, tb_offset, context)\u001b[0m\n\u001b[1;32m    700\u001b[0m                     chained_exceptions_tb_offset, context)\n\u001b[1;32m    701\u001b[0m                 \u001b[0;34m+\u001b[0m \u001b[0mchained_exception_message\u001b[0m\u001b[0;34m\u001b[0m\u001b[0;34m\u001b[0m\u001b[0m\n\u001b[0;32m--> 702\u001b[0;31m                 + out_list)\n\u001b[0m\u001b[1;32m    703\u001b[0m \u001b[0;34m\u001b[0m\u001b[0m\n\u001b[1;32m    704\u001b[0m         \u001b[0;32mreturn\u001b[0m \u001b[0mout_list\u001b[0m\u001b[0;34m\u001b[0m\u001b[0;34m\u001b[0m\u001b[0m\n",
      "\u001b[0;32m~/opt/anaconda3/lib/python3.7/site-packages/IPython/core/ultratb.py\u001b[0m in \u001b[0;36mstructured_traceback\u001b[0;34m(self, etype, value, tb, tb_offset, number_of_lines_of_context)\u001b[0m\n\u001b[1;32m   1434\u001b[0m             \u001b[0mself\u001b[0m\u001b[0;34m.\u001b[0m\u001b[0mtb\u001b[0m \u001b[0;34m=\u001b[0m \u001b[0mtb\u001b[0m\u001b[0;34m\u001b[0m\u001b[0;34m\u001b[0m\u001b[0m\n\u001b[1;32m   1435\u001b[0m         return FormattedTB.structured_traceback(\n\u001b[0;32m-> 1436\u001b[0;31m             self, etype, value, tb, tb_offset, number_of_lines_of_context)\n\u001b[0m\u001b[1;32m   1437\u001b[0m \u001b[0;34m\u001b[0m\u001b[0m\n\u001b[1;32m   1438\u001b[0m \u001b[0;34m\u001b[0m\u001b[0m\n",
      "\u001b[0;32m~/opt/anaconda3/lib/python3.7/site-packages/IPython/core/ultratb.py\u001b[0m in \u001b[0;36mstructured_traceback\u001b[0;34m(self, etype, value, tb, tb_offset, number_of_lines_of_context)\u001b[0m\n\u001b[1;32m   1334\u001b[0m             \u001b[0;31m# Verbose modes need a full traceback\u001b[0m\u001b[0;34m\u001b[0m\u001b[0;34m\u001b[0m\u001b[0;34m\u001b[0m\u001b[0m\n\u001b[1;32m   1335\u001b[0m             return VerboseTB.structured_traceback(\n\u001b[0;32m-> 1336\u001b[0;31m                 \u001b[0mself\u001b[0m\u001b[0;34m,\u001b[0m \u001b[0metype\u001b[0m\u001b[0;34m,\u001b[0m \u001b[0mvalue\u001b[0m\u001b[0;34m,\u001b[0m \u001b[0mtb\u001b[0m\u001b[0;34m,\u001b[0m \u001b[0mtb_offset\u001b[0m\u001b[0;34m,\u001b[0m \u001b[0mnumber_of_lines_of_context\u001b[0m\u001b[0;34m\u001b[0m\u001b[0;34m\u001b[0m\u001b[0m\n\u001b[0m\u001b[1;32m   1337\u001b[0m             )\n\u001b[1;32m   1338\u001b[0m         \u001b[0;32melif\u001b[0m \u001b[0mmode\u001b[0m \u001b[0;34m==\u001b[0m \u001b[0;34m'Minimal'\u001b[0m\u001b[0;34m:\u001b[0m\u001b[0;34m\u001b[0m\u001b[0;34m\u001b[0m\u001b[0m\n",
      "\u001b[0;32m~/opt/anaconda3/lib/python3.7/site-packages/IPython/core/ultratb.py\u001b[0m in \u001b[0;36mstructured_traceback\u001b[0;34m(self, etype, evalue, etb, tb_offset, number_of_lines_of_context)\u001b[0m\n\u001b[1;32m   1191\u001b[0m \u001b[0;34m\u001b[0m\u001b[0m\n\u001b[1;32m   1192\u001b[0m         formatted_exception = self.format_exception_as_a_whole(etype, evalue, etb, number_of_lines_of_context,\n\u001b[0;32m-> 1193\u001b[0;31m                                                                tb_offset)\n\u001b[0m\u001b[1;32m   1194\u001b[0m \u001b[0;34m\u001b[0m\u001b[0m\n\u001b[1;32m   1195\u001b[0m         \u001b[0mcolors\u001b[0m \u001b[0;34m=\u001b[0m \u001b[0mself\u001b[0m\u001b[0;34m.\u001b[0m\u001b[0mColors\u001b[0m  \u001b[0;31m# just a shorthand + quicker name lookup\u001b[0m\u001b[0;34m\u001b[0m\u001b[0;34m\u001b[0m\u001b[0m\n",
      "\u001b[0;32m~/opt/anaconda3/lib/python3.7/site-packages/IPython/core/ultratb.py\u001b[0m in \u001b[0;36mformat_exception_as_a_whole\u001b[0;34m(self, etype, evalue, etb, number_of_lines_of_context, tb_offset)\u001b[0m\n\u001b[1;32m   1148\u001b[0m \u001b[0;34m\u001b[0m\u001b[0m\n\u001b[1;32m   1149\u001b[0m \u001b[0;34m\u001b[0m\u001b[0m\n\u001b[0;32m-> 1150\u001b[0;31m         \u001b[0mlast_unique\u001b[0m\u001b[0;34m,\u001b[0m \u001b[0mrecursion_repeat\u001b[0m \u001b[0;34m=\u001b[0m \u001b[0mfind_recursion\u001b[0m\u001b[0;34m(\u001b[0m\u001b[0morig_etype\u001b[0m\u001b[0;34m,\u001b[0m \u001b[0mevalue\u001b[0m\u001b[0;34m,\u001b[0m \u001b[0mrecords\u001b[0m\u001b[0;34m)\u001b[0m\u001b[0;34m\u001b[0m\u001b[0;34m\u001b[0m\u001b[0m\n\u001b[0m\u001b[1;32m   1151\u001b[0m \u001b[0;34m\u001b[0m\u001b[0m\n\u001b[1;32m   1152\u001b[0m         \u001b[0mframes\u001b[0m \u001b[0;34m=\u001b[0m \u001b[0mself\u001b[0m\u001b[0;34m.\u001b[0m\u001b[0mformat_records\u001b[0m\u001b[0;34m(\u001b[0m\u001b[0mrecords\u001b[0m\u001b[0;34m,\u001b[0m \u001b[0mlast_unique\u001b[0m\u001b[0;34m,\u001b[0m \u001b[0mrecursion_repeat\u001b[0m\u001b[0;34m)\u001b[0m\u001b[0;34m\u001b[0m\u001b[0;34m\u001b[0m\u001b[0m\n",
      "\u001b[0;32m~/opt/anaconda3/lib/python3.7/site-packages/IPython/core/ultratb.py\u001b[0m in \u001b[0;36mfind_recursion\u001b[0;34m(etype, value, records)\u001b[0m\n\u001b[1;32m    449\u001b[0m     \u001b[0;31m# first frame (from in to out) that looks different.\u001b[0m\u001b[0;34m\u001b[0m\u001b[0;34m\u001b[0m\u001b[0;34m\u001b[0m\u001b[0m\n\u001b[1;32m    450\u001b[0m     \u001b[0;32mif\u001b[0m \u001b[0;32mnot\u001b[0m \u001b[0mis_recursion_error\u001b[0m\u001b[0;34m(\u001b[0m\u001b[0metype\u001b[0m\u001b[0;34m,\u001b[0m \u001b[0mvalue\u001b[0m\u001b[0;34m,\u001b[0m \u001b[0mrecords\u001b[0m\u001b[0;34m)\u001b[0m\u001b[0;34m:\u001b[0m\u001b[0;34m\u001b[0m\u001b[0;34m\u001b[0m\u001b[0m\n\u001b[0;32m--> 451\u001b[0;31m         \u001b[0;32mreturn\u001b[0m \u001b[0mlen\u001b[0m\u001b[0;34m(\u001b[0m\u001b[0mrecords\u001b[0m\u001b[0;34m)\u001b[0m\u001b[0;34m,\u001b[0m \u001b[0;36m0\u001b[0m\u001b[0;34m\u001b[0m\u001b[0;34m\u001b[0m\u001b[0m\n\u001b[0m\u001b[1;32m    452\u001b[0m \u001b[0;34m\u001b[0m\u001b[0m\n\u001b[1;32m    453\u001b[0m     \u001b[0;31m# Select filename, lineno, func_name to track frames with\u001b[0m\u001b[0;34m\u001b[0m\u001b[0;34m\u001b[0m\u001b[0;34m\u001b[0m\u001b[0m\n",
      "\u001b[0;31mTypeError\u001b[0m: object of type 'NoneType' has no len()"
>>>>>>> bf1492607eb6cfa0d096117eb12158657a996bdc
>>>>>>> master
     ]
    }
   ],
   "source": [
    "corpusdf= all_tweets(\n",
    "                region =  \"Corpus_noquery\",\n",
    "                query = ' ',\n",
    "                since = since,\n",
    "                until = until,\n",
    "                max_tweets = 2000,\n",
    "                location = \"27.80058, -97.39638\",\n",
    "                radius = \"27mi\")"
   ]
  },
  {
   "cell_type": "code",
<<<<<<< HEAD
   "execution_count": 7,
=======
<<<<<<< HEAD
   "execution_count": 125,
=======
   "execution_count": 111,
>>>>>>> bf1492607eb6cfa0d096117eb12158657a996bdc
>>>>>>> master
   "metadata": {},
   "outputs": [
    {
     "name": "stdout",
     "output_type": "stream",
     "text": [
      "<class 'pandas.core.frame.DataFrame'>\n",
<<<<<<< HEAD
      "Int64Index: 8423 entries, 0 to 1999\n",
=======
<<<<<<< HEAD
      "Int64Index: 9397 entries, 0 to 1999\n",
      "Data columns (total 9 columns):\n",
      " #   Column     Non-Null Count  Dtype              \n",
      "---  ------     --------------  -----              \n",
      " 0   id         9397 non-null   object             \n",
      " 1   text       9397 non-null   object             \n",
      " 2   date       9397 non-null   datetime64[ns, UTC]\n",
      " 3   retweets   9397 non-null   int64              \n",
      " 4   favorites  9397 non-null   int64              \n",
      " 5   mentions   9397 non-null   object             \n",
      " 6   hashtags   9397 non-null   object             \n",
      " 7   geo        9397 non-null   object             \n",
      " 8   region     9397 non-null   object             \n",
      "dtypes: datetime64[ns, UTC](1), int64(2), object(6)\n",
      "memory usage: 734.1+ KB\n"
=======
      "Int64Index: 5232 entries, 0 to 1999\n",
>>>>>>> master
      "Data columns (total 9 columns):\n",
      " #   Column     Non-Null Count  Dtype              \n",
      "---  ------     --------------  -----              \n",
      " 0   id         8423 non-null   object             \n",
      " 1   text       8423 non-null   object             \n",
      " 2   date       8423 non-null   datetime64[ns, UTC]\n",
      " 3   retweets   8423 non-null   int64              \n",
      " 4   favorites  8423 non-null   int64              \n",
      " 5   mentions   8423 non-null   object             \n",
      " 6   hashtags   8423 non-null   object             \n",
      " 7   geo        8423 non-null   object             \n",
      " 8   region     8423 non-null   object             \n",
      "dtypes: datetime64[ns, UTC](1), int64(2), object(6)\n",
<<<<<<< HEAD
      "memory usage: 658.0+ KB\n"
=======
      "memory usage: 408.8+ KB\n"
>>>>>>> bf1492607eb6cfa0d096117eb12158657a996bdc
>>>>>>> master
     ]
    }
   ],
   "source": [
    "corpusdf.info()"
   ]
  },
  {
   "cell_type": "code",
<<<<<<< HEAD
   "execution_count": 8,
=======
<<<<<<< HEAD
   "execution_count": 176,
=======
   "execution_count": 54,
>>>>>>> bf1492607eb6cfa0d096117eb12158657a996bdc
>>>>>>> master
   "metadata": {},
   "outputs": [
    {
     "data": {
      "text/plain": [
<<<<<<< HEAD
       "38"
      ]
     },
     "execution_count": 8,
=======
<<<<<<< HEAD
       "id           0\n",
       "text         0\n",
       "date         0\n",
       "retweets     0\n",
       "favorites    0\n",
       "mentions     0\n",
       "hashtags     0\n",
       "geo          0\n",
       "region       0\n",
       "dtype: int64"
      ]
     },
     "execution_count": 176,
     "metadata": {},
     "output_type": "execute_result"
    }
   ],
   "source": [
    "corpusdf.isnull().sum()"
   ]
  },
  {
   "cell_type": "code",
   "execution_count": 126,
   "metadata": {},
   "outputs": [
    {
     "data": {
      "text/plain": [
       "51"
      ]
     },
     "execution_count": 126,
=======
       "25"
      ]
     },
     "execution_count": 54,
>>>>>>> bf1492607eb6cfa0d096117eb12158657a996bdc
>>>>>>> master
     "metadata": {},
     "output_type": "execute_result"
    }
   ],
   "source": [
    "corpus_covid = corpusdf['text'].str.contains('covid|coronavirus', flags=re.IGNORECASE, regex=True).sum()\n",
    "corpus_covid"
   ]
  },
  {
   "cell_type": "code",
<<<<<<< HEAD
   "execution_count": 9,
=======
<<<<<<< HEAD
   "execution_count": 134,
=======
   "execution_count": 62,
>>>>>>> bf1492607eb6cfa0d096117eb12158657a996bdc
>>>>>>> master
   "metadata": {},
   "outputs": [
    {
     "name": "stdout",
     "output_type": "stream",
     "text": [
<<<<<<< HEAD
      "Index 0: week 2020-08-30 complete at -13.65570616722107 seconds\n",
      "Index 1: week 2020-08-31 complete at -28.513996124267578 seconds\n",
      "Index 2: week 2020-09-01 complete at -43.93055319786072 seconds\n",
      "Index 3: week 2020-09-02 complete at -59.769742250442505 seconds\n",
      "Index 4: week 2020-09-03 complete at -74.17958116531372 seconds\n",
      "Index 5: week 2020-09-04 complete at -88.78139209747314 seconds\n",
      "Index 6: week 2020-09-05 complete at -137.1105191707611 seconds\n",
      "Final run time: -137.11062502861023 seconds\n"
=======
<<<<<<< HEAD
      "Index 0: week 2020-08-30 complete at -13.69644808769226 seconds\n",
      "Index 1: week 2020-08-31 complete at -28.57435131072998 seconds\n",
      "Index 2: week 2020-09-01 complete at -43.38692617416382 seconds\n",
      "Index 3: week 2020-09-02 complete at -59.336262226104736 seconds\n",
      "Index 4: week 2020-09-03 complete at -74.33839416503906 seconds\n",
      "Index 5: week 2020-09-04 complete at -146.13612604141235 seconds\n",
      "Index 6: week 2020-09-05 complete at -216.7911741733551 seconds\n",
      "Final run time: -216.79136514663696 seconds\n"
=======
      "Index 0: week 2020-08-30 complete at -14.94557785987854 seconds\n",
      "Index 1: week 2020-08-31 complete at -38.22645902633667 seconds\n",
      "Index 2: week 2020-09-01 complete at -61.72081708908081 seconds\n",
      "Index 3: week 2020-09-02 complete at -62.36912393569946 seconds\n",
      "Index 4: week 2020-09-032020-09-04 complete at -62.666393995285034 seconds\n",
      "Index 5: week 2020-09-05 complete at -147.65590119361877 seconds\n",
      "Final run time: -147.6574068069458 seconds\n"
>>>>>>> bf1492607eb6cfa0d096117eb12158657a996bdc
>>>>>>> master
     ]
    }
   ],
   "source": [
    "harlingen_df= all_tweets(\n",
    "                region =  \"Harlingen\",\n",
    "                query = ' ',\n",
    "                since = since,\n",
    "                until = until,\n",
    "                max_tweets = 2000,\n",
    "                location = \"26.190631, -97.696103\",\n",
    "                radius = \"13mi\")"
   ]
  },
  {
   "cell_type": "code",
<<<<<<< HEAD
   "execution_count": 10,
=======
<<<<<<< HEAD
   "execution_count": 135,
>>>>>>> master
   "metadata": {},
   "outputs": [
    {
     "name": "stdout",
     "output_type": "stream",
     "text": [
      "<class 'pandas.core.frame.DataFrame'>\n",
<<<<<<< HEAD
      "Int64Index: 3877 entries, 0 to 1401\n",
      "Data columns (total 9 columns):\n",
      " #   Column     Non-Null Count  Dtype              \n",
      "---  ------     --------------  -----              \n",
      " 0   id         3877 non-null   object             \n",
      " 1   text       3877 non-null   object             \n",
      " 2   date       3877 non-null   datetime64[ns, UTC]\n",
      " 3   retweets   3877 non-null   int64              \n",
      " 4   favorites  3877 non-null   int64              \n",
      " 5   mentions   3877 non-null   object             \n",
      " 6   hashtags   3877 non-null   object             \n",
      " 7   geo        3877 non-null   object             \n",
      " 8   region     3877 non-null   object             \n",
      "dtypes: datetime64[ns, UTC](1), int64(2), object(6)\n",
      "memory usage: 302.9+ KB\n"
=======
      "Int64Index: 6073 entries, 0 to 1999\n",
      "Data columns (total 9 columns):\n",
      " #   Column     Non-Null Count  Dtype              \n",
      "---  ------     --------------  -----              \n",
      " 0   id         6073 non-null   object             \n",
      " 1   text       6073 non-null   object             \n",
      " 2   date       6073 non-null   datetime64[ns, UTC]\n",
      " 3   retweets   6073 non-null   int64              \n",
      " 4   favorites  6073 non-null   int64              \n",
      " 5   mentions   6073 non-null   object             \n",
      " 6   hashtags   6073 non-null   object             \n",
      " 7   geo        6073 non-null   object             \n",
      " 8   region     6073 non-null   object             \n",
      "dtypes: datetime64[ns, UTC](1), int64(2), object(6)\n",
      "memory usage: 474.5+ KB\n"
>>>>>>> master
     ]
    }
   ],
   "source": [
    "harlingen_df.info()"
   ]
  },
  {
   "cell_type": "code",
<<<<<<< HEAD
=======
   "execution_count": 177,
   "metadata": {},
   "outputs": [
    {
     "data": {
      "text/plain": [
       "id           0\n",
       "text         0\n",
       "date         0\n",
       "retweets     0\n",
       "favorites    0\n",
       "mentions     0\n",
       "hashtags     0\n",
       "geo          0\n",
       "region       0\n",
       "dtype: int64"
      ]
     },
     "execution_count": 177,
     "metadata": {},
     "output_type": "execute_result"
    }
   ],
   "source": [
    "harlingen_df.isnull().sum()"
   ]
  },
  {
   "cell_type": "code",
   "execution_count": 136,
=======
>>>>>>> master
   "execution_count": 63,
>>>>>>> bf1492607eb6cfa0d096117eb12158657a996bdc
   "metadata": {},
   "outputs": [
    {
     "data": {
      "text/plain": [
<<<<<<< HEAD
       "30"
      ]
     },
     "execution_count": 136,
=======
       "15"
      ]
     },
     "execution_count": 63,
>>>>>>> bf1492607eb6cfa0d096117eb12158657a996bdc
     "metadata": {},
     "output_type": "execute_result"
    }
   ],
   "source": [
    "harlingen_covid = harlingen_df['text'].str.contains('covid|coronavirus', flags=re.IGNORECASE, regex=True).sum()\n",
    "harlingen_covid"
   ]
  },
  {
   "cell_type": "code",
<<<<<<< HEAD
   "execution_count": 20,
=======
<<<<<<< HEAD
   "execution_count": 137,
=======
   "execution_count": 60,
>>>>>>> bf1492607eb6cfa0d096117eb12158657a996bdc
>>>>>>> master
   "metadata": {},
   "outputs": [
    {
     "name": "stdout",
     "output_type": "stream",
     "text": [
<<<<<<< HEAD
      "Index 0: week 2020-08-30 complete at -11.255651950836182 seconds\n",
      "Index 1: week 2020-08-31 complete at -25.579226970672607 seconds\n",
      "Index 2: week 2020-09-01 complete at -39.373236894607544 seconds\n",
      "Index 3: week 2020-09-02 complete at -48.297420024871826 seconds\n",
      "Index 4: week 2020-09-03 complete at -60.67626094818115 seconds\n",
      "Index 5: week 2020-09-04 complete at -72.08866286277771 seconds\n",
      "Index 6: week 2020-09-05 complete at -118.85316181182861 seconds\n",
      "Final run time: -118.85341501235962 seconds\n"
=======
<<<<<<< HEAD
      "Index 0: week 2020-08-30 complete at -10.488708019256592 seconds\n",
      "Index 1: week 2020-08-31 complete at -22.153608083724976 seconds\n",
      "Index 2: week 2020-09-01 complete at -35.22054314613342 seconds\n",
      "Index 3: week 2020-09-02 complete at -43.9814829826355 seconds\n",
      "Index 4: week 2020-09-03 complete at -56.82721304893494 seconds\n",
      "Index 5: week 2020-09-04 complete at -127.25100111961365 seconds\n",
      "Index 6: week 2020-09-05 complete at -195.88009405136108 seconds\n",
      "Final run time: -195.88023591041565 seconds\n"
=======
      "Index 0: week 2020-08-30 complete at -12.09786319732666 seconds\n",
      "Index 1: week 2020-08-31 complete at -23.921255350112915 seconds\n",
      "Index 2: week 2020-09-01 complete at -36.7600531578064 seconds\n",
      "Index 3: week 2020-09-02 complete at -37.030314207077026 seconds\n",
      "Index 4: week 2020-09-032020-09-04 complete at -37.36368417739868 seconds\n",
      "Index 5: week 2020-09-05 complete at -109.37401723861694 seconds\n",
      "Final run time: -109.37419629096985 seconds\n"
>>>>>>> bf1492607eb6cfa0d096117eb12158657a996bdc
>>>>>>> master
     ]
    }
   ],
   "source": [
    "brownsville_df= all_tweets(\n",
    "                region =  \"Brownsville\",\n",
    "                query = ' ',\n",
    "                since = since,\n",
    "                until = until,\n",
    "                max_tweets = 2000,\n",
    "                location = \"25.90175, -97.49748\",\n",
    "                radius = \"15mi\")"
   ]
  },
  {
   "cell_type": "code",
<<<<<<< HEAD
   "execution_count": 21,
=======
<<<<<<< HEAD
   "execution_count": 138,
>>>>>>> master
   "metadata": {},
   "outputs": [
    {
     "name": "stdout",
     "output_type": "stream",
     "text": [
      "<class 'pandas.core.frame.DataFrame'>\n",
<<<<<<< HEAD
      "Int64Index: 2971 entries, 0 to 1172\n",
      "Data columns (total 9 columns):\n",
      " #   Column     Non-Null Count  Dtype              \n",
      "---  ------     --------------  -----              \n",
      " 0   id         2971 non-null   object             \n",
      " 1   text       2971 non-null   object             \n",
      " 2   date       2971 non-null   datetime64[ns, UTC]\n",
      " 3   retweets   2971 non-null   int64              \n",
      " 4   favorites  2971 non-null   int64              \n",
      " 5   mentions   2971 non-null   object             \n",
      " 6   hashtags   2971 non-null   object             \n",
      " 7   geo        2971 non-null   object             \n",
      " 8   region     2971 non-null   object             \n",
      "dtypes: datetime64[ns, UTC](1), int64(2), object(6)\n",
      "memory usage: 232.1+ KB\n"
=======
      "Int64Index: 5551 entries, 0 to 1999\n",
      "Data columns (total 9 columns):\n",
      " #   Column     Non-Null Count  Dtype              \n",
      "---  ------     --------------  -----              \n",
      " 0   id         5551 non-null   object             \n",
      " 1   text       5551 non-null   object             \n",
      " 2   date       5551 non-null   datetime64[ns, UTC]\n",
      " 3   retweets   5551 non-null   int64              \n",
      " 4   favorites  5551 non-null   int64              \n",
      " 5   mentions   5551 non-null   object             \n",
      " 6   hashtags   5551 non-null   object             \n",
      " 7   geo        5551 non-null   object             \n",
      " 8   region     5551 non-null   object             \n",
      "dtypes: datetime64[ns, UTC](1), int64(2), object(6)\n",
      "memory usage: 433.7+ KB\n"
>>>>>>> master
     ]
    }
   ],
   "source": [
    "brownsville_df.info()"
   ]
  },
  {
   "cell_type": "code",
<<<<<<< HEAD
=======
   "execution_count": 178,
   "metadata": {},
   "outputs": [
    {
     "data": {
      "text/plain": [
       "id           0\n",
       "text         0\n",
       "date         0\n",
       "retweets     0\n",
       "favorites    0\n",
       "mentions     0\n",
       "hashtags     0\n",
       "geo          0\n",
       "region       0\n",
       "dtype: int64"
      ]
     },
     "execution_count": 178,
     "metadata": {},
     "output_type": "execute_result"
    }
   ],
   "source": [
    "brownsville_df.isnull().sum()"
   ]
  },
  {
   "cell_type": "code",
   "execution_count": 139,
=======
>>>>>>> master
   "execution_count": 61,
>>>>>>> bf1492607eb6cfa0d096117eb12158657a996bdc
   "metadata": {},
   "outputs": [
    {
     "data": {
      "text/plain": [
<<<<<<< HEAD
       "45"
      ]
     },
     "execution_count": 139,
=======
       "23"
      ]
     },
     "execution_count": 61,
>>>>>>> bf1492607eb6cfa0d096117eb12158657a996bdc
     "metadata": {},
     "output_type": "execute_result"
    }
   ],
   "source": [
    "brownsville_covid = brownsville_df['text'].str.contains('covid|coronavirus', flags=re.IGNORECASE, regex=True).sum()\n",
    "brownsville_covid"
   ]
  },
  {
   "cell_type": "code",
<<<<<<< HEAD
   "execution_count": 22,
=======
<<<<<<< HEAD
   "execution_count": 141,
=======
   "execution_count": 64,
>>>>>>> bf1492607eb6cfa0d096117eb12158657a996bdc
>>>>>>> master
   "metadata": {},
   "outputs": [
    {
     "name": "stdout",
     "output_type": "stream",
     "text": [
<<<<<<< HEAD
      "Index 0: week 2020-08-30 complete at -46.48328876495361 seconds\n",
      "Index 1: week 2020-08-31 complete at -101.98462295532227 seconds\n",
      "Index 2: week 2020-09-01 complete at -160.03096985816956 seconds\n",
      "Index 3: week 2020-09-02 complete at -222.21433877944946 seconds\n",
      "Index 4: week 2020-09-03 complete at -281.4732780456543 seconds\n",
      "Index 5: week 2020-09-04 complete at -338.2280080318451 seconds\n",
      "Index 6: week 2020-09-05 complete at -414.6846339702606 seconds\n",
      "Final run time: -414.68477392196655 seconds\n"
=======
<<<<<<< HEAD
      "Index 0: week 2020-08-30 complete at -44.127758264541626 seconds\n",
      "Index 1: week 2020-08-31 complete at -94.13497519493103 seconds\n",
      "Index 2: week 2020-09-01 complete at -150.2988600730896 seconds\n",
      "Index 3: week 2020-09-02 complete at -207.15475726127625 seconds\n",
      "Index 4: week 2020-09-03 complete at -265.2312672138214 seconds\n",
      "Index 5: week 2020-09-04 complete at -331.1652443408966 seconds\n",
      "Index 6: week 2020-09-05 complete at -397.59714818000793 seconds\n",
      "Final run time: -397.5973210334778 seconds\n"
=======
      "Index 0: week 2020-08-30 complete at -43.79415202140808 seconds\n",
      "Index 1: week 2020-08-31 complete at -95.67512488365173 seconds\n",
      "Index 2: week 2020-09-01 complete at -151.62063884735107 seconds\n",
      "Index 3: week 2020-09-02 complete at -151.87824606895447 seconds\n",
      "Index 4: week 2020-09-032020-09-04 complete at -152.18713998794556 seconds\n",
      "Index 5: week 2020-09-05 complete at -221.11545515060425 seconds\n",
      "Final run time: -221.11564111709595 seconds\n"
>>>>>>> bf1492607eb6cfa0d096117eb12158657a996bdc
>>>>>>> master
     ]
    }
   ],
   "source": [
    "mcallen_df= all_tweets(\n",
    "                region =  \"Mcallen\",\n",
    "                query = ' ',\n",
    "                since = since,\n",
    "                until = until,\n",
    "                max_tweets = 2000,\n",
    "                location = \"26.209832494, -98.235165726\",\n",
    "                radius = \"25mi\")"
   ]
  },
  {
   "cell_type": "code",
<<<<<<< HEAD
   "execution_count": 23,
=======
<<<<<<< HEAD
   "execution_count": 142,
=======
   "execution_count": 65,
>>>>>>> bf1492607eb6cfa0d096117eb12158657a996bdc
>>>>>>> master
   "metadata": {},
   "outputs": [
    {
     "name": "stdout",
     "output_type": "stream",
     "text": [
      "<class 'pandas.core.frame.DataFrame'>\n",
<<<<<<< HEAD
      "Int64Index: 11035 entries, 0 to 1999\n",
=======
<<<<<<< HEAD
      "Int64Index: 11546 entries, 0 to 1999\n",
      "Data columns (total 9 columns):\n",
      " #   Column     Non-Null Count  Dtype              \n",
      "---  ------     --------------  -----              \n",
      " 0   id         11546 non-null  object             \n",
      " 1   text       11546 non-null  object             \n",
      " 2   date       11546 non-null  datetime64[ns, UTC]\n",
      " 3   retweets   11546 non-null  int64              \n",
      " 4   favorites  11546 non-null  int64              \n",
      " 5   mentions   11546 non-null  object             \n",
      " 6   hashtags   11546 non-null  object             \n",
      " 7   geo        11546 non-null  object             \n",
      " 8   region     11546 non-null  object             \n",
      "dtypes: datetime64[ns, UTC](1), int64(2), object(6)\n",
      "memory usage: 902.0+ KB\n"
=======
      "Int64Index: 6283 entries, 0 to 1999\n",
>>>>>>> master
      "Data columns (total 9 columns):\n",
      " #   Column     Non-Null Count  Dtype              \n",
      "---  ------     --------------  -----              \n",
      " 0   id         11035 non-null  object             \n",
      " 1   text       11035 non-null  object             \n",
      " 2   date       11035 non-null  datetime64[ns, UTC]\n",
      " 3   retweets   11035 non-null  int64              \n",
      " 4   favorites  11035 non-null  int64              \n",
      " 5   mentions   11035 non-null  object             \n",
      " 6   hashtags   11035 non-null  object             \n",
      " 7   geo        11035 non-null  object             \n",
      " 8   region     11035 non-null  object             \n",
      "dtypes: datetime64[ns, UTC](1), int64(2), object(6)\n",
<<<<<<< HEAD
      "memory usage: 862.1+ KB\n"
=======
      "memory usage: 490.9+ KB\n"
>>>>>>> bf1492607eb6cfa0d096117eb12158657a996bdc
>>>>>>> master
     ]
    }
   ],
   "source": [
    "mcallen_df.info()"
   ]
  },
  {
   "cell_type": "code",
<<<<<<< HEAD
   "execution_count": 179,
   "metadata": {},
   "outputs": [
    {
     "data": {
      "text/plain": [
       "id           0\n",
       "text         0\n",
       "date         0\n",
       "retweets     0\n",
       "favorites    0\n",
       "mentions     0\n",
       "hashtags     0\n",
       "geo          0\n",
       "region       0\n",
       "dtype: int64"
      ]
     },
     "execution_count": 179,
     "metadata": {},
     "output_type": "execute_result"
    }
   ],
   "source": [
    "mcallen_df.isnull().sum()"
   ]
  },
  {
   "cell_type": "code",
   "execution_count": 143,
=======
   "execution_count": 66,
>>>>>>> bf1492607eb6cfa0d096117eb12158657a996bdc
   "metadata": {},
   "outputs": [
    {
     "data": {
      "text/plain": [
<<<<<<< HEAD
       "64"
      ]
     },
     "execution_count": 143,
=======
       "31"
      ]
     },
     "execution_count": 66,
>>>>>>> bf1492607eb6cfa0d096117eb12158657a996bdc
     "metadata": {},
     "output_type": "execute_result"
    }
   ],
   "source": [
    "mcallen_covid = mcallen_df['text'].str.contains('covid|coronavirus', flags=re.IGNORECASE, regex=True).sum()\n",
    "mcallen_covid"
   ]
  },
  {
   "cell_type": "code",
<<<<<<< HEAD
   "execution_count": 144,
=======
   "execution_count": 56,
>>>>>>> bf1492607eb6cfa0d096117eb12158657a996bdc
   "metadata": {},
   "outputs": [
    {
     "name": "stdout",
     "output_type": "stream",
     "text": [
<<<<<<< HEAD
      "Index 0: week 2020-08-30 complete at -7.509893178939819 seconds\n",
      "Index 1: week 2020-08-31 complete at -15.62413740158081 seconds\n",
      "Index 2: week 2020-09-01 complete at -24.281984090805054 seconds\n",
      "Index 3: week 2020-09-02 complete at -33.21909022331238 seconds\n",
      "Index 4: week 2020-09-03 complete at -43.521066427230835 seconds\n",
      "Index 5: week 2020-09-04 complete at -95.57344627380371 seconds\n",
      "Index 6: week 2020-09-05 complete at -151.69077229499817 seconds\n",
      "Final run time: -151.69099235534668 seconds\n"
=======
      "Index 0: week 2020-08-30 complete at -8.253138065338135 seconds\n",
      "Index 1: week 2020-08-31 complete at -16.476850032806396 seconds\n",
      "Index 2: week 2020-09-01 complete at -25.426342964172363 seconds\n",
      "Index 3: week 2020-09-02 complete at -25.70069694519043 seconds\n",
      "Index 4: week 2020-09-032020-09-04 complete at -26.054773092269897 seconds\n",
      "Index 5: week 2020-09-05 complete at -90.07138586044312 seconds\n",
      "Final run time: -90.07173585891724 seconds\n"
>>>>>>> bf1492607eb6cfa0d096117eb12158657a996bdc
     ]
    }
   ],
   "source": [
    "sanangelodf= all_tweets(\n",
    "                region =  \"San Angelo\",\n",
    "                query = ' ',\n",
    "                since = since,\n",
    "                until = until,\n",
    "                max_tweets = 2000,\n",
    "                location = \"31.46377, -100.43704\",\n",
    "                radius = \"10mi\")"
   ]
  },
  {
   "cell_type": "code",
<<<<<<< HEAD
   "execution_count": null,
   "metadata": {},
   "outputs": [],
=======
<<<<<<< HEAD
   "execution_count": 145,
   "metadata": {},
   "outputs": [
    {
     "name": "stdout",
     "output_type": "stream",
     "text": [
      "<class 'pandas.core.frame.DataFrame'>\n",
      "Int64Index: 4498 entries, 0 to 1721\n",
      "Data columns (total 9 columns):\n",
      " #   Column     Non-Null Count  Dtype              \n",
      "---  ------     --------------  -----              \n",
      " 0   id         4498 non-null   object             \n",
      " 1   text       4498 non-null   object             \n",
      " 2   date       4498 non-null   datetime64[ns, UTC]\n",
      " 3   retweets   4498 non-null   int64              \n",
      " 4   favorites  4498 non-null   int64              \n",
      " 5   mentions   4498 non-null   object             \n",
      " 6   hashtags   4498 non-null   object             \n",
      " 7   geo        4498 non-null   object             \n",
      " 8   region     4498 non-null   object             \n",
      "dtypes: datetime64[ns, UTC](1), int64(2), object(6)\n",
      "memory usage: 351.4+ KB\n"
     ]
    }
   ],
>>>>>>> master
   "source": [
    "sanangelodf.info()"
   ]
  },
  {
   "cell_type": "code",
<<<<<<< HEAD
=======
   "execution_count": 180,
=======
>>>>>>> master
   "execution_count": 57,
>>>>>>> bf1492607eb6cfa0d096117eb12158657a996bdc
   "metadata": {},
   "outputs": [
    {
     "data": {
      "text/plain": [
<<<<<<< HEAD
       "id           0\n",
       "text         0\n",
       "date         0\n",
       "retweets     0\n",
       "favorites    0\n",
       "mentions     0\n",
       "hashtags     0\n",
       "geo          0\n",
       "region       0\n",
       "dtype: int64"
      ]
     },
     "execution_count": 180,
=======
       "29"
      ]
     },
     "execution_count": 57,
>>>>>>> bf1492607eb6cfa0d096117eb12158657a996bdc
     "metadata": {},
     "output_type": "execute_result"
    }
   ],
   "source": [
<<<<<<< HEAD
    "sanangelodf.isnull().sum()"
=======
    "sanangelo_covid = sanangelodf['text'].str.contains('covid|coronavirus', flags=re.IGNORECASE, regex=True).sum()\n",
    "sanangelo_covid"
>>>>>>> bf1492607eb6cfa0d096117eb12158657a996bdc
   ]
  },
  {
   "cell_type": "code",
<<<<<<< HEAD
   "execution_count": 146,
   "metadata": {},
   "outputs": [
    {
     "data": {
      "text/plain": [
       "48"
      ]
     },
     "execution_count": 146,
     "metadata": {},
     "output_type": "execute_result"
    }
   ],
   "source": [
    "sanangelo_covid = sanangelodf['text'].str.contains('covid|coronavirus', flags=re.IGNORECASE, regex=True).sum()\n",
    "sanangelo_covid"
=======
   "execution_count": null,
   "metadata": {},
   "outputs": [],
   "source": [
    "29.36273 -100.89676"
>>>>>>> bf1492607eb6cfa0d096117eb12158657a996bdc
   ]
  },
  {
   "cell_type": "code",
<<<<<<< HEAD
   "execution_count": 16,
=======
<<<<<<< HEAD
   "execution_count": 147,
=======
   "execution_count": 70,
>>>>>>> bf1492607eb6cfa0d096117eb12158657a996bdc
>>>>>>> master
   "metadata": {},
   "outputs": [
    {
     "name": "stdout",
     "output_type": "stream",
     "text": [
<<<<<<< HEAD
      "Index 0: week 2020-08-30 complete at -1.29939603805542 seconds\n",
      "Index 1: week 2020-08-31 complete at -3.3862709999084473 seconds\n",
      "Index 2: week 2020-09-01 complete at -4.838222980499268 seconds\n",
      "Index 3: week 2020-09-02 complete at -6.224836826324463 seconds\n",
      "Index 4: week 2020-09-03 complete at -7.373722791671753 seconds\n",
      "Index 5: week 2020-09-04 complete at -9.507888793945312 seconds\n",
      "Index 6: week 2020-09-05 complete at -16.0132999420166 seconds\n",
      "Final run time: -16.013543844223022 seconds\n"
=======
<<<<<<< HEAD
      "Index 0: week 2020-08-30 complete at -1.7167599201202393 seconds\n",
      "Index 1: week 2020-08-31 complete at -4.168463945388794 seconds\n",
      "Index 2: week 2020-09-01 complete at -5.60020112991333 seconds\n",
      "Index 3: week 2020-09-02 complete at -7.071987152099609 seconds\n",
      "Index 4: week 2020-09-03 complete at -8.41736888885498 seconds\n",
      "Index 5: week 2020-09-04 complete at -22.550530910491943 seconds\n",
      "Index 6: week 2020-09-05 complete at -41.02782702445984 seconds\n",
      "Final run time: -41.02806305885315 seconds\n"
=======
      "Index 0: week 2020-08-30 complete at -1.3934781551361084 seconds\n",
      "Index 1: week 2020-08-31 complete at -3.460942029953003 seconds\n",
      "Index 2: week 2020-09-01 complete at -4.7203099727630615 seconds\n",
      "Index 3: week 2020-09-02 complete at -4.986245155334473 seconds\n",
      "Index 4: week 2020-09-032020-09-04 complete at -5.311681032180786 seconds\n",
      "Index 5: week 2020-09-05 complete at -26.82547092437744 seconds\n",
      "Final run time: -26.82582402229309 seconds\n"
>>>>>>> bf1492607eb6cfa0d096117eb12158657a996bdc
>>>>>>> master
     ]
    }
   ],
   "source": [
    "delriodf= all_tweets(\n",
    "                region =  \"Del Rio\",\n",
    "                query = ' ',\n",
    "                since = since,\n",
    "                until = until,\n",
    "                max_tweets = 2000,\n",
    "                location = \"29.36273, -100.89676\",\n",
    "                radius = \"20mi\")"
   ]
  },
  {
   "cell_type": "code",
<<<<<<< HEAD
   "execution_count": 17,
=======
<<<<<<< HEAD
   "execution_count": 148,
=======
   "execution_count": 71,
>>>>>>> bf1492607eb6cfa0d096117eb12158657a996bdc
>>>>>>> master
   "metadata": {},
   "outputs": [
    {
     "name": "stdout",
     "output_type": "stream",
     "text": [
      "<class 'pandas.core.frame.DataFrame'>\n",
<<<<<<< HEAD
      "Int64Index: 380 entries, 0 to 174\n",
=======
<<<<<<< HEAD
      "Int64Index: 1148 entries, 0 to 563\n",
      "Data columns (total 9 columns):\n",
      " #   Column     Non-Null Count  Dtype              \n",
      "---  ------     --------------  -----              \n",
      " 0   id         1148 non-null   object             \n",
      " 1   text       1148 non-null   object             \n",
      " 2   date       1148 non-null   datetime64[ns, UTC]\n",
      " 3   retweets   1148 non-null   int64              \n",
      " 4   favorites  1148 non-null   int64              \n",
      " 5   mentions   1148 non-null   object             \n",
      " 6   hashtags   1148 non-null   object             \n",
      " 7   geo        1148 non-null   object             \n",
      " 8   region     1148 non-null   object             \n",
      "dtypes: datetime64[ns, UTC](1), int64(2), object(6)\n",
      "memory usage: 89.7+ KB\n"
=======
      "Int64Index: 672 entries, 0 to 563\n",
>>>>>>> master
      "Data columns (total 9 columns):\n",
      " #   Column     Non-Null Count  Dtype              \n",
      "---  ------     --------------  -----              \n",
      " 0   id         380 non-null    object             \n",
      " 1   text       380 non-null    object             \n",
      " 2   date       380 non-null    datetime64[ns, UTC]\n",
      " 3   retweets   380 non-null    int64              \n",
      " 4   favorites  380 non-null    int64              \n",
      " 5   mentions   380 non-null    object             \n",
      " 6   hashtags   380 non-null    object             \n",
      " 7   geo        380 non-null    object             \n",
      " 8   region     380 non-null    object             \n",
      "dtypes: datetime64[ns, UTC](1), int64(2), object(6)\n",
<<<<<<< HEAD
      "memory usage: 29.7+ KB\n"
=======
      "memory usage: 52.5+ KB\n"
>>>>>>> bf1492607eb6cfa0d096117eb12158657a996bdc
>>>>>>> master
     ]
    }
   ],
   "source": [
    "delriodf.info()"
   ]
  },
  {
   "cell_type": "code",
<<<<<<< HEAD
   "execution_count": 181,
=======
   "execution_count": 72,
>>>>>>> bf1492607eb6cfa0d096117eb12158657a996bdc
   "metadata": {},
   "outputs": [
    {
     "data": {
      "text/plain": [
<<<<<<< HEAD
       "id           0\n",
       "text         0\n",
       "date         0\n",
       "retweets     0\n",
       "favorites    0\n",
       "mentions     0\n",
       "hashtags     0\n",
       "geo          0\n",
       "region       0\n",
       "dtype: int64"
      ]
     },
     "execution_count": 181,
=======
       "4"
      ]
     },
     "execution_count": 72,
>>>>>>> bf1492607eb6cfa0d096117eb12158657a996bdc
     "metadata": {},
     "output_type": "execute_result"
    }
   ],
   "source": [
<<<<<<< HEAD
    "delriodf.isnull().sum()"
=======
    "delrio_covid = delriodf['text'].str.contains('covid|coronavirus', flags=re.IGNORECASE, regex=True).sum()\n",
    "delrio_covid"
>>>>>>> bf1492607eb6cfa0d096117eb12158657a996bdc
   ]
  },
  {
   "cell_type": "code",
<<<<<<< HEAD
   "execution_count": 149,
   "metadata": {},
   "outputs": [
    {
     "data": {
      "text/plain": [
       "10"
      ]
     },
     "execution_count": 149,
     "metadata": {},
     "output_type": "execute_result"
    }
   ],
   "source": [
    "delrio_covid = delriodf['text'].str.contains('covid|coronavirus', flags=re.IGNORECASE, regex=True).sum()\n",
    "delrio_covid"
=======
   "execution_count": null,
   "metadata": {},
   "outputs": [],
   "source": [
    "30.181729, -99.010617"
>>>>>>> bf1492607eb6cfa0d096117eb12158657a996bdc
   ]
  },
  {
   "cell_type": "code",
<<<<<<< HEAD
   "execution_count": 165,
=======
   "execution_count": 75,
>>>>>>> bf1492607eb6cfa0d096117eb12158657a996bdc
   "metadata": {},
   "outputs": [
    {
     "name": "stdout",
     "output_type": "stream",
     "text": [
<<<<<<< HEAD
      "Index 0: week 2020-08-30 complete at -3.972526788711548 seconds\n",
      "Index 1: week 2020-08-31 complete at -7.095767974853516 seconds\n",
      "Index 2: week 2020-09-01 complete at -11.489387035369873 seconds\n",
      "Index 3: week 2020-09-02 complete at -17.039788007736206 seconds\n",
      "Index 4: week 2020-09-03 complete at -21.148326873779297 seconds\n",
      "Index 5: week 2020-09-04 complete at -48.497071981430054 seconds\n",
      "Index 6: week 2020-09-05 complete at -82.02181196212769 seconds\n",
      "Final run time: -82.02201914787292 seconds\n"
=======
      "Index 0: week 2020-08-30 complete at -4.27155613899231 seconds\n",
      "Index 1: week 2020-08-31 complete at -7.8383989334106445 seconds\n",
      "Index 2: week 2020-09-01 complete at -12.179133892059326 seconds\n",
      "Index 3: week 2020-09-02 complete at -12.449790000915527 seconds\n",
      "Index 4: week 2020-09-032020-09-04 complete at -12.748046159744263 seconds\n",
      "Index 5: week 2020-09-05 complete at -50.84703803062439 seconds\n",
      "Final run time: -50.84724307060242 seconds\n"
>>>>>>> bf1492607eb6cfa0d096117eb12158657a996bdc
     ]
    }
   ],
   "source": [
    "kerrfreddf= all_tweets(\n",
    "                region =  \"Kerrville Fredericksburg\",\n",
    "                query = ' ',\n",
    "                since = since,\n",
    "                until = until,\n",
    "                max_tweets = 2000,\n",
    "                location = \"30.181729, -99.010617\",\n",
    "                radius = \"17mi\")"
   ]
  },
  {
   "cell_type": "code",
<<<<<<< HEAD
   "execution_count": null,
   "metadata": {},
   "outputs": [],
=======
<<<<<<< HEAD
   "execution_count": 151,
   "metadata": {},
   "outputs": [
    {
     "name": "stdout",
     "output_type": "stream",
     "text": [
      "<class 'pandas.core.frame.DataFrame'>\n",
      "Int64Index: 2278 entries, 0 to 985\n",
      "Data columns (total 9 columns):\n",
      " #   Column     Non-Null Count  Dtype              \n",
      "---  ------     --------------  -----              \n",
      " 0   id         2278 non-null   object             \n",
      " 1   text       2278 non-null   object             \n",
      " 2   date       2278 non-null   datetime64[ns, UTC]\n",
      " 3   retweets   2278 non-null   int64              \n",
      " 4   favorites  2278 non-null   int64              \n",
      " 5   mentions   2278 non-null   object             \n",
      " 6   hashtags   2278 non-null   object             \n",
      " 7   geo        2278 non-null   object             \n",
      " 8   region     2278 non-null   object             \n",
      "dtypes: datetime64[ns, UTC](1), int64(2), object(6)\n",
      "memory usage: 178.0+ KB\n"
     ]
    }
   ],
>>>>>>> master
   "source": [
    "kerrfreddf.info()"
   ]
  },
  {
   "cell_type": "code",
<<<<<<< HEAD
=======
   "execution_count": 182,
   "metadata": {},
   "outputs": [
    {
     "data": {
      "text/plain": [
       "id           0\n",
       "text         0\n",
       "date         0\n",
       "retweets     0\n",
       "favorites    0\n",
       "mentions     0\n",
       "hashtags     0\n",
       "geo          0\n",
       "region       0\n",
       "dtype: int64"
      ]
     },
     "execution_count": 182,
     "metadata": {},
     "output_type": "execute_result"
    }
   ],
   "source": [
    "kerrfreddf.isnull().sum()"
   ]
  },
  {
   "cell_type": "code",
   "execution_count": 152,
=======
>>>>>>> master
   "execution_count": 76,
>>>>>>> bf1492607eb6cfa0d096117eb12158657a996bdc
   "metadata": {},
   "outputs": [
    {
     "data": {
      "text/plain": [
<<<<<<< HEAD
       "9"
      ]
     },
     "execution_count": 152,
=======
       "5"
      ]
     },
     "execution_count": 76,
>>>>>>> bf1492607eb6cfa0d096117eb12158657a996bdc
     "metadata": {},
     "output_type": "execute_result"
    }
   ],
   "source": [
    "kerrfred_covid = kerrfreddf['text'].str.contains('covid|coronavirus', flags=re.IGNORECASE, regex=True).sum()\n",
    "kerrfred_covid"
   ]
  },
  {
   "cell_type": "code",
<<<<<<< HEAD
   "execution_count": 167,
=======
   "execution_count": 78,
>>>>>>> bf1492607eb6cfa0d096117eb12158657a996bdc
   "metadata": {},
   "outputs": [
    {
     "name": "stdout",
     "output_type": "stream",
     "text": [
<<<<<<< HEAD
      "Index 0: week 2020-08-30 complete at -42.64570093154907 seconds\n",
      "Index 1: week 2020-08-31 complete at -85.47061800956726 seconds\n",
      "Index 2: week 2020-09-01 complete at -134.01404690742493 seconds\n",
      "Index 3: week 2020-09-02 complete at -182.2821159362793 seconds\n",
      "Index 4: week 2020-09-03 complete at -239.64216709136963 seconds\n",
      "Index 5: week 2020-09-04 complete at -308.7650899887085 seconds\n",
      "Index 6: week 2020-09-05 complete at -376.7141661643982 seconds\n",
      "Final run time: -376.71433997154236 seconds\n"
=======
      "Index 0: week 2020-08-30 complete at -46.97808313369751 seconds\n",
      "Index 1: week 2020-08-31 complete at -94.15696811676025 seconds\n",
      "Index 2: week 2020-09-01 complete at -150.17968916893005 seconds\n",
      "Index 3: week 2020-09-02 complete at -150.48927807807922 seconds\n",
      "Index 4: week 2020-09-032020-09-04 complete at -150.83588027954102 seconds\n",
      "Index 5: week 2020-09-05 complete at -222.3087751865387 seconds\n",
      "Final run time: -222.30893683433533 seconds\n"
>>>>>>> bf1492607eb6cfa0d096117eb12158657a996bdc
     ]
    }
   ],
   "source": [
    "smnbsdf = all_tweets(\n",
    "                region =  \"San Marcos New Braunfels Seguin\",\n",
    "                query = ' ',\n",
    "                since = since,\n",
    "                until = until,\n",
    "                max_tweets = 2000,\n",
    "                location = \"29.710683, -97.979395\",\n",
    "                radius = \"17mi\")"
   ]
  },
  {
   "cell_type": "code",
<<<<<<< HEAD
   "execution_count": null,
   "metadata": {},
   "outputs": [],
=======
<<<<<<< HEAD
   "execution_count": 168,
   "metadata": {},
   "outputs": [
    {
     "name": "stdout",
     "output_type": "stream",
     "text": [
      "<class 'pandas.core.frame.DataFrame'>\n",
      "Int64Index: 11046 entries, 0 to 1999\n",
      "Data columns (total 9 columns):\n",
      " #   Column     Non-Null Count  Dtype              \n",
      "---  ------     --------------  -----              \n",
      " 0   id         11046 non-null  object             \n",
      " 1   text       11046 non-null  object             \n",
      " 2   date       11046 non-null  datetime64[ns, UTC]\n",
      " 3   retweets   11046 non-null  int64              \n",
      " 4   favorites  11046 non-null  int64              \n",
      " 5   mentions   11046 non-null  object             \n",
      " 6   hashtags   11046 non-null  object             \n",
      " 7   geo        11046 non-null  object             \n",
      " 8   region     11046 non-null  object             \n",
      "dtypes: datetime64[ns, UTC](1), int64(2), object(6)\n",
      "memory usage: 863.0+ KB\n"
     ]
    }
   ],
>>>>>>> master
   "source": [
    "smnbsdf.info()"
   ]
  },
  {
   "cell_type": "code",
<<<<<<< HEAD
=======
   "execution_count": 183,
=======
>>>>>>> master
   "execution_count": 79,
>>>>>>> bf1492607eb6cfa0d096117eb12158657a996bdc
   "metadata": {},
   "outputs": [
    {
     "data": {
      "text/plain": [
<<<<<<< HEAD
       "id           0\n",
       "text         0\n",
       "date         0\n",
       "retweets     0\n",
       "favorites    0\n",
       "mentions     0\n",
       "hashtags     0\n",
       "geo          0\n",
       "region       0\n",
       "dtype: int64"
      ]
     },
     "execution_count": 183,
     "metadata": {},
     "output_type": "execute_result"
    }
   ],
   "source": [
    "smnbsdf.isnull().sum()"
   ]
  },
  {
   "cell_type": "code",
   "execution_count": 169,
   "metadata": {},
   "outputs": [
    {
     "data": {
      "text/plain": [
       "67"
      ]
     },
     "execution_count": 169,
=======
       "33"
      ]
     },
     "execution_count": 79,
>>>>>>> bf1492607eb6cfa0d096117eb12158657a996bdc
     "metadata": {},
     "output_type": "execute_result"
    }
   ],
   "source": [
    "smnbs_covid = smnbsdf['text'].str.contains('covid|coronavirus', flags=re.IGNORECASE, regex=True).sum()\n",
    "smnbs_covid"
   ]
  },
  {
   "cell_type": "code",
<<<<<<< HEAD
   "execution_count": 162,
=======
   "execution_count": 80,
>>>>>>> bf1492607eb6cfa0d096117eb12158657a996bdc
   "metadata": {},
   "outputs": [
    {
     "name": "stdout",
     "output_type": "stream",
     "text": [
<<<<<<< HEAD
      "Index 0: week 2020-08-30 complete at -3.4245200157165527 seconds\n",
      "Index 1: week 2020-08-31 complete at -7.638523101806641 seconds\n",
      "Index 2: week 2020-09-01 complete at -13.224915027618408 seconds\n",
      "Index 3: week 2020-09-02 complete at -25.32284188270569 seconds\n",
      "Index 4: week 2020-09-03 complete at -32.027194023132324 seconds\n",
      "Index 5: week 2020-09-04 complete at -101.29994916915894 seconds\n",
      "Index 6: week 2020-09-05 complete at -183.38299918174744 seconds\n",
      "Final run time: -183.38316917419434 seconds\n"
=======
      "Index 0: week 2020-08-30 complete at -3.5482399463653564 seconds\n",
      "Index 1: week 2020-08-31 complete at -7.587192058563232 seconds\n",
      "Index 2: week 2020-09-01 complete at -13.229912996292114 seconds\n",
      "Index 3: week 2020-09-02 complete at -13.512822151184082 seconds\n",
      "Index 4: week 2020-09-032020-09-04 complete at -13.86207103729248 seconds\n",
      "Index 5: week 2020-09-05 complete at -85.18466806411743 seconds\n",
      "Final run time: -85.18483686447144 seconds\n"
>>>>>>> bf1492607eb6cfa0d096117eb12158657a996bdc
     ]
    }
   ],
   "source": [
    "lufkindf = all_tweets(\n",
    "                region =  \"Lufkin\",\n",
    "                query = ' ',\n",
    "                since = since,\n",
    "                until = until,\n",
    "                max_tweets = 2000,\n",
    "                location = \"31.338242, -94.729095\",\n",
    "                radius = \"7mi\")"
   ]
  },
  {
   "cell_type": "code",
<<<<<<< HEAD
   "execution_count": null,
   "metadata": {},
   "outputs": [],
=======
<<<<<<< HEAD
   "execution_count": 163,
   "metadata": {},
   "outputs": [
    {
     "name": "stdout",
     "output_type": "stream",
     "text": [
      "<class 'pandas.core.frame.DataFrame'>\n",
      "Int64Index: 4769 entries, 0 to 1999\n",
      "Data columns (total 9 columns):\n",
      " #   Column     Non-Null Count  Dtype              \n",
      "---  ------     --------------  -----              \n",
      " 0   id         4769 non-null   object             \n",
      " 1   text       4769 non-null   object             \n",
      " 2   date       4769 non-null   datetime64[ns, UTC]\n",
      " 3   retweets   4769 non-null   int64              \n",
      " 4   favorites  4769 non-null   int64              \n",
      " 5   mentions   4769 non-null   object             \n",
      " 6   hashtags   4769 non-null   object             \n",
      " 7   geo        4769 non-null   object             \n",
      " 8   region     4769 non-null   object             \n",
      "dtypes: datetime64[ns, UTC](1), int64(2), object(6)\n",
      "memory usage: 372.6+ KB\n"
     ]
    }
   ],
>>>>>>> master
   "source": [
    "lufkindf.info()"
   ]
  },
  {
   "cell_type": "code",
<<<<<<< HEAD
=======
   "execution_count": 184,
=======
>>>>>>> master
   "execution_count": 81,
>>>>>>> bf1492607eb6cfa0d096117eb12158657a996bdc
   "metadata": {},
   "outputs": [
    {
     "data": {
      "text/plain": [
<<<<<<< HEAD
       "id           0\n",
       "text         0\n",
       "date         0\n",
       "retweets     0\n",
       "favorites    0\n",
       "mentions     0\n",
       "hashtags     0\n",
       "geo          0\n",
       "region       0\n",
       "dtype: int64"
      ]
     },
     "execution_count": 184,
     "metadata": {},
     "output_type": "execute_result"
    }
   ],
   "source": [
    "lufkindf.isnull().sum()"
   ]
  },
  {
   "cell_type": "code",
   "execution_count": 164,
   "metadata": {},
   "outputs": [
    {
     "data": {
      "text/plain": [
       "44"
      ]
     },
     "execution_count": 164,
=======
       "22"
      ]
     },
     "execution_count": 81,
>>>>>>> bf1492607eb6cfa0d096117eb12158657a996bdc
     "metadata": {},
     "output_type": "execute_result"
    }
   ],
   "source": [
    "lufkin_covid = lufkindf['text'].str.contains('covid|coronavirus', flags=re.IGNORECASE, regex=True).sum()\n",
    "lufkin_covid"
   ]
  },
  {
   "cell_type": "code",
<<<<<<< HEAD
   "execution_count": 159,
=======
   "execution_count": 107,
>>>>>>> bf1492607eb6cfa0d096117eb12158657a996bdc
   "metadata": {},
   "outputs": [
    {
     "name": "stdout",
     "output_type": "stream",
     "text": [
<<<<<<< HEAD
      "Index 0: week 2020-08-30 complete at -5.457345962524414 seconds\n",
      "Index 1: week 2020-08-31 complete at -10.236512899398804 seconds\n",
      "Index 2: week 2020-09-01 complete at -14.697542190551758 seconds\n",
      "Index 3: week 2020-09-02 complete at -19.47719383239746 seconds\n",
      "Index 4: week 2020-09-03 complete at -25.212862968444824 seconds\n",
      "Index 5: week 2020-09-04 complete at -56.213565826416016 seconds\n",
      "Index 6: week 2020-09-05 complete at -93.77255606651306 seconds\n",
      "Final run time: -93.77293419837952 seconds\n"
=======
      "Index 0: week 2020-08-30 complete at -4.927123069763184 seconds\n",
      "Index 1: week 2020-08-31 complete at -9.774760961532593 seconds\n",
      "Index 2: week 2020-09-01 complete at -15.02819013595581 seconds\n",
      "Index 3: week 2020-09-02 complete at -15.291391134262085 seconds\n",
      "Index 4: week 2020-09-032020-09-04 complete at -15.674443006515503 seconds\n",
      "Index 5: week 2020-09-05 complete at -57.21072793006897 seconds\n",
      "Final run time: -57.21092414855957 seconds\n"
>>>>>>> bf1492607eb6cfa0d096117eb12158657a996bdc
     ]
    }
   ],
   "source": [
    "eaglepassdf = all_tweets(\n",
    "                region =  \"Eagle Pass\",\n",
    "                query = ' ',\n",
    "                since = since,\n",
    "                until = until,\n",
    "                max_tweets = 2000,\n",
    "                location = \"28.709143, -100.499519\",\n",
    "                radius = \"6mi\")"
   ]
  },
  {
   "cell_type": "code",
<<<<<<< HEAD
   "execution_count": null,
   "metadata": {},
   "outputs": [],
=======
<<<<<<< HEAD
   "execution_count": 160,
   "metadata": {},
   "outputs": [
    {
     "name": "stdout",
     "output_type": "stream",
     "text": [
      "<class 'pandas.core.frame.DataFrame'>\n",
      "Int64Index: 2699 entries, 0 to 1137\n",
      "Data columns (total 9 columns):\n",
      " #   Column     Non-Null Count  Dtype              \n",
      "---  ------     --------------  -----              \n",
      " 0   id         2699 non-null   object             \n",
      " 1   text       2699 non-null   object             \n",
      " 2   date       2699 non-null   datetime64[ns, UTC]\n",
      " 3   retweets   2699 non-null   int64              \n",
      " 4   favorites  2699 non-null   int64              \n",
      " 5   mentions   2699 non-null   object             \n",
      " 6   hashtags   2699 non-null   object             \n",
      " 7   geo        2699 non-null   object             \n",
      " 8   region     2699 non-null   object             \n",
      "dtypes: datetime64[ns, UTC](1), int64(2), object(6)\n",
      "memory usage: 210.9+ KB\n"
     ]
    }
   ],
>>>>>>> master
   "source": [
    "eaglepassdf.info()"
   ]
  },
  {
   "cell_type": "code",
<<<<<<< HEAD
=======
   "execution_count": 185,
   "metadata": {},
   "outputs": [
    {
     "data": {
      "text/plain": [
       "id           0\n",
       "text         0\n",
       "date         0\n",
       "retweets     0\n",
       "favorites    0\n",
       "mentions     0\n",
       "hashtags     0\n",
       "geo          0\n",
       "region       0\n",
       "dtype: int64"
      ]
     },
     "execution_count": 185,
     "metadata": {},
     "output_type": "execute_result"
    }
   ],
   "source": [
    "eaglepassdf.isnull().sum()"
   ]
  },
  {
   "cell_type": "code",
   "execution_count": 161,
=======
>>>>>>> master
   "execution_count": 108,
>>>>>>> bf1492607eb6cfa0d096117eb12158657a996bdc
   "metadata": {},
   "outputs": [
    {
     "data": {
      "text/plain": [
<<<<<<< HEAD
       "74"
      ]
     },
     "execution_count": 161,
=======
       "41"
      ]
     },
     "execution_count": 108,
>>>>>>> bf1492607eb6cfa0d096117eb12158657a996bdc
     "metadata": {},
     "output_type": "execute_result"
    }
   ],
   "source": [
    "eaglepass_covid = eaglepassdf['text'].str.contains('covid|coronavirus', flags=re.IGNORECASE, regex=True).sum()\n",
    "eaglepass_covid"
   ]
  },
  {
   "cell_type": "code",
<<<<<<< HEAD
   "execution_count": 13,
=======
<<<<<<< HEAD
   "execution_count": 155,
=======
   "execution_count": 90,
>>>>>>> bf1492607eb6cfa0d096117eb12158657a996bdc
>>>>>>> master
   "metadata": {},
   "outputs": [
    {
     "name": "stdout",
     "output_type": "stream",
     "text": [
<<<<<<< HEAD
      "Index 0: week 2020-08-30 complete at -0.62679123878479 seconds\n",
      "Index 1: week 2020-08-31 complete at -1.354038953781128 seconds\n",
      "Index 2: week 2020-09-01 complete at -2.0228431224823 seconds\n",
      "Index 3: week 2020-09-02 complete at -2.7629010677337646 seconds\n",
      "Index 4: week 2020-09-03 complete at -3.4909720420837402 seconds\n",
      "Index 5: week 2020-09-04 complete at -4.096035003662109 seconds\n",
      "Index 6: week 2020-09-05 complete at -4.857554197311401 seconds\n",
      "Final run time: -4.857725143432617 seconds\n"
=======
<<<<<<< HEAD
      "Index 0: week 2020-08-30 complete at -0.8047060966491699 seconds\n",
      "Index 1: week 2020-08-31 complete at -1.6175851821899414 seconds\n",
      "Index 2: week 2020-09-01 complete at -2.283762216567993 seconds\n",
      "Index 3: week 2020-09-02 complete at -3.05635404586792 seconds\n",
      "Index 4: week 2020-09-03 complete at -3.758852243423462 seconds\n",
      "Index 5: week 2020-09-04 complete at -5.314298152923584 seconds\n",
      "Index 6: week 2020-09-05 complete at -6.9009809494018555 seconds\n",
      "Final run time: -6.901202201843262 seconds\n"
=======
      "Index 0: week 2020-08-30 complete at -0.9207539558410645 seconds\n",
      "Index 1: week 2020-08-31 complete at -1.6947929859161377 seconds\n",
      "Index 2: week 2020-09-01 complete at -2.4162800312042236 seconds\n",
      "Index 3: week 2020-09-02 complete at -2.7574939727783203 seconds\n",
      "Index 4: week 2020-09-032020-09-04 complete at -3.132369041442871 seconds\n",
      "Index 5: week 2020-09-05 complete at -4.98121190071106 seconds\n",
      "Final run time: -4.981454133987427 seconds\n"
>>>>>>> bf1492607eb6cfa0d096117eb12158657a996bdc
>>>>>>> master
     ]
    }
   ],
   "source": [
    "dalhartdf = all_tweets(\n",
    "                region =  \"Dalhart\",\n",
    "                query = ' ',\n",
    "                since = since,\n",
    "                until = until,\n",
    "                max_tweets = 2000,\n",
    "                location = \"36.0565, -102.5178\",\n",
    "                radius = \"5mi\")"
   ]
  },
  {
   "cell_type": "code",
<<<<<<< HEAD
   "execution_count": 15,
=======
<<<<<<< HEAD
   "execution_count": 156,
>>>>>>> master
   "metadata": {},
   "outputs": [
    {
     "name": "stdout",
     "output_type": "stream",
     "text": [
      "<class 'pandas.core.frame.DataFrame'>\n",
<<<<<<< HEAD
      "Int64Index: 51 entries, 0 to 8\n",
      "Data columns (total 9 columns):\n",
      " #   Column     Non-Null Count  Dtype              \n",
      "---  ------     --------------  -----              \n",
      " 0   id         51 non-null     object             \n",
      " 1   text       51 non-null     object             \n",
      " 2   date       51 non-null     datetime64[ns, UTC]\n",
      " 3   retweets   51 non-null     int64              \n",
      " 4   favorites  51 non-null     int64              \n",
      " 5   mentions   51 non-null     object             \n",
      " 6   hashtags   51 non-null     object             \n",
      " 7   geo        51 non-null     object             \n",
      " 8   region     51 non-null     object             \n",
      "dtypes: datetime64[ns, UTC](1), int64(2), object(6)\n",
      "memory usage: 4.0+ KB\n"
=======
      "Int64Index: 110 entries, 0 to 38\n",
      "Data columns (total 9 columns):\n",
      " #   Column     Non-Null Count  Dtype              \n",
      "---  ------     --------------  -----              \n",
      " 0   id         110 non-null    object             \n",
      " 1   text       110 non-null    object             \n",
      " 2   date       110 non-null    datetime64[ns, UTC]\n",
      " 3   retweets   110 non-null    int64              \n",
      " 4   favorites  110 non-null    int64              \n",
      " 5   mentions   110 non-null    object             \n",
      " 6   hashtags   110 non-null    object             \n",
      " 7   geo        110 non-null    object             \n",
      " 8   region     110 non-null    object             \n",
      "dtypes: datetime64[ns, UTC](1), int64(2), object(6)\n",
      "memory usage: 8.6+ KB\n"
>>>>>>> master
     ]
    }
   ],
   "source": [
    "dalhartdf.info()"
   ]
  },
  {
   "cell_type": "code",
<<<<<<< HEAD
=======
   "execution_count": 186,
   "metadata": {},
   "outputs": [
    {
     "data": {
      "text/plain": [
       "id           0\n",
       "text         0\n",
       "date         0\n",
       "retweets     0\n",
       "favorites    0\n",
       "mentions     0\n",
       "hashtags     0\n",
       "geo          0\n",
       "region       0\n",
       "dtype: int64"
      ]
     },
     "execution_count": 186,
     "metadata": {},
     "output_type": "execute_result"
    }
   ],
   "source": [
    "dalhartdf.isnull().sum()"
   ]
  },
  {
   "cell_type": "code",
   "execution_count": 157,
=======
>>>>>>> master
   "execution_count": 91,
>>>>>>> bf1492607eb6cfa0d096117eb12158657a996bdc
   "metadata": {},
   "outputs": [
    {
     "data": {
      "text/plain": [
<<<<<<< HEAD
       "4"
      ]
     },
     "execution_count": 157,
=======
       "1"
      ]
     },
     "execution_count": 91,
>>>>>>> bf1492607eb6cfa0d096117eb12158657a996bdc
     "metadata": {},
     "output_type": "execute_result"
    }
   ],
   "source": [
    "dalhart_covid = dalhartdf['text'].str.contains('covid|coronavirus', flags=re.IGNORECASE, regex=True).sum()\n",
    "dalhart_covid"
   ]
  },
  {
   "cell_type": "code",
<<<<<<< HEAD
   "execution_count": 188,
=======
   "execution_count": 105,
>>>>>>> bf1492607eb6cfa0d096117eb12158657a996bdc
   "metadata": {},
   "outputs": [
    {
     "name": "stdout",
     "output_type": "stream",
     "text": [
<<<<<<< HEAD
      "Index 0: week 2020-08-30 complete at -4.775942802429199 seconds\n",
      "Index 1: week 2020-08-31 complete at -10.396492719650269 seconds\n",
      "Index 2: week 2020-09-01 complete at -14.642585754394531 seconds\n",
      "Index 3: week 2020-09-02 complete at -19.995839834213257 seconds\n",
      "Index 4: week 2020-09-03 complete at -25.38422179222107 seconds\n",
      "Index 5: week 2020-09-04 complete at -33.360588788986206 seconds\n",
      "Index 6: week 2020-09-05 complete at -109.96342182159424 seconds\n",
      "Final run time: -109.96391487121582 seconds\n"
=======
      "Index 0: week 2020-08-30 complete at -5.321972846984863 seconds\n",
      "Index 1: week 2020-08-31 complete at -10.065654039382935 seconds\n",
      "Index 2: week 2020-09-01 complete at -15.618545770645142 seconds\n",
      "Index 3: week 2020-09-02 complete at -15.946345806121826 seconds\n",
      "Index 4: week 2020-09-032020-09-04 complete at -16.29853391647339 seconds\n",
      "Index 5: week 2020-09-05 complete at -87.96019577980042 seconds\n",
      "Final run time: -87.96040773391724 seconds\n"
>>>>>>> bf1492607eb6cfa0d096117eb12158657a996bdc
     ]
    }
   ],
   "source": [
    "rockportdf = all_tweets(\n",
    "                region =  \"Rockport\",\n",
    "                query = ' ',\n",
    "                since = since,\n",
    "                until = until,\n",
    "                max_tweets = 2000,\n",
    "                location = \"28.0253, -97.0500\",\n",
    "                radius = \"20mi\")"
   ]
  },
  {
   "cell_type": "code",
<<<<<<< HEAD
   "execution_count": null,
   "metadata": {},
   "outputs": [],
=======
<<<<<<< HEAD
   "execution_count": 190,
   "metadata": {},
   "outputs": [
    {
     "name": "stdout",
     "output_type": "stream",
     "text": [
      "<class 'pandas.core.frame.DataFrame'>\n",
      "Int64Index: 2778 entries, 0 to 1999\n",
      "Data columns (total 9 columns):\n",
      " #   Column     Non-Null Count  Dtype              \n",
      "---  ------     --------------  -----              \n",
      " 0   id         2778 non-null   object             \n",
      " 1   text       2778 non-null   object             \n",
      " 2   date       2778 non-null   datetime64[ns, UTC]\n",
      " 3   retweets   2778 non-null   int64              \n",
      " 4   favorites  2778 non-null   int64              \n",
      " 5   mentions   2778 non-null   object             \n",
      " 6   hashtags   2778 non-null   object             \n",
      " 7   geo        2778 non-null   object             \n",
      " 8   region     2778 non-null   object             \n",
      "dtypes: datetime64[ns, UTC](1), int64(2), object(6)\n",
      "memory usage: 217.0+ KB\n"
     ]
    }
   ],
>>>>>>> master
   "source": [
    "rockportdf.info()"
   ]
  },
  {
   "cell_type": "code",
<<<<<<< HEAD
=======
   "execution_count": 189,
=======
>>>>>>> master
   "execution_count": 106,
>>>>>>> bf1492607eb6cfa0d096117eb12158657a996bdc
   "metadata": {},
   "outputs": [
    {
     "data": {
      "text/plain": [
<<<<<<< HEAD
       "id           0\n",
       "text         0\n",
       "date         0\n",
       "retweets     0\n",
       "favorites    0\n",
       "mentions     0\n",
       "hashtags     0\n",
       "geo          0\n",
       "region       0\n",
       "dtype: int64"
      ]
     },
     "execution_count": 189,
=======
       "11"
      ]
     },
     "execution_count": 106,
>>>>>>> bf1492607eb6cfa0d096117eb12158657a996bdc
     "metadata": {},
     "output_type": "execute_result"
    }
   ],
   "source": [
<<<<<<< HEAD
    "rockportdf.isnull().sum()"
=======
    "rockport_covid = rockportdf['text'].str.contains('covid|coronavirus', flags=re.IGNORECASE, regex=True).sum()\n",
    "rockport_covid"
>>>>>>> bf1492607eb6cfa0d096117eb12158657a996bdc
   ]
<<<<<<< HEAD
=======
  },
  {
   "cell_type": "code",
<<<<<<< HEAD
   "execution_count": 171,
   "metadata": {},
   "outputs": [
    {
     "data": {
      "text/plain": [
       "11"
      ]
     },
     "execution_count": 171,
     "metadata": {},
     "output_type": "execute_result"
    }
   ],
   "source": [
    "rockport_covid = rockportdf['text'].str.contains('covid|coronavirus', flags=re.IGNORECASE, regex=True).sum()\n",
    "rockport_covid"
=======
   "execution_count": 96,
   "metadata": {},
   "outputs": [
    {
     "name": "stdout",
     "output_type": "stream",
     "text": [
      "<class 'pandas.core.frame.DataFrame'>\n",
      "Int64Index: 220 entries, 0 to 216\n",
      "Data columns (total 9 columns):\n",
      " #   Column     Non-Null Count  Dtype              \n",
      "---  ------     --------------  -----              \n",
      " 0   id         220 non-null    object             \n",
      " 1   text       220 non-null    object             \n",
      " 2   date       220 non-null    datetime64[ns, UTC]\n",
      " 3   retweets   220 non-null    int64              \n",
      " 4   favorites  220 non-null    int64              \n",
      " 5   mentions   220 non-null    object             \n",
      " 6   hashtags   220 non-null    object             \n",
      " 7   geo        220 non-null    object             \n",
      " 8   region     220 non-null    object             \n",
      "dtypes: datetime64[ns, UTC](1), int64(2), object(6)\n",
      "memory usage: 17.2+ KB\n"
     ]
    }
   ],
   "source": [
    "perrytondf.info()"
>>>>>>> bf1492607eb6cfa0d096117eb12158657a996bdc
   ]
  },
  {
   "cell_type": "code",
   "execution_count": null,
   "metadata": {},
   "outputs": [],
   "source": []
>>>>>>> master
  }
 ],
 "metadata": {
  "kernelspec": {
   "display_name": "Python 3",
   "language": "python",
   "name": "python3"
  },
  "language_info": {
   "codemirror_mode": {
    "name": "ipython",
    "version": 3
   },
   "file_extension": ".py",
   "mimetype": "text/x-python",
   "name": "python",
   "nbconvert_exporter": "python",
   "pygments_lexer": "ipython3",
   "version": "3.7.7"
  }
 },
 "nbformat": 4,
 "nbformat_minor": 4
}
