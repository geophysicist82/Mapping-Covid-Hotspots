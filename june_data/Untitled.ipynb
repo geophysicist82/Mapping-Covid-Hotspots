{
 "cells": [
  {
   "cell_type": "code",
   "execution_count": 5,
   "metadata": {},
   "outputs": [],
   "source": [
    "import pandas as pd\n",
    "import matplotlib.pyplot as plt\n",
    "import re"
   ]
  },
  {
   "cell_type": "code",
   "execution_count": 8,
   "metadata": {},
   "outputs": [],
   "source": [
    "df = pd.read_csv('06-01.csv')"
   ]
  },
  {
   "cell_type": "code",
   "execution_count": 9,
   "metadata": {},
   "outputs": [
    {
     "data": {
      "text/html": [
       "<div>\n",
       "<style scoped>\n",
       "    .dataframe tbody tr th:only-of-type {\n",
       "        vertical-align: middle;\n",
       "    }\n",
       "\n",
       "    .dataframe tbody tr th {\n",
       "        vertical-align: top;\n",
       "    }\n",
       "\n",
       "    .dataframe thead th {\n",
       "        text-align: right;\n",
       "    }\n",
       "</style>\n",
       "<table border=\"1\" class=\"dataframe\">\n",
       "  <thead>\n",
       "    <tr style=\"text-align: right;\">\n",
       "      <th></th>\n",
       "      <th>date</th>\n",
       "      <th>username</th>\n",
       "      <th>to</th>\n",
       "      <th>replies</th>\n",
       "      <th>retweets</th>\n",
       "      <th>favorites</th>\n",
       "      <th>text</th>\n",
       "      <th>geo</th>\n",
       "      <th>mentions</th>\n",
       "      <th>hashtags</th>\n",
       "      <th>id</th>\n",
       "      <th>permalink</th>\n",
       "    </tr>\n",
       "  </thead>\n",
       "  <tbody>\n",
       "    <tr>\n",
       "      <th>0</th>\n",
       "      <td>2020-06-01 23:51:40</td>\n",
       "      <td>indexnld</td>\n",
       "      <td>NaN</td>\n",
       "      <td>0</td>\n",
       "      <td>1</td>\n",
       "      <td>0</td>\n",
       "      <td>Actualización status COVID-19: Nuevo Laredo: L...</td>\n",
       "      <td>NaN</td>\n",
       "      <td>NaN</td>\n",
       "      <td>#COVID19mexico #NLD #indexnld</td>\n",
       "      <td>1267604759201996801</td>\n",
       "      <td>https://twitter.com/indexnld/status/1267604759...</td>\n",
       "    </tr>\n",
       "    <tr>\n",
       "      <th>1</th>\n",
       "      <td>2020-06-01 23:51:22</td>\n",
       "      <td>Just_GoogleME</td>\n",
       "      <td>NaN</td>\n",
       "      <td>1</td>\n",
       "      <td>25</td>\n",
       "      <td>18</td>\n",
       "      <td>Yesterday the state of Texas reported 1,949 CO...</td>\n",
       "      <td>NaN</td>\n",
       "      <td>NaN</td>\n",
       "      <td>NaN</td>\n",
       "      <td>1267604686875623429</td>\n",
       "      <td>https://twitter.com/Just_GoogleME/status/12676...</td>\n",
       "    </tr>\n",
       "    <tr>\n",
       "      <th>2</th>\n",
       "      <td>2020-06-01 23:46:11</td>\n",
       "      <td>PonderthisPond1</td>\n",
       "      <td>chuckwoolery</td>\n",
       "      <td>0</td>\n",
       "      <td>0</td>\n",
       "      <td>1</td>\n",
       "      <td>HUGE WIN!!!!! Texas Supreme Court reverses de...</td>\n",
       "      <td>NaN</td>\n",
       "      <td>NaN</td>\n",
       "      <td>NaN</td>\n",
       "      <td>1267603380307783680</td>\n",
       "      <td>https://twitter.com/PonderthisPond1/status/126...</td>\n",
       "    </tr>\n",
       "    <tr>\n",
       "      <th>3</th>\n",
       "      <td>2020-06-01 23:45:00</td>\n",
       "      <td>theeagle</td>\n",
       "      <td>NaN</td>\n",
       "      <td>0</td>\n",
       "      <td>0</td>\n",
       "      <td>1</td>\n",
       "      <td>An expert from the Texas A&amp;amp;M School of Pub...</td>\n",
       "      <td>NaN</td>\n",
       "      <td>NaN</td>\n",
       "      <td>NaN</td>\n",
       "      <td>1267603081619017734</td>\n",
       "      <td>https://twitter.com/theeagle/status/1267603081...</td>\n",
       "    </tr>\n",
       "    <tr>\n",
       "      <th>4</th>\n",
       "      <td>2020-06-01 23:40:37</td>\n",
       "      <td>hcassidy73</td>\n",
       "      <td>NaN</td>\n",
       "      <td>0</td>\n",
       "      <td>0</td>\n",
       "      <td>1</td>\n",
       "      <td>In places like Oklahoma, Texas and Virginia, O...</td>\n",
       "      <td>NaN</td>\n",
       "      <td>NaN</td>\n",
       "      <td>NaN</td>\n",
       "      <td>1267601980442238977</td>\n",
       "      <td>https://twitter.com/hcassidy73/status/12676019...</td>\n",
       "    </tr>\n",
       "  </tbody>\n",
       "</table>\n",
       "</div>"
      ],
      "text/plain": [
       "                  date         username            to  replies  retweets  \\\n",
       "0  2020-06-01 23:51:40         indexnld           NaN        0         1   \n",
       "1  2020-06-01 23:51:22    Just_GoogleME           NaN        1        25   \n",
       "2  2020-06-01 23:46:11  PonderthisPond1  chuckwoolery        0         0   \n",
       "3  2020-06-01 23:45:00         theeagle           NaN        0         0   \n",
       "4  2020-06-01 23:40:37       hcassidy73           NaN        0         0   \n",
       "\n",
       "   favorites                                               text  geo mentions  \\\n",
       "0          0  Actualización status COVID-19: Nuevo Laredo: L...  NaN      NaN   \n",
       "1         18  Yesterday the state of Texas reported 1,949 CO...  NaN      NaN   \n",
       "2          1   HUGE WIN!!!!! Texas Supreme Court reverses de...  NaN      NaN   \n",
       "3          1  An expert from the Texas A&amp;M School of Pub...  NaN      NaN   \n",
       "4          1  In places like Oklahoma, Texas and Virginia, O...  NaN      NaN   \n",
       "\n",
       "                        hashtags                   id  \\\n",
       "0  #COVID19mexico #NLD #indexnld  1267604759201996801   \n",
       "1                            NaN  1267604686875623429   \n",
       "2                            NaN  1267603380307783680   \n",
       "3                            NaN  1267603081619017734   \n",
       "4                            NaN  1267601980442238977   \n",
       "\n",
       "                                           permalink  \n",
       "0  https://twitter.com/indexnld/status/1267604759...  \n",
       "1  https://twitter.com/Just_GoogleME/status/12676...  \n",
       "2  https://twitter.com/PonderthisPond1/status/126...  \n",
       "3  https://twitter.com/theeagle/status/1267603081...  \n",
       "4  https://twitter.com/hcassidy73/status/12676019...  "
      ]
     },
     "execution_count": 9,
     "metadata": {},
     "output_type": "execute_result"
    }
   ],
   "source": [
    "df.head()"
   ]
  },
  {
   "cell_type": "code",
   "execution_count": 10,
   "metadata": {},
   "outputs": [
    {
     "data": {
      "text/plain": [
       "date          object\n",
       "username      object\n",
       "to            object\n",
       "replies        int64\n",
       "retweets       int64\n",
       "favorites      int64\n",
       "text          object\n",
       "geo          float64\n",
       "mentions      object\n",
       "hashtags      object\n",
       "id             int64\n",
       "permalink     object\n",
       "dtype: object"
      ]
     },
     "execution_count": 10,
     "metadata": {},
     "output_type": "execute_result"
    }
   ],
   "source": [
    "df.dtypes\n",
    "#regular expression dallas or area\n",
    "#keep anything that mentions dallas\n",
    "#drop everything else\n",
    "#"
   ]
  },
  {
   "cell_type": "code",
   "execution_count": null,
   "metadata": {},
   "outputs": [],
   "source": []
  }
 ],
 "metadata": {
  "kernelspec": {
   "display_name": "Python 3",
   "language": "python",
   "name": "python3"
  },
  "language_info": {
   "codemirror_mode": {
    "name": "ipython",
    "version": 3
   },
   "file_extension": ".py",
   "mimetype": "text/x-python",
   "name": "python",
   "nbconvert_exporter": "python",
   "pygments_lexer": "ipython3",
   "version": "3.7.6"
  }
 },
 "nbformat": 4,
 "nbformat_minor": 4
}
