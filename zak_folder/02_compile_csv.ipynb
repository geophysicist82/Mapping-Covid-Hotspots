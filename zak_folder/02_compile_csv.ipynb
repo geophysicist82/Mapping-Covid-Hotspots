{
 "cells": [
  {
   "cell_type": "code",
   "execution_count": 16,
   "metadata": {},
   "outputs": [],
   "source": [
    "import numpy as np\n",
    "import pandas as pd\n",
    "from os import listdir\n",
    "from os.path import isfile, join"
   ]
  },
  {
   "cell_type": "code",
   "execution_count": 18,
   "metadata": {},
   "outputs": [],
   "source": [
    "files = [f for f in listdir(\"zak_data\") if isfile(join(\"zak_data\", f))]"
   ]
  },
  {
   "cell_type": "code",
   "execution_count": 19,
   "metadata": {},
   "outputs": [
    {
     "data": {
      "text/plain": [
       "['2020-05-24.csv',\n",
       " '2020-05-31.csv',\n",
       " '2020-07-19.csv',\n",
       " '2020-07-26.csv',\n",
       " '2020-04-05.csv',\n",
       " '2020-06-28.csv',\n",
       " '2020-06-14.csv',\n",
       " '2020-04-12.csv',\n",
       " '2020-08-16.csv',\n",
       " '2020-08-02.csv',\n",
       " '2020-06-07.csv',\n",
       " '2020-03-22.csv',\n",
       " '2020-03-08.csv',\n",
       " '2020-04-19.csv',\n",
       " '2020-08-30.csv',\n",
       " '2020-06-21.csv',\n",
       " '2020-04-26.csv',\n",
       " '2020-08-23.csv',\n",
       " '2020-03-01.csv',\n",
       " '2020-03-15.csv',\n",
       " '2020-03-29.csv',\n",
       " '2020-08-09.csv',\n",
       " '2020-05-10.csv',\n",
       " '2020-07-05.csv',\n",
       " '2020-05-03.csv',\n",
       " '2020-05-17.csv',\n",
       " '2020-07-12.csv']"
      ]
     },
     "execution_count": 19,
     "metadata": {},
     "output_type": "execute_result"
    }
   ],
   "source": [
    "files"
   ]
  },
  {
   "cell_type": "code",
   "execution_count": 13,
   "metadata": {},
   "outputs": [],
   "source": [
    "test_df = pd.read_csv(\"zak_data/2020-03-08.csv\")"
   ]
  },
  {
   "cell_type": "code",
   "execution_count": 14,
   "metadata": {},
   "outputs": [
    {
     "data": {
      "text/html": [
       "<div>\n",
       "<style scoped>\n",
       "    .dataframe tbody tr th:only-of-type {\n",
       "        vertical-align: middle;\n",
       "    }\n",
       "\n",
       "    .dataframe tbody tr th {\n",
       "        vertical-align: top;\n",
       "    }\n",
       "\n",
       "    .dataframe thead th {\n",
       "        text-align: right;\n",
       "    }\n",
       "</style>\n",
       "<table border=\"1\" class=\"dataframe\">\n",
       "  <thead>\n",
       "    <tr style=\"text-align: right;\">\n",
       "      <th></th>\n",
       "      <th>date</th>\n",
       "      <th>user</th>\n",
       "      <th>text</th>\n",
       "      <th>retweets</th>\n",
       "      <th>favorites</th>\n",
       "      <th>mentions</th>\n",
       "      <th>hashtags</th>\n",
       "      <th>geolocation</th>\n",
       "    </tr>\n",
       "  </thead>\n",
       "  <tbody>\n",
       "    <tr>\n",
       "      <th>0</th>\n",
       "      <td>2020-03-14 23:50:33+00:00</td>\n",
       "      <td>BryanMancia</td>\n",
       "      <td>All perreo activities are postponed this weeke...</td>\n",
       "      <td>0</td>\n",
       "      <td>0</td>\n",
       "      <td>NaN</td>\n",
       "      <td>NaN</td>\n",
       "      <td>NaN</td>\n",
       "    </tr>\n",
       "  </tbody>\n",
       "</table>\n",
       "</div>"
      ],
      "text/plain": [
       "                        date         user  \\\n",
       "0  2020-03-14 23:50:33+00:00  BryanMancia   \n",
       "\n",
       "                                                text  retweets  favorites  \\\n",
       "0  All perreo activities are postponed this weeke...         0          0   \n",
       "\n",
       "  mentions hashtags  geolocation  \n",
       "0      NaN      NaN          NaN  "
      ]
     },
     "execution_count": 14,
     "metadata": {},
     "output_type": "execute_result"
    }
   ],
   "source": [
    "test_df.head(1)"
   ]
  },
  {
   "cell_type": "code",
   "execution_count": 20,
   "metadata": {},
   "outputs": [],
   "source": [
    "final_df = pd.DataFrame()\n",
    "for f in files:\n",
    "    df = pd.read_csv(\"zak_data/\" + f)\n",
    "    final_df = pd.concat([final_df,df])"
   ]
  },
  {
   "cell_type": "code",
   "execution_count": 21,
   "metadata": {},
   "outputs": [
    {
     "data": {
      "text/plain": [
       "(24474, 8)"
      ]
     },
     "execution_count": 21,
     "metadata": {},
     "output_type": "execute_result"
    }
   ],
   "source": [
    "final_df.shape"
   ]
  },
  {
   "cell_type": "code",
   "execution_count": null,
   "metadata": {},
   "outputs": [],
   "source": []
  }
 ],
 "metadata": {
  "kernelspec": {
   "display_name": "Python 3",
   "language": "python",
   "name": "python3"
  },
  "language_info": {
   "codemirror_mode": {
    "name": "ipython",
    "version": 3
   },
   "file_extension": ".py",
   "mimetype": "text/x-python",
   "name": "python",
   "nbconvert_exporter": "python",
   "pygments_lexer": "ipython3",
   "version": "3.7.7"
  }
 },
 "nbformat": 4,
 "nbformat_minor": 4
}
